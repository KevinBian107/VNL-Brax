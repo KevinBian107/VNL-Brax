{
 "cells": [
  {
   "cell_type": "markdown",
   "id": "e522e226576607c",
   "metadata": {
    "collapsed": false,
    "jupyter": {
     "outputs_hidden": false
    }
   },
   "source": [
    "## Imports"
   ]
  },
  {
   "cell_type": "code",
   "execution_count": 1,
   "id": "initial_id",
   "metadata": {
    "ExecuteTime": {
     "end_time": "2024-01-07T23:24:29.200325510Z",
     "start_time": "2024-01-07T23:24:28.080429452Z"
    }
   },
   "outputs": [],
   "source": [
    "import numpy as np\n",
    "\n",
    "from datetime import datetime\n",
    "import functools\n",
    "from IPython.display import HTML\n",
    "import jax\n",
    "from jax import numpy as jp\n",
    "import numpy as np\n",
    "from typing import Any, Dict, Sequence, Tuple, Union\n",
    "import wandb\n",
    "\n",
    "from brax import base\n",
    "from brax import envs\n",
    "from brax import math\n",
    "from brax.base import Base, Motion, Transform\n",
    "from brax.envs.base import Env, MjxEnv, State\n",
    "from brax.mjx.base import State as MjxState\n",
    "from brax.training.agents.ppo import train as ppo\n",
    "from brax.training.agents.ppo import networks as ppo_networks\n",
    "from brax.io import html, mjcf, model\n",
    "\n",
    "from etils import epath\n",
    "from flax import struct\n",
    "from matplotlib import pyplot as plt\n",
    "import mediapy as media\n",
    "from ml_collections import config_dict\n",
    "import mujoco\n",
    "from mujoco import mjx\n",
    "\n",
    "import yaml\n",
    "from typing import List, Dict, Text"
   ]
  },
  {
   "cell_type": "markdown",
   "id": "a299caada632eabb",
   "metadata": {
    "collapsed": false,
    "jupyter": {
     "outputs_hidden": false
    }
   },
   "source": [
    "## Load the model"
   ]
  },
  {
   "cell_type": "markdown",
   "id": "d92887b1",
   "metadata": {},
   "source": [
    "## Load the Simplified Rodent\n",
    "\n",
    "The following code loads the simplified rodent with the modified xml file."
   ]
  },
  {
   "cell_type": "code",
   "execution_count": 2,
   "id": "0ccba8d6",
   "metadata": {},
   "outputs": [],
   "source": [
    "class SimpleRodent(MjxEnv):\n",
    "    \n",
    "    # Might want to change the terminate_when_unhealthy params to enables\n",
    "    # longer episode length, since the average episode length is too short (1 timestep)\n",
    "    # temp change the `terminate_when_unhealthy` to extend the episode length.\n",
    "    def __init__(\n",
    "            self,\n",
    "            forward_reward_weight=5,\n",
    "            ctrl_cost_weight=0.1,\n",
    "            healthy_reward=1.0,\n",
    "            terminate_when_unhealthy=False,\n",
    "            healthy_z_range=(0.0, 2.0),\n",
    "            reset_noise_scale=1e-2,\n",
    "            exclude_current_positions_from_observation=False,\n",
    "            **kwargs,\n",
    "    ):\n",
    "        mj_model = mujoco.MjModel.from_xml_path(\"./models/only_arms_rodent.xml\")\n",
    "        mj_model.opt.solver = mujoco.mjtSolver.mjSOL_CG\n",
    "        mj_model.opt.iterations = 6\n",
    "        mj_model.opt.ls_iterations = 6\n",
    "\n",
    "        physics_steps_per_control_step = 5\n",
    "        kwargs['n_frames'] = kwargs.get(\n",
    "            'n_frames', physics_steps_per_control_step)\n",
    "\n",
    "        super().__init__(model=mj_model, **kwargs)\n",
    "\n",
    "        self._forward_reward_weight = forward_reward_weight\n",
    "        self._ctrl_cost_weight = ctrl_cost_weight\n",
    "        self._healthy_reward = healthy_reward\n",
    "        self._terminate_when_unhealthy = terminate_when_unhealthy\n",
    "        self._healthy_z_range = healthy_z_range\n",
    "        self._reset_noise_scale = reset_noise_scale\n",
    "        self._exclude_current_positions_from_observation = (\n",
    "            exclude_current_positions_from_observation\n",
    "        )\n",
    "\n",
    "    def reset(self, rng: jp.ndarray) -> State:\n",
    "        \"\"\"Resets the environment to an initial state.\"\"\"\n",
    "        rng, rng1, rng2 = jax.random.split(rng, 3)\n",
    "\n",
    "        low, hi = -self._reset_noise_scale, self._reset_noise_scale\n",
    "        qpos = self.sys.qpos0 + jax.random.uniform(\n",
    "            rng1, (self.sys.nq,), minval=low, maxval=hi\n",
    "        )\n",
    "        qvel = jax.random.uniform(\n",
    "            rng2, (self.sys.nv,), minval=low, maxval=hi\n",
    "        )\n",
    "\n",
    "        data = self.pipeline_init(qpos, qvel)\n",
    "\n",
    "        obs = self._get_obs(data.data, jp.zeros(self.sys.nu))\n",
    "        reward, done, zero = jp.zeros(3)\n",
    "        metrics = {\n",
    "            'forward_reward': zero,\n",
    "            'reward_linvel': zero,\n",
    "            'reward_quadctrl': zero,\n",
    "            'reward_alive': zero,\n",
    "            'x_position': zero,\n",
    "            'y_position': zero,\n",
    "            'distance_from_origin': zero,\n",
    "            'x_velocity': zero,\n",
    "            'y_velocity': zero,\n",
    "        }\n",
    "        return State(data, obs, reward, done, metrics)\n",
    "\n",
    "    def step(self, state: State, action: jp.ndarray) -> State:\n",
    "        \"\"\"Runs one timestep of the environment's dynamics.\"\"\"\n",
    "        data0 = state.pipeline_state\n",
    "        data = self.pipeline_step(data0, action)\n",
    "        # based on the timestep simulation, calculate the rewards\n",
    "        com_before = data0.data.subtree_com[1]\n",
    "        com_after = data.data.subtree_com[1]\n",
    "        velocity = (com_after - com_before) / self.dt\n",
    "        forward_reward = self._forward_reward_weight * velocity[0]\n",
    "\n",
    "        min_z, max_z = self._healthy_z_range\n",
    "        is_healthy = jp.where(data.q[2] < min_z, 0.0, 1.0)\n",
    "        is_healthy = jp.where(data.q[2] > max_z, 0.0, is_healthy)\n",
    "        if self._terminate_when_unhealthy:\n",
    "            healthy_reward = self._healthy_reward\n",
    "        else:\n",
    "            healthy_reward = self._healthy_reward * is_healthy\n",
    "\n",
    "        ctrl_cost = self._ctrl_cost_weight * jp.sum(jp.square(action))\n",
    "\n",
    "        obs = self._get_obs(data.data, action)\n",
    "        reward = forward_reward + healthy_reward - ctrl_cost\n",
    "        # terminates when unhealthy\n",
    "        done = 1.0 - is_healthy if self._terminate_when_unhealthy else 0.0\n",
    "        state.metrics.update(\n",
    "            forward_reward=forward_reward,\n",
    "            reward_linvel=forward_reward,\n",
    "            reward_quadctrl=-ctrl_cost,\n",
    "            reward_alive=healthy_reward,\n",
    "            x_position=com_after[0],\n",
    "            y_position=com_after[1],\n",
    "            distance_from_origin=jp.linalg.norm(com_after),\n",
    "            x_velocity=velocity[0],\n",
    "            y_velocity=velocity[1],\n",
    "        )\n",
    "\n",
    "        return state.replace(\n",
    "            pipeline_state=data, obs=obs, reward=reward, done=done\n",
    "        )\n",
    "\n",
    "    def _get_obs(\n",
    "            self, data: mjx.Data, action: jp.ndarray\n",
    "    ) -> jp.ndarray:\n",
    "        \"\"\"Observes humanoid body position, velocities, and angles.\"\"\"\n",
    "        position = data.qpos\n",
    "        if self._exclude_current_positions_from_observation:\n",
    "            position = position[2:]\n",
    "            \n",
    "        # external_contact_forces are excluded\n",
    "        return jp.concatenate([\n",
    "            position,\n",
    "            data.qvel,\n",
    "            data.cinert[1:].ravel(),\n",
    "            data.cvel[1:].ravel(),\n",
    "            data.qfrc_actuator,\n",
    "        ])\n"
   ]
  },
  {
   "cell_type": "code",
   "execution_count": 3,
   "id": "17aad702",
   "metadata": {},
   "outputs": [],
   "source": [
    "envs.register_environment('simple_rodent', SimpleRodent)"
   ]
  },
  {
   "cell_type": "code",
   "execution_count": 7,
   "id": "a34fd2fb",
   "metadata": {},
   "outputs": [],
   "source": [
    "env_name = 'simple_rodent'\n",
    "env = envs.get_environment(env_name)"
   ]
  },
  {
   "cell_type": "markdown",
   "id": "77964ef9",
   "metadata": {},
   "source": [
    "## Render the Env to see what kind of monster I created."
   ]
  },
  {
   "cell_type": "code",
   "execution_count": 8,
   "id": "29ff3c52",
   "metadata": {},
   "outputs": [],
   "source": [
    "# instantiate the environment\n",
    "# env_name = 'headless_rodent'\n",
    "# env = envs.get_environment(env_name)\n",
    "\n",
    "env_name = 'simple_rodent'\n",
    "env = envs.get_environment(env_name)\n",
    "\n",
    "# define the jit reset/step functions\n",
    "jit_reset = jax.jit(env.reset)\n",
    "jit_step = jax.jit(env.step)"
   ]
  },
  {
   "cell_type": "code",
   "execution_count": 9,
   "id": "9b0d9588",
   "metadata": {},
   "outputs": [
    {
     "name": "stderr",
     "output_type": "stream",
     "text": [
      "100%|██████████| 200/200 [00:10<00:00, 19.59it/s] \n"
     ]
    },
    {
     "data": {
      "text/html": [
       "<table class=\"show_videos\" style=\"border-spacing:0px;\"><tr><td style=\"padding:1px;\"><video controls width=\"320\" height=\"240\" style=\"object-fit:cover;\" loop autoplay muted>\n",
       "      <source src=\"data:video/mp4;base64,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\" type=\"video/mp4\"/>\n",
       "      This browser does not support the video tag.\n",
       "      </video></td></tr></table>"
      ],
      "text/plain": [
       "<IPython.core.display.HTML object>"
      ]
     },
     "metadata": {},
     "output_type": "display_data"
    }
   ],
   "source": [
    "from tqdm import tqdm\n",
    "# initialize the state\n",
    "state = jit_reset(jax.random.PRNGKey(5))\n",
    "rollout = [state.pipeline_state]\n",
    "frames = []\n",
    "\n",
    "# grab a trajectory\n",
    "for i in tqdm(range(200)):\n",
    "  ctrl = -0.1 * jp.ones(env.sys.nu)\n",
    "  state = jit_step(state, ctrl)\n",
    "  rollout.append(state.pipeline_state)\n",
    "\n",
    "media.show_video(env.render(rollout, camera='side'), fps=1.0 / env.dt)"
   ]
  },
  {
   "cell_type": "markdown",
   "id": "b7f036e22165a894",
   "metadata": {
    "collapsed": false,
    "jupyter": {
     "outputs_hidden": false
    }
   },
   "source": [
    "## training loop"
   ]
  },
  {
   "cell_type": "code",
   "execution_count": 5,
   "id": "18840c74ea1dce43",
   "metadata": {
    "ExecuteTime": {
     "start_time": "2024-01-07T23:24:29.909178299Z"
    },
    "collapsed": false,
    "is_executing": true,
    "jupyter": {
     "outputs_hidden": false
    }
   },
   "outputs": [
    {
     "name": "stderr",
     "output_type": "stream",
     "text": [
      "\u001b[34m\u001b[1mwandb\u001b[0m: Currently logged in as: \u001b[33myuy004\u001b[0m. Use \u001b[1m`wandb login --relogin`\u001b[0m to force relogin\n"
     ]
    },
    {
     "data": {
      "text/html": [
       "Tracking run with wandb version 0.16.1"
      ],
      "text/plain": [
       "<IPython.core.display.HTML object>"
      ]
     },
     "metadata": {},
     "output_type": "display_data"
    },
    {
     "data": {
      "text/html": [
       "Run data is saved locally in <code>/home/talmolab/Desktop/Salk-Research/online_training/wandb/run-20240108_110354-i72dwl5y</code>"
      ],
      "text/plain": [
       "<IPython.core.display.HTML object>"
      ]
     },
     "metadata": {},
     "output_type": "display_data"
    },
    {
     "data": {
      "text/html": [
       "Syncing run <strong><a href='https://wandb.ai/yuy004/vnl/runs/i72dwl5y' target=\"_blank\">cosmic-dream-18</a></strong> to <a href='https://wandb.ai/yuy004/vnl' target=\"_blank\">Weights & Biases</a> (<a href='https://wandb.me/run' target=\"_blank\">docs</a>)<br/>"
      ],
      "text/plain": [
       "<IPython.core.display.HTML object>"
      ]
     },
     "metadata": {},
     "output_type": "display_data"
    },
    {
     "data": {
      "text/html": [
       " View project at <a href='https://wandb.ai/yuy004/vnl' target=\"_blank\">https://wandb.ai/yuy004/vnl</a>"
      ],
      "text/plain": [
       "<IPython.core.display.HTML object>"
      ]
     },
     "metadata": {},
     "output_type": "display_data"
    },
    {
     "data": {
      "text/html": [
       " View run at <a href='https://wandb.ai/yuy004/vnl/runs/i72dwl5y' target=\"_blank\">https://wandb.ai/yuy004/vnl/runs/i72dwl5y</a>"
      ],
      "text/plain": [
       "<IPython.core.display.HTML object>"
      ]
     },
     "metadata": {},
     "output_type": "display_data"
    },
    {
     "name": "stderr",
     "output_type": "stream",
     "text": [
      "2024-01-08 11:19:03.220956: W external/tsl/tsl/framework/bfc_allocator.cc:296] Allocator (GPU_0_bfc) ran out of memory trying to allocate 4.06GiB with freed_by_count=0. The caller indicates that this is not a failure, but this may mean that there could be performance gains if more memory were available.\n"
     ]
    },
    {
     "ename": "XlaRuntimeError",
     "evalue": "RESOURCE_EXHAUSTED: Out of memory while trying to allocate 4358373376 bytes.",
     "output_type": "error",
     "traceback": [
      "\u001b[0;31m---------------------------------------------------------------------------\u001b[0m",
      "\u001b[0;31mXlaRuntimeError\u001b[0m                           Traceback (most recent call last)",
      "Cell \u001b[0;32mIn[5], line 46\u001b[0m\n\u001b[1;32m     42\u001b[0m     metrics[\u001b[38;5;124m\"\u001b[39m\u001b[38;5;124mnum_steps\u001b[39m\u001b[38;5;124m\"\u001b[39m] \u001b[38;5;241m=\u001b[39m num_steps\n\u001b[1;32m     43\u001b[0m     wandb\u001b[38;5;241m.\u001b[39mlog(metrics)\n\u001b[0;32m---> 46\u001b[0m make_inference_fn, params, _\u001b[38;5;241m=\u001b[39m \u001b[43mtrain_fn\u001b[49m\u001b[43m(\u001b[49m\u001b[43menvironment\u001b[49m\u001b[38;5;241;43m=\u001b[39;49m\u001b[43menv\u001b[49m\u001b[43m,\u001b[49m\u001b[43m \u001b[49m\u001b[43mprogress_fn\u001b[49m\u001b[38;5;241;43m=\u001b[39;49m\u001b[43mwandb_progress\u001b[49m\u001b[43m)\u001b[49m\n",
      "File \u001b[0;32m~/anaconda3/envs/stac-mjx/lib/python3.12/site-packages/brax/training/agents/ppo/train.py:423\u001b[0m, in \u001b[0;36mtrain\u001b[0;34m(environment, num_timesteps, episode_length, action_repeat, num_envs, max_devices_per_host, num_eval_envs, learning_rate, entropy_cost, discounting, seed, unroll_length, batch_size, num_minibatches, num_updates_per_batch, num_evals, num_resets_per_eval, normalize_observations, reward_scaling, clipping_epsilon, gae_lambda, deterministic_eval, network_factory, progress_fn, normalize_advantage, eval_env, policy_params_fn, randomization_fn)\u001b[0m\n\u001b[1;32m    420\u001b[0m epoch_key, local_key \u001b[38;5;241m=\u001b[39m jax\u001b[38;5;241m.\u001b[39mrandom\u001b[38;5;241m.\u001b[39msplit(local_key)\n\u001b[1;32m    421\u001b[0m epoch_keys \u001b[38;5;241m=\u001b[39m jax\u001b[38;5;241m.\u001b[39mrandom\u001b[38;5;241m.\u001b[39msplit(epoch_key, local_devices_to_use)\n\u001b[1;32m    422\u001b[0m (training_state, env_state, training_metrics) \u001b[38;5;241m=\u001b[39m (\n\u001b[0;32m--> 423\u001b[0m     \u001b[43mtraining_epoch_with_timing\u001b[49m\u001b[43m(\u001b[49m\u001b[43mtraining_state\u001b[49m\u001b[43m,\u001b[49m\u001b[43m \u001b[49m\u001b[43menv_state\u001b[49m\u001b[43m,\u001b[49m\u001b[43m \u001b[49m\u001b[43mepoch_keys\u001b[49m\u001b[43m)\u001b[49m\n\u001b[1;32m    424\u001b[0m )\n\u001b[1;32m    425\u001b[0m current_step \u001b[38;5;241m=\u001b[39m \u001b[38;5;28mint\u001b[39m(_unpmap(training_state\u001b[38;5;241m.\u001b[39menv_steps))\n\u001b[1;32m    427\u001b[0m key_envs \u001b[38;5;241m=\u001b[39m jax\u001b[38;5;241m.\u001b[39mvmap(\n\u001b[1;32m    428\u001b[0m     \u001b[38;5;28;01mlambda\u001b[39;00m x, s: jax\u001b[38;5;241m.\u001b[39mrandom\u001b[38;5;241m.\u001b[39msplit(x[\u001b[38;5;241m0\u001b[39m], s),\n\u001b[1;32m    429\u001b[0m     in_axes\u001b[38;5;241m=\u001b[39m(\u001b[38;5;241m0\u001b[39m, \u001b[38;5;28;01mNone\u001b[39;00m))(key_envs, key_envs\u001b[38;5;241m.\u001b[39mshape[\u001b[38;5;241m1\u001b[39m])\n",
      "File \u001b[0;32m~/anaconda3/envs/stac-mjx/lib/python3.12/site-packages/brax/training/agents/ppo/train.py:350\u001b[0m, in \u001b[0;36mtrain.<locals>.training_epoch_with_timing\u001b[0;34m(training_state, env_state, key)\u001b[0m\n\u001b[1;32m    348\u001b[0m t \u001b[38;5;241m=\u001b[39m time\u001b[38;5;241m.\u001b[39mtime()\n\u001b[1;32m    349\u001b[0m training_state, env_state \u001b[38;5;241m=\u001b[39m _strip_weak_type((training_state, env_state))\n\u001b[0;32m--> 350\u001b[0m result \u001b[38;5;241m=\u001b[39m \u001b[43mtraining_epoch\u001b[49m\u001b[43m(\u001b[49m\u001b[43mtraining_state\u001b[49m\u001b[43m,\u001b[49m\u001b[43m \u001b[49m\u001b[43menv_state\u001b[49m\u001b[43m,\u001b[49m\u001b[43m \u001b[49m\u001b[43mkey\u001b[49m\u001b[43m)\u001b[49m\n\u001b[1;32m    351\u001b[0m training_state, env_state, metrics \u001b[38;5;241m=\u001b[39m _strip_weak_type(result)\n\u001b[1;32m    353\u001b[0m metrics \u001b[38;5;241m=\u001b[39m jax\u001b[38;5;241m.\u001b[39mtree_util\u001b[38;5;241m.\u001b[39mtree_map(jnp\u001b[38;5;241m.\u001b[39mmean, metrics)\n",
      "    \u001b[0;31m[... skipping hidden 10 frame]\u001b[0m\n",
      "File \u001b[0;32m~/anaconda3/envs/stac-mjx/lib/python3.12/site-packages/jax/_src/compiler.py:261\u001b[0m, in \u001b[0;36mbackend_compile\u001b[0;34m(backend, module, options, host_callbacks)\u001b[0m\n\u001b[1;32m    256\u001b[0m   \u001b[38;5;28;01mreturn\u001b[39;00m backend\u001b[38;5;241m.\u001b[39mcompile(built_c, compile_options\u001b[38;5;241m=\u001b[39moptions,\n\u001b[1;32m    257\u001b[0m                          host_callbacks\u001b[38;5;241m=\u001b[39mhost_callbacks)\n\u001b[1;32m    258\u001b[0m \u001b[38;5;66;03m# Some backends don't have `host_callbacks` option yet\u001b[39;00m\n\u001b[1;32m    259\u001b[0m \u001b[38;5;66;03m# TODO(sharadmv): remove this fallback when all backends allow `compile`\u001b[39;00m\n\u001b[1;32m    260\u001b[0m \u001b[38;5;66;03m# to take in `host_callbacks`\u001b[39;00m\n\u001b[0;32m--> 261\u001b[0m \u001b[38;5;28;01mreturn\u001b[39;00m \u001b[43mbackend\u001b[49m\u001b[38;5;241;43m.\u001b[39;49m\u001b[43mcompile\u001b[49m\u001b[43m(\u001b[49m\u001b[43mbuilt_c\u001b[49m\u001b[43m,\u001b[49m\u001b[43m \u001b[49m\u001b[43mcompile_options\u001b[49m\u001b[38;5;241;43m=\u001b[39;49m\u001b[43moptions\u001b[49m\u001b[43m)\u001b[49m\n",
      "\u001b[0;31mXlaRuntimeError\u001b[0m: RESOURCE_EXHAUSTED: Out of memory while trying to allocate 4358373376 bytes."
     ]
    },
    {
     "name": "stderr",
     "output_type": "stream",
     "text": [
      "wandb: Network error (ReadTimeout), entering retry loop.\n"
     ]
    }
   ],
   "source": [
    "envs.register_environment('simple_rodent', Rodent)\n",
    "\n",
    "# instantiate the environment\n",
    "env_name = 'simple_rodent'\n",
    "env = envs.get_environment(env_name)\n",
    "\n",
    "# define the jit reset/step functions\n",
    "jit_reset = jax.jit(env.reset)\n",
    "jit_step = jax.jit(env.step)\n",
    "\n",
    "config = {\n",
    "    \"env_name\": env_name,\n",
    "    \"algo_name\": \"ppo\",\n",
    "    \"task_name\": \"run\",\n",
    "    \"num_envs\": 1024,\n",
    "    \"num_timesteps\": 10_000_000,\n",
    "    \"eval_every\": 10_000,\n",
    "    \"episode_length\": 1000,\n",
    "    \"num_evals\": 1000,\n",
    "    \"batch_size\": 256,\n",
    "    \"learning_rate\": 3e-4,\n",
    "    \"terminate_when_unhealthy\": False\n",
    "}\n",
    "\n",
    "\n",
    "train_fn = functools.partial(\n",
    "    ppo.train, num_timesteps=config[\"num_timesteps\"], num_evals=int(config[\"num_timesteps\"]/config[\"eval_every\"]),\n",
    "    reward_scaling=0.1, episode_length=config[\"episode_length\"], normalize_observations=True, action_repeat=1,\n",
    "    unroll_length=10, num_minibatches=8, num_updates_per_batch=4,\n",
    "    discounting=0.98, learning_rate=config[\"learning_rate\"], entropy_cost=1e-3, num_envs=config[\"num_envs\"],\n",
    "    batch_size=config[\"batch_size\"], seed=0)\n",
    "\n",
    "run = wandb.init(\n",
    "    project=\"vnl_debug\",\n",
    "    config=config\n",
    ")\n",
    "\n",
    "wandb.run.name = f\"{config['env_name']}_{config['task_name']}_{config['algo_name']}_arms_only_brax\"\n",
    "\n",
    "\n",
    "def wandb_progress(num_steps, metrics):\n",
    "    metrics[\"num_steps\"] = num_steps\n",
    "    wandb.log(metrics)\n",
    "    \n",
    "\n",
    "make_inference_fn, params, _= train_fn(environment=env, progress_fn=wandb_progress)\n",
    "\n",
    "\n",
    "#@title Save Model\n",
    "model_path = '/cps/brax_ppo_rodent_run'\n",
    "model.save_params(model_path, params)"
   ]
  },
  {
   "cell_type": "code",
   "execution_count": null,
   "id": "c769ed88e5ddec36",
   "metadata": {
    "collapsed": false,
    "jupyter": {
     "outputs_hidden": false
    }
   },
   "outputs": [],
   "source": [
    "inference_fn = make_inference_fn(params)\n",
    "jit_inference_fn = jax.jit(inference_fn)\n",
    "\n",
    "eval_env = envs.get_environment(env_name)\n",
    "\n",
    "jit_reset = jax.jit(eval_env.reset)\n",
    "jit_step = jax.jit(eval_env.step)\n",
    "\n",
    "# initialize the state\n",
    "rng = jax.random.PRNGKey(0)\n",
    "state = jit_reset(rng)\n",
    "rollout = [state.pipeline_state]\n",
    "\n",
    "# grab a trajectory\n",
    "n_steps = 500\n",
    "render_every = 1\n",
    "\n",
    "for i in range(n_steps):\n",
    "  act_rng, rng = jax.random.split(rng)\n",
    "  ctrl, _ = jit_inference_fn(state.obs, act_rng)\n",
    "  state = jit_step(state, ctrl)\n",
    "  rollout.append(state.pipeline_state)\n",
    "\n",
    "  if state.done:\n",
    "    break\n",
    "\n",
    "media.show_video(env.render(rollout[::render_every], camera='side'), fps=1.0 / env.dt / render_every)"
   ]
  }
 ],
 "metadata": {
  "kernelspec": {
   "display_name": "Python 3 (ipykernel)",
   "language": "python",
   "name": "python3"
  },
  "language_info": {
   "codemirror_mode": {
    "name": "ipython",
    "version": 3
   },
   "file_extension": ".py",
   "mimetype": "text/x-python",
   "name": "python",
   "nbconvert_exporter": "python",
   "pygments_lexer": "ipython3",
   "version": "3.12.0"
  }
 },
 "nbformat": 4,
 "nbformat_minor": 5
}
