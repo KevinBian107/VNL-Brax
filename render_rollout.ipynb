{
 "cells": [
  {
   "cell_type": "markdown",
   "id": "e19371b8-9c17-4b5a-98ec-1d756117011f",
   "metadata": {},
   "source": [
    "## Initialize the Env"
   ]
  },
  {
   "cell_type": "code",
   "execution_count": 1,
   "id": "21f8270c-848f-4b7c-9a2c-8ce6f5758edc",
   "metadata": {
    "tags": []
   },
   "outputs": [],
   "source": [
    "import numpy as np\n",
    "\n",
    "from datetime import datetime\n",
    "import functools\n",
    "from IPython.display import HTML\n",
    "import jax\n",
    "from jax import numpy as jp\n",
    "import numpy as np\n",
    "from typing import Any, Dict, Sequence, Tuple, Union, Optional\n",
    "import wandb\n",
    "\n",
    "from brax import base\n",
    "from brax import envs\n",
    "from brax import math\n",
    "from brax.base import Base, Motion, Transform\n",
    "from brax.envs.base import Env, MjxEnv, State\n",
    "from brax.mjx.base import State as MjxState\n",
    "from brax.training.agents.ppo import train as ppo\n",
    "from brax.training.agents.ppo import networks as ppo_networks\n",
    "from brax.io import html, mjcf, model\n",
    "\n",
    "from etils import epath\n",
    "from flax import struct\n",
    "from matplotlib import pyplot as plt\n",
    "import mediapy as media\n",
    "from ml_collections import config_dict\n",
    "import mujoco\n",
    "from mujoco import mjx\n",
    "import os\n",
    "\n",
    "import yaml\n",
    "from typing import List, Dict, Text"
   ]
  },
  {
   "cell_type": "code",
   "execution_count": 1,
   "id": "f2d15035-d974-402d-9b6a-f86e2a29e37c",
   "metadata": {
    "tags": []
   },
   "outputs": [],
   "source": [
    "# ## TODO:\n",
    "# \n",
    "# - Check the healthy z-range of the rodent. Now the training\n",
    "#     - Check mj_data and how to pull out kinematics of the simulations\n",
    "# - Check the `brax.envs` and how I can pass the custom parameters\n",
    "\n",
    "# In[3]:\n",
    "\n",
    "\n",
    "def load_params(param_path: Text) -> Dict:\n",
    "    with open(param_path, \"rb\") as file:\n",
    "        params = yaml.safe_load(file)\n",
    "    return params\n",
    "\n",
    "\n",
    "params = load_params(\"params/params.yaml\")\n",
    "\n",
    "class Rodent(MjxEnv):\n",
    "    \n",
    "    # Might want to change the terminate_when_unhealthy params to enables\n",
    "    # longer episode length, since the average episode length is too short (1 timestep)\n",
    "    # temp change the `terminate_when_unhealthy` to extend the episode length.\n",
    "    def __init__(\n",
    "            self,\n",
    "            forward_reward_weight=5,\n",
    "            ctrl_cost_weight=0.1,\n",
    "            healthy_reward=0.5,\n",
    "            terminate_when_unhealthy=False,\n",
    "            healthy_z_range=(0.2, 1.0),\n",
    "            reset_noise_scale=1e-2,\n",
    "            exclude_current_positions_from_observation=False,\n",
    "            **kwargs,\n",
    "    ):\n",
    "        params = load_params(\"params/params.yaml\")\n",
    "        mj_model = mujoco.MjModel.from_xml_path(params[\"XML_PATH\"])\n",
    "        mj_model.opt.solver = mujoco.mjtSolver.mjSOL_CG\n",
    "        mj_model.opt.iterations = 6\n",
    "        mj_model.opt.ls_iterations = 6\n",
    "\n",
    "        physics_steps_per_control_step = 5\n",
    "        kwargs['n_frames'] = kwargs.get(\n",
    "            'n_frames', physics_steps_per_control_step)\n",
    "\n",
    "        super().__init__(model=mj_model, **kwargs)\n",
    "\n",
    "        self._forward_reward_weight = forward_reward_weight\n",
    "        self._ctrl_cost_weight = ctrl_cost_weight\n",
    "        self._healthy_reward = healthy_reward\n",
    "        self._terminate_when_unhealthy = terminate_when_unhealthy\n",
    "        self._healthy_z_range = healthy_z_range\n",
    "        self._reset_noise_scale = reset_noise_scale\n",
    "        self._exclude_current_positions_from_observation = (\n",
    "            exclude_current_positions_from_observation\n",
    "        )\n",
    "        self.model=mj_model\n",
    "\n",
    "    def reset(self, rng: jp.ndarray) -> State:\n",
    "        \"\"\"Resets the environment to an initial state.\"\"\"\n",
    "        rng, rng1, rng2 = jax.random.split(rng, 3)\n",
    "\n",
    "        low, hi = -self._reset_noise_scale, self._reset_noise_scale\n",
    "        qpos = self.sys.qpos0 + jax.random.uniform(\n",
    "            rng1, (self.sys.nq,), minval=low, maxval=hi\n",
    "        )\n",
    "        qvel = jax.random.uniform(\n",
    "            rng2, (self.sys.nv,), minval=low, maxval=hi\n",
    "        )\n",
    "\n",
    "        data = self.pipeline_init(qpos, qvel)\n",
    "\n",
    "        obs = self._get_obs(data.data, jp.zeros(self.sys.nu))\n",
    "        reward, done, zero = jp.zeros(3)\n",
    "        metrics = {\n",
    "            'forward_reward': zero,\n",
    "            'reward_linvel': zero,\n",
    "            'reward_quadctrl': zero,\n",
    "            'reward_alive': zero,\n",
    "            'x_position': zero,\n",
    "            'y_position': zero,\n",
    "            'distance_from_origin': zero,\n",
    "            'x_velocity': zero,\n",
    "            'y_velocity': zero,\n",
    "        }\n",
    "        return State(data, obs, reward, done, metrics)\n",
    "\n",
    "    def step(self, state: State, action: jp.ndarray) -> State:\n",
    "        \"\"\"Runs one timestep of the environment's dynamics.\"\"\"\n",
    "        data0 = state.pipeline_state\n",
    "        data = self.pipeline_step(data0, action)\n",
    "        # based on the timestep simulation, calculate the rewards\n",
    "        com_before = data0.data.subtree_com[1]\n",
    "        com_after = data.data.subtree_com[1]\n",
    "        velocity = (com_after - com_before) / self.dt\n",
    "        forward_reward = self._forward_reward_weight * velocity[0]\n",
    "\n",
    "        min_z, max_z = self._healthy_z_range\n",
    "        is_healthy = jp.where(data.q[2] < min_z, 0.0, 1.0)\n",
    "        is_healthy = jp.where(data.q[2] > max_z, 0.0, is_healthy)\n",
    "        if self._terminate_when_unhealthy:\n",
    "            healthy_reward = self._healthy_reward\n",
    "        else:\n",
    "            healthy_reward = self._healthy_reward * is_healthy\n",
    "\n",
    "        ctrl_cost = self._ctrl_cost_weight * jp.sum(jp.square(action))\n",
    "\n",
    "        obs = self._get_obs(data.data, action)\n",
    "        reward = forward_reward + healthy_reward - ctrl_cost\n",
    "        # terminates when unhealthy\n",
    "        done = 1.0 - is_healthy if self._terminate_when_unhealthy else 0.0\n",
    "        state.metrics.update(\n",
    "            forward_reward=forward_reward,\n",
    "            reward_linvel=forward_reward,\n",
    "            reward_quadctrl=-ctrl_cost,\n",
    "            reward_alive=healthy_reward,\n",
    "            x_position=com_after[0],\n",
    "            y_position=com_after[1],\n",
    "            distance_from_origin=jp.linalg.norm(com_after),\n",
    "            x_velocity=velocity[0],\n",
    "            y_velocity=velocity[1],\n",
    "        )\n",
    "\n",
    "        return state.replace(\n",
    "            pipeline_state=data, obs=obs, reward=reward, done=done\n",
    "        )\n",
    "\n",
    "    def _get_obs(\n",
    "            self, data: mjx.Data, action: jp.ndarray\n",
    "    ) -> jp.ndarray:\n",
    "        \"\"\"Observes humanoid body position, velocities, and angles.\"\"\"\n",
    "        position = data.qpos\n",
    "        if self._exclude_current_positions_from_observation:\n",
    "            position = position[2:]\n",
    "            \n",
    "        # external_contact_forces are excluded\n",
    "        return jp.concatenate([\n",
    "            position,\n",
    "            data.qvel,\n",
    "            data.cinert[1:].ravel(),\n",
    "            data.cvel[1:].ravel(),\n",
    "            data.qfrc_actuator,\n",
    "        ])\n",
    "\n",
    "\n",
    "# ## training loop\n",
    "\n",
    "# In[5]:\n",
    "\n",
    "\n",
    "envs.register_environment('rodent', Rodent)\n",
    "\n",
    "# instantiate the environment\n",
    "env_name = 'rodent'"
   ]
  },
  {
   "cell_type": "markdown",
   "id": "206aa6f2-ad6d-4d2c-b97a-8de5b5013481",
   "metadata": {},
   "source": [
    "## Simple Rodent Model"
   ]
  },
  {
   "cell_type": "code",
   "execution_count": 3,
   "id": "fb67aef1-278c-4e6a-9df2-6240991b57f9",
   "metadata": {
    "tags": []
   },
   "outputs": [],
   "source": [
    "class Rodent(MjxEnv):\n",
    "    \n",
    "    # Might want to change the terminate_when_unhealthy params to enables\n",
    "    # longer episode length, since the average episode length is too short (1 timestep)\n",
    "    # temp change the `terminate_when_unhealthy` to extend the episode length.\n",
    "    def __init__(\n",
    "            self,\n",
    "            forward_reward_weight=5,\n",
    "            ctrl_cost_weight=0.1,\n",
    "            healthy_reward=0.5,\n",
    "            terminate_when_unhealthy=False,\n",
    "            healthy_z_range=(0.2, 1.0),\n",
    "            reset_noise_scale=1e-2,\n",
    "            exclude_current_positions_from_observation=False,\n",
    "            **kwargs,\n",
    "    ):\n",
    "        mj_model = mujoco.MjModel.from_xml_path(\"./models/simple_rodent.xml\")\n",
    "        mj_model.opt.solver = mujoco.mjtSolver.mjSOL_CG\n",
    "        mj_model.opt.iterations = 6\n",
    "        mj_model.opt.ls_iterations = 6\n",
    "\n",
    "        physics_steps_per_control_step = 5\n",
    "        kwargs['n_frames'] = kwargs.get(\n",
    "            'n_frames', physics_steps_per_control_step)\n",
    "\n",
    "        super().__init__(model=mj_model, **kwargs)\n",
    "\n",
    "        self._forward_reward_weight = forward_reward_weight\n",
    "        self._ctrl_cost_weight = ctrl_cost_weight\n",
    "        self._healthy_reward = healthy_reward\n",
    "        self._terminate_when_unhealthy = terminate_when_unhealthy\n",
    "        self._healthy_z_range = healthy_z_range\n",
    "        self._reset_noise_scale = reset_noise_scale\n",
    "        self._exclude_current_positions_from_observation = (\n",
    "            exclude_current_positions_from_observation\n",
    "        )\n",
    "\n",
    "    def reset(self, rng: jp.ndarray) -> State:\n",
    "        \"\"\"Resets the environment to an initial state.\"\"\"\n",
    "        rng, rng1, rng2 = jax.random.split(rng, 3)\n",
    "\n",
    "        low, hi = -self._reset_noise_scale, self._reset_noise_scale\n",
    "        qpos = self.sys.qpos0 + jax.random.uniform(\n",
    "            rng1, (self.sys.nq,), minval=low, maxval=hi\n",
    "        )\n",
    "        qvel = jax.random.uniform(\n",
    "            rng2, (self.sys.nv,), minval=low, maxval=hi\n",
    "        )\n",
    "\n",
    "        data = self.pipeline_init(qpos, qvel)\n",
    "\n",
    "        obs = self._get_obs(data.data, jp.zeros(self.sys.nu))\n",
    "        reward, done, zero = jp.zeros(3)\n",
    "        metrics = {\n",
    "            'forward_reward': zero,\n",
    "            'reward_linvel': zero,\n",
    "            'reward_quadctrl': zero,\n",
    "            'reward_alive': zero,\n",
    "            'x_position': zero,\n",
    "            'y_position': zero,\n",
    "            'distance_from_origin': zero,\n",
    "            'x_velocity': zero,\n",
    "            'y_velocity': zero,\n",
    "        }\n",
    "        return State(data, obs, reward, done, metrics)\n",
    "\n",
    "    def step(self, state: State, action: jp.ndarray) -> State:\n",
    "        \"\"\"Runs one timestep of the environment's dynamics.\"\"\"\n",
    "        data0 = state.pipeline_state\n",
    "        data = self.pipeline_step(data0, action)\n",
    "        # based on the timestep simulation, calculate the rewards\n",
    "        com_before = data0.data.subtree_com[1]\n",
    "        com_after = data.data.subtree_com[1]\n",
    "        velocity = (com_after - com_before) / self.dt\n",
    "        forward_reward = self._forward_reward_weight * velocity[0]\n",
    "\n",
    "        min_z, max_z = self._healthy_z_range\n",
    "        is_healthy = jp.where(data.q[2] < min_z, 0.0, 1.0)\n",
    "        is_healthy = jp.where(data.q[2] > max_z, 0.0, is_healthy)\n",
    "        if self._terminate_when_unhealthy:\n",
    "            healthy_reward = self._healthy_reward\n",
    "        else:\n",
    "            healthy_reward = self._healthy_reward * is_healthy\n",
    "\n",
    "        ctrl_cost = self._ctrl_cost_weight * jp.sum(jp.square(action))\n",
    "\n",
    "        obs = self._get_obs(data.data, action)\n",
    "        reward = forward_reward + healthy_reward - ctrl_cost\n",
    "        # terminates when unhealthy\n",
    "        done = 1.0 - is_healthy if self._terminate_when_unhealthy else 0.0\n",
    "        state.metrics.update(\n",
    "            forward_reward=forward_reward,\n",
    "            reward_linvel=forward_reward,\n",
    "            reward_quadctrl=-ctrl_cost,\n",
    "            reward_alive=healthy_reward,\n",
    "            x_position=com_after[0],\n",
    "            y_position=com_after[1],\n",
    "            distance_from_origin=jp.linalg.norm(com_after),\n",
    "            x_velocity=velocity[0],\n",
    "            y_velocity=velocity[1],\n",
    "        )\n",
    "        return state.replace(\n",
    "            pipeline_state=data, obs=obs, reward=reward, done=done\n",
    "        )\n",
    "\n",
    "    # this get observation might be faulty?\n",
    "    def _get_obs(\n",
    "            self, data: mjx.Data, action: jp.ndarray\n",
    "    ) -> jp.ndarray:\n",
    "        \"\"\"Observes humanoid body position, velocities, and angles.\"\"\"\n",
    "        position = data.qpos\n",
    "        if self._exclude_current_positions_from_observation:\n",
    "            position = position[2:]\n",
    "        \n",
    "        # external_contact_forces are excluded\n",
    "        return jp.concatenate([\n",
    "            position,\n",
    "            data.qvel,\n",
    "            data.qfrc_actuator,\n",
    "        ])\n",
    "\n",
    "\n",
    "# ## training loop\n",
    "\n",
    "# In[5]:\n",
    "\n",
    "\n",
    "envs.register_environment('simple_rodent', Rodent)\n",
    "\n",
    "# instantiate the environment\n",
    "env_name = 'simple_rodent'\n",
    "env = envs.get_environment(env_name)"
   ]
  },
  {
   "cell_type": "markdown",
   "id": "92d52112-95fc-49b1-97ee-60829cf172c0",
   "metadata": {},
   "source": [
    "## Load the Checkpoint"
   ]
  },
  {
   "cell_type": "code",
   "execution_count": 8,
   "id": "e5750041-5301-4e6a-9325-55fa0af5210c",
   "metadata": {
    "tags": []
   },
   "outputs": [],
   "source": [
    "from brax.training.agents.ppo import networks as brax_networks\n",
    "\n",
    "# Copy and pasted from https://github.com/google/brax/discussions/403#discussioncomment-7287194\n",
    "def make_inference_fn(\n",
    "    observation_size: int,\n",
    "    action_size: int,\n",
    "    normalize_observations: bool = False,\n",
    "    network_factory_kwargs: Optional[Dict[str, Any]] = None,\n",
    "):\n",
    "    normalize = lambda x, y: x\n",
    "    ppo_network = brax_networks.make_ppo_networks(\n",
    "      observation_size,\n",
    "      action_size,\n",
    "      preprocess_observations_fn=normalize,\n",
    "      **(network_factory_kwargs or {}),\n",
    "    )\n",
    "    make_policy = brax_networks.make_inference_fn(ppo_network)\n",
    "    return make_policy\n",
    "\n",
    "make_policy = make_inference_fn(\n",
    "    observation_size=env.observation_size,\n",
    "    action_size=env.action_size,\n",
    ")\n"
   ]
  },
  {
   "cell_type": "code",
   "execution_count": 9,
   "id": "4d790f09-52a8-4cd0-8afc-3cc57d3918da",
   "metadata": {
    "tags": []
   },
   "outputs": [],
   "source": [
    "model_path = \"./model_checkpoints/simple_rodent_573440\"\n",
    "params = model.load_params(model_path)\n",
    "# jit_inference_fn = jax.jit(make_policy(params, deterministic=True))"
   ]
  },
  {
   "cell_type": "code",
   "execution_count": 6,
   "id": "297adb2c-0122-4b05-97a9-7d68f3d22894",
   "metadata": {
    "collapsed": true,
    "jupyter": {
     "outputs_hidden": true,
     "source_hidden": true
    },
    "tags": []
   },
   "outputs": [
    {
     "data": {
      "text/plain": [
       "(RunningStatisticsState(mean=Array([ 4.82222922e-02,  8.78764689e-03,  3.46816853e-02,  1.56694353e-01,\n",
       "        -9.48220566e-02,  3.54142725e-01,  5.02438098e-03, -1.38106614e-01,\n",
       "         1.50427055e-02,  1.31712770e-02,  9.42553133e-02,  3.23630683e-02,\n",
       "         9.37415473e-03, -5.80575392e-02,  2.50213802e-01, -2.79280484e-01,\n",
       "         1.14931084e-01,  6.14095449e-01,  3.83818150e-01, -1.17522448e-01,\n",
       "         2.03906775e-01, -1.86026275e-01,  1.46754384e-01,  7.03811765e-01,\n",
       "         4.03963715e-01, -8.50836933e-02, -3.71875172e-03, -1.05571583e-01,\n",
       "        -2.69379467e-03, -1.34271130e-01,  2.30388995e-03, -1.17573068e-01,\n",
       "         2.65469193e-03, -1.07484609e-01,  3.05168307e-03, -9.22036245e-02,\n",
       "         2.25714245e-03, -7.72898495e-02,  6.29828265e-03, -1.06104948e-02,\n",
       "         1.19147440e-02, -1.77078862e-02,  9.54281166e-03, -6.43372349e-03,\n",
       "         5.65244723e-03,  6.63879793e-03,  2.58727884e-03,  5.66176418e-03,\n",
       "         1.86694763e-03,  1.20356344e-02,  2.74863746e-03, -8.38843826e-03,\n",
       "        -9.88916010e-02,  4.00192022e-01, -1.49924666e-01, -2.64601130e-02,\n",
       "         5.47530642e-03,  3.18284705e-03,  4.23618332e-02,  9.91420448e-03,\n",
       "         2.22676247e-03, -1.84421781e-02,  6.04404286e-02, -8.65070894e-02,\n",
       "         3.12965065e-02,  9.22670886e-02,  9.97007340e-02, -3.56109887e-02,\n",
       "         5.24200834e-02, -6.36548400e-02,  3.94410118e-02,  1.09344594e-01,\n",
       "         9.98022631e-02,  1.38515607e-04, -6.96011120e-03, -5.53510385e-03,\n",
       "        -4.06706519e-03, -2.48006005e-02, -1.52753224e-03, -2.36723758e-02,\n",
       "        -2.99772015e-04, -3.26441824e-02,  2.27111625e-04, -3.52680348e-02,\n",
       "         2.27730285e-04, -3.47025096e-02,  3.50598432e-03, -2.37478577e-02,\n",
       "         6.56242855e-03, -1.93031784e-02,  5.65590058e-03, -9.85583942e-03,\n",
       "         2.77391914e-03, -1.39023468e-03,  1.56453403e-03, -6.30652823e-04,\n",
       "         7.52641819e-04,  0.00000000e+00,  0.00000000e+00,  0.00000000e+00,\n",
       "         0.00000000e+00,  0.00000000e+00,  0.00000000e+00,  0.00000000e+00,\n",
       "         0.00000000e+00,  0.00000000e+00,  0.00000000e+00,  0.00000000e+00,\n",
       "         0.00000000e+00, -5.03577339e-03,  2.08882941e-03, -8.03908240e-03,\n",
       "         5.41006308e-03,  4.34890529e-03,  1.15002168e-03, -5.18456893e-03,\n",
       "         2.00548675e-03, -7.96789303e-03,  5.57733979e-03,  3.41506675e-03,\n",
       "         7.76362140e-04,  0.00000000e+00,  0.00000000e+00,  0.00000000e+00,\n",
       "         0.00000000e+00,  0.00000000e+00,  0.00000000e+00,  0.00000000e+00,\n",
       "         0.00000000e+00,  0.00000000e+00,  0.00000000e+00,  0.00000000e+00,\n",
       "         0.00000000e+00,  0.00000000e+00,  0.00000000e+00,  0.00000000e+00,\n",
       "         0.00000000e+00,  0.00000000e+00,  0.00000000e+00,  0.00000000e+00,\n",
       "         0.00000000e+00,  0.00000000e+00,  0.00000000e+00,  0.00000000e+00,\n",
       "         0.00000000e+00], dtype=float32), std=Array([6.44859597e-02, 7.47450218e-02, 8.05902947e-03, 5.92848420e-01,\n",
       "        5.70539832e-01, 2.88492709e-01, 2.84254134e-01, 1.56869203e-01,\n",
       "        6.86639994e-02, 6.71644509e-02, 1.52374297e-01, 1.09473303e-01,\n",
       "        6.18664995e-02, 8.25028196e-02, 1.07321121e-01, 2.00151086e-01,\n",
       "        2.24060208e-01, 1.48892656e-01, 1.16333596e-01, 8.33171234e-02,\n",
       "        1.10180587e-01, 1.98353559e-01, 2.55849242e-01, 1.50564134e-01,\n",
       "        1.08235069e-01, 1.82287797e-01, 1.62092909e-01, 1.59997657e-01,\n",
       "        1.30153254e-01, 1.16844669e-01, 9.93701220e-02, 1.06518187e-01,\n",
       "        7.85445869e-02, 7.93737248e-02, 6.54379800e-02, 7.70846903e-02,\n",
       "        6.18216544e-02, 9.98238102e-02, 9.07776654e-02, 1.52715638e-01,\n",
       "        1.27466485e-01, 1.22075275e-01, 1.04026794e-01, 7.08732009e-02,\n",
       "        6.57519624e-02, 4.01080959e-02, 3.77639569e-02, 2.13467963e-02,\n",
       "        1.71420909e-02, 1.03470244e-01, 1.03487708e-01, 9.81461331e-02,\n",
       "        2.50219369e+00, 2.18521309e+00, 2.69814324e+00, 6.10113621e-01,\n",
       "        3.59308600e-01, 4.00357962e-01, 7.25181997e-01, 5.42208493e-01,\n",
       "        3.79055083e-01, 1.71017158e+00, 2.07729602e+00, 4.38149643e+00,\n",
       "        7.79442835e+00, 7.10628080e+00, 4.47441196e+00, 1.66817880e+00,\n",
       "        2.17375731e+00, 4.25163126e+00, 8.97943020e+00, 6.96486616e+00,\n",
       "        4.15803146e+00, 9.45889711e-01, 6.71103179e-01, 7.13182986e-01,\n",
       "        5.34420013e-01, 5.72231889e-01, 4.82495725e-01, 5.07507324e-01,\n",
       "        4.24245238e-01, 4.55198199e-01, 4.07213598e-01, 4.45303708e-01,\n",
       "        3.75184208e-01, 4.58259970e-01, 3.49817276e-01, 5.73411226e-01,\n",
       "        3.63140047e-01, 3.68474185e-01, 2.74872422e-01, 2.57754475e-01,\n",
       "        1.87677026e-01, 1.62531793e-01, 1.03825897e-01, 7.84270093e-02,\n",
       "        4.05971371e-02, 9.99999997e-07, 9.99999997e-07, 9.99999997e-07,\n",
       "        9.99999997e-07, 9.99999997e-07, 9.99999997e-07, 9.99999997e-07,\n",
       "        9.99999997e-07, 9.99999997e-07, 9.99999997e-07, 9.99999997e-07,\n",
       "        9.99999997e-07, 3.53246368e-02, 4.45240140e-02, 9.91378874e-02,\n",
       "        4.91127744e-02, 3.07717919e-02, 5.38951904e-03, 3.40710655e-02,\n",
       "        4.64871451e-02, 9.57626402e-02, 5.47341444e-02, 2.93301791e-02,\n",
       "        4.83343937e-03, 9.99999997e-07, 9.99999997e-07, 9.99999997e-07,\n",
       "        9.99999997e-07, 9.99999997e-07, 9.99999997e-07, 9.99999997e-07,\n",
       "        9.99999997e-07, 9.99999997e-07, 9.99999997e-07, 9.99999997e-07,\n",
       "        9.99999997e-07, 9.99999997e-07, 9.99999997e-07, 9.99999997e-07,\n",
       "        9.99999997e-07, 9.99999997e-07, 9.99999997e-07, 9.99999997e-07,\n",
       "        9.99999997e-07, 9.99999997e-07, 9.99999997e-07, 9.99999997e-07,\n",
       "        9.99999997e-07], dtype=float32), count=Array(573440., dtype=float32), summed_variance=Array([2.38461523e+03, 3.20370508e+03, 3.72437553e+01, 2.01546531e+05,\n",
       "        1.86663734e+05, 4.77262891e+04, 4.63341875e+04, 1.41111826e+04,\n",
       "        2.70362329e+03, 2.58682446e+03, 1.33140879e+04, 6.87233740e+03,\n",
       "        2.19482080e+03, 3.90324268e+03, 6.60478076e+03, 2.29722695e+04,\n",
       "        2.87883965e+04, 1.27126035e+04, 7.76065332e+03, 3.98067358e+03,\n",
       "        6.96142480e+03, 2.25614980e+04, 3.75367188e+04, 1.29996309e+04,\n",
       "        6.71775244e+03, 1.90547480e+04, 1.50666250e+04, 1.46796328e+04,\n",
       "        9.71399902e+03, 7.82899121e+03, 5.66238770e+03, 6.50632129e+03,\n",
       "        3.53769629e+03, 3.61277979e+03, 2.45554419e+03, 3.40740869e+03,\n",
       "        2.19164014e+03, 5.71421094e+03, 4.72548047e+03, 1.33738066e+04,\n",
       "        9.31708496e+03, 8.54561719e+03, 6.20552344e+03, 2.88039526e+03,\n",
       "        2.47916455e+03, 9.22469666e+02, 8.17792236e+02, 2.61308411e+02,\n",
       "        1.68506073e+02, 6.13930078e+03, 6.14137305e+03, 5.52375391e+03,\n",
       "        3.59029250e+06, 2.73826575e+06, 4.17463025e+06, 2.13456547e+05,\n",
       "        7.40326406e+04, 9.19147031e+04, 3.01565750e+05, 1.68585656e+05,\n",
       "        8.23934375e+04, 1.67713262e+06, 2.47448500e+06, 1.10086210e+07,\n",
       "        3.48382640e+07, 2.89582760e+07, 1.14804770e+07, 1.59578062e+06,\n",
       "        2.70963075e+06, 1.03657130e+07, 4.62365680e+07, 2.78172080e+07,\n",
       "        9.91433400e+06, 5.13060969e+05, 2.58265609e+05, 2.91668781e+05,\n",
       "        1.63777203e+05, 1.87772531e+05, 1.33498047e+05, 1.47697297e+05,\n",
       "        1.03210047e+05, 1.18819867e+05, 9.50895000e+04, 1.13710516e+05,\n",
       "        8.07192578e+04, 1.20423672e+05, 7.01730781e+04, 1.88547344e+05,\n",
       "        7.56199297e+04, 7.78577969e+04, 4.33261719e+04, 3.80978516e+04,\n",
       "        2.01980859e+04, 1.51483271e+04, 6.18157812e+03, 3.52711255e+03,\n",
       "        9.45102173e+02, 0.00000000e+00, 0.00000000e+00, 0.00000000e+00,\n",
       "        0.00000000e+00, 0.00000000e+00, 0.00000000e+00, 0.00000000e+00,\n",
       "        0.00000000e+00, 0.00000000e+00, 0.00000000e+00, 0.00000000e+00,\n",
       "        0.00000000e+00, 7.15555725e+02, 1.13678040e+03, 5.63595215e+03,\n",
       "        1.38317432e+03, 5.42992188e+02, 1.66566620e+01, 6.65670715e+02,\n",
       "        1.23923511e+03, 5.25872217e+03, 1.71792676e+03, 4.93307190e+02,\n",
       "        1.33967838e+01, 0.00000000e+00, 0.00000000e+00, 0.00000000e+00,\n",
       "        0.00000000e+00, 0.00000000e+00, 0.00000000e+00, 0.00000000e+00,\n",
       "        0.00000000e+00, 0.00000000e+00, 0.00000000e+00, 0.00000000e+00,\n",
       "        0.00000000e+00, 0.00000000e+00, 0.00000000e+00, 0.00000000e+00,\n",
       "        0.00000000e+00, 0.00000000e+00, 0.00000000e+00, 0.00000000e+00,\n",
       "        0.00000000e+00, 0.00000000e+00, 0.00000000e+00, 0.00000000e+00,\n",
       "        0.00000000e+00], dtype=float32)),\n",
       " {'params': {'hidden_0': {'bias': Array([ 4.0977307e-02,  1.9728694e-02,  3.7735555e-02,  2.5540559e-02,\n",
       "           -1.5401382e-02, -5.8610868e-02,  3.0819390e-02, -2.4578506e-02,\n",
       "            2.2923092e-03, -4.5902753e-04,  4.0493503e-02, -2.7673282e-03,\n",
       "            4.2158547e-03,  5.2354269e-02,  2.4198577e-02, -4.1718695e-02,\n",
       "            1.1820095e-01,  6.1061677e-05,  4.7936566e-02, -5.7134934e-02,\n",
       "            1.3037610e-01, -2.0708090e-02,  4.8911810e-02,  2.4251470e-03,\n",
       "            5.7809338e-02,  1.1940062e-02,  2.0799316e-02,  3.3731829e-02,\n",
       "           -3.0301949e-03,  4.7679096e-02, -9.8058274e-03,  5.1741317e-02],      dtype=float32),\n",
       "    'kernel': Array([[ 0.12251976,  0.08544512,  0.07003989, ..., -0.0374909 ,\n",
       "            -0.02767386,  0.08606336],\n",
       "           [ 0.02204592,  0.05929255,  0.00277498, ..., -0.19780138,\n",
       "            -0.10954897, -0.08029543],\n",
       "           [ 0.09782489, -0.00089096,  0.26008588, ...,  0.12497341,\n",
       "            -0.10603645,  0.05080266],\n",
       "           ...,\n",
       "           [ 0.07685304,  0.05693303,  0.12763979, ...,  0.12051575,\n",
       "             0.01203451, -0.04903961],\n",
       "           [-0.05435934, -0.09231301, -0.09452277, ...,  0.00819665,\n",
       "            -0.07124476,  0.10810877],\n",
       "           [ 0.05650182, -0.04806912, -0.03339583, ..., -0.12468777,\n",
       "            -0.13105617,  0.11966378]], dtype=float32)},\n",
       "   'hidden_1': {'bias': Array([ 0.03162743, -0.03084032,  0.04518545, -0.04869164,  0.0232641 ,\n",
       "            0.04934911,  0.041606  , -0.04772788,  0.03170874,  0.11392981,\n",
       "            0.05202553,  0.01668807, -0.00167649, -0.004297  ,  0.01622228,\n",
       "            0.02539434, -0.01739618, -0.02409758, -0.05598042, -0.03833602,\n",
       "           -0.0615393 ,  0.0176809 ,  0.05511974, -0.05452858,  0.00891581,\n",
       "            0.01708144,  0.0320912 ,  0.01435984,  0.00154531, -0.05203684,\n",
       "           -0.02311603,  0.06251949], dtype=float32),\n",
       "    'kernel': Array([[-0.0476855 ,  0.23215824,  0.12781432, ...,  0.12004278,\n",
       "             0.16262327, -0.06193471],\n",
       "           [-0.02323301,  0.24051636, -0.29047492, ..., -0.17436142,\n",
       "            -0.30195093, -0.07209512],\n",
       "           [ 0.23741154,  0.2368308 ,  0.24145642, ...,  0.15573685,\n",
       "            -0.12195827,  0.14397217],\n",
       "           ...,\n",
       "           [ 0.2279955 ,  0.23636289, -0.4522125 , ..., -0.06175397,\n",
       "             0.17562531, -0.2110523 ],\n",
       "           [-0.2331752 ,  0.08713212,  0.21553162, ..., -0.09270571,\n",
       "            -0.1884494 , -0.09838396],\n",
       "           [ 0.28021026, -0.10238957,  0.19686504, ...,  0.18308006,\n",
       "             0.00762907, -0.22069044]], dtype=float32)},\n",
       "   'hidden_2': {'bias': Array([-0.00252452, -0.00320214,  0.10384347, -0.00162574,  0.1491289 ,\n",
       "            0.05590655, -0.04297839,  0.02835479, -0.07428295, -0.00513272,\n",
       "            0.16976407,  0.06449138,  0.01879221,  0.00201864,  0.00501761,\n",
       "           -0.01209775,  0.04814411,  0.05893102, -0.01756066, -0.04814754,\n",
       "           -0.00669289,  0.05623531, -0.09566292, -0.0271041 ,  0.03622599,\n",
       "           -0.02057655,  0.13952203, -0.02954481,  0.04597785, -0.02396012,\n",
       "            0.03580115,  0.04173946], dtype=float32),\n",
       "    'kernel': Array([[-0.09944969,  0.04324766, -0.00047116, ...,  0.21092936,\n",
       "             0.02873299, -0.0514749 ],\n",
       "           [-0.05179004,  0.13218564, -0.18755712, ..., -0.18565504,\n",
       "            -0.06781834, -0.04280407],\n",
       "           [-0.2966165 ,  0.23648857, -0.07474887, ..., -0.04857122,\n",
       "            -0.2109541 ,  0.16062875],\n",
       "           ...,\n",
       "           [-0.17424548, -0.09457682, -0.22513598, ...,  0.28969952,\n",
       "            -0.25807992,  0.06245933],\n",
       "           [ 0.18279341,  0.05323201, -0.06329358, ...,  0.18581954,\n",
       "             0.10462409,  0.04390598],\n",
       "           [ 0.14985512, -0.27860257,  0.31863233, ..., -0.11911988,\n",
       "             0.13174285,  0.25548854]], dtype=float32)},\n",
       "   'hidden_3': {'bias': Array([-6.3907452e-02,  2.4345782e-02, -5.3625513e-02, -5.6872047e-02,\n",
       "           -2.6560048e-02, -1.1564790e-01, -8.7410338e-02,  9.3389429e-02,\n",
       "            1.0245789e-01,  7.1120925e-02, -2.5267579e-02, -3.0401476e-02,\n",
       "           -8.8548705e-02, -5.6759961e-02,  8.7138563e-02,  7.9501132e-03,\n",
       "           -4.1276325e-02,  6.9932625e-02, -6.4401947e-02,  1.8857602e-02,\n",
       "           -6.8940870e-02, -9.3841962e-05,  2.2750252e-03,  2.8749863e-02,\n",
       "            1.2836416e-03, -3.0207094e-02,  3.9628386e-02, -3.6367975e-02,\n",
       "           -9.9222604e-03,  9.2482250e-03, -1.3981642e-01, -2.6414903e-02],      dtype=float32),\n",
       "    'kernel': Array([[-0.12662382, -0.01717426,  0.298759  , ..., -0.06937276,\n",
       "             0.1874135 , -0.26200217],\n",
       "           [-0.3460317 , -0.01761943, -0.13266712, ..., -0.07866196,\n",
       "             0.14632106,  0.26684827],\n",
       "           [-0.17199609, -0.2144984 ,  0.15364145, ..., -0.24140349,\n",
       "            -0.22539827,  0.20202146],\n",
       "           ...,\n",
       "           [-0.30992183,  0.1993791 ,  0.04812865, ...,  0.1101855 ,\n",
       "            -0.15065272,  0.01285657],\n",
       "           [ 0.24022259,  0.2652616 ,  0.00866895, ..., -0.07848262,\n",
       "             0.17788744,  0.1224191 ],\n",
       "           [ 0.14654471,  0.01729918, -0.287762  , ..., -0.13210104,\n",
       "             0.0514477 ,  0.04304604]], dtype=float32)},\n",
       "   'hidden_4': {'bias': Array([-0.00805986, -0.06932324, -0.01661299,  0.02886947,  0.07024118,\n",
       "            0.04077554, -0.03455349, -0.0656403 , -0.00860695,  0.02581219,\n",
       "            0.08347984, -0.00937566, -0.06416016, -0.09610394, -0.18496643,\n",
       "           -0.13488653, -0.10615158, -0.10639624, -0.1094239 , -0.0570384 ,\n",
       "           -0.09060086, -0.14983867, -0.08464114, -0.12259822], dtype=float32),\n",
       "    'kernel': Array([[ 2.15057850e-01,  2.20092371e-01, -3.00107151e-01,\n",
       "             1.10159129e-01, -1.70821279e-01, -9.05665457e-02,\n",
       "             3.41645367e-02, -2.25903660e-01,  2.17165813e-01,\n",
       "             1.18110761e-01, -2.88277697e-02,  9.17008519e-03,\n",
       "             2.33634874e-01,  1.96296826e-01,  2.48606920e-01,\n",
       "            -1.42474085e-01,  3.56984437e-01,  3.45720142e-01,\n",
       "            -1.75219074e-01,  4.09437679e-02,  1.14821628e-01,\n",
       "            -2.35188365e-01,  2.34460428e-01,  1.74710721e-01],\n",
       "           [ 1.15733862e-01,  1.63133517e-01, -2.55634129e-01,\n",
       "             2.44147882e-01, -1.46240175e-01, -2.06175596e-01,\n",
       "            -2.55550444e-01, -2.54007339e-01,  1.36326432e-01,\n",
       "             1.90411344e-01, -5.50388359e-02,  4.80833128e-02,\n",
       "            -2.81935304e-01,  1.45844504e-01, -2.15383172e-01,\n",
       "            -2.20030844e-01, -1.61714777e-02,  1.70870781e-01,\n",
       "            -8.83247480e-02,  3.52508277e-02, -9.43204761e-02,\n",
       "             4.84790765e-02,  2.77366713e-02,  2.68369794e-01],\n",
       "           [ 1.55420275e-03, -1.70262717e-02, -1.81971416e-02,\n",
       "            -1.92949563e-01, -1.31874960e-02,  2.48174548e-01,\n",
       "            -1.68990925e-01, -2.05495209e-01, -1.54866606e-01,\n",
       "            -1.06879197e-01, -3.35057080e-01,  2.48487800e-01,\n",
       "             3.07297379e-01,  3.33550841e-01,  1.81221172e-01,\n",
       "             1.78230628e-01, -9.39519554e-02, -3.16408128e-01,\n",
       "             8.12200531e-02, -4.26175036e-02,  2.40441561e-01,\n",
       "             1.49111882e-01, -4.82011912e-03, -1.93451867e-01],\n",
       "           [ 1.24786444e-01, -4.16887403e-02, -2.18225747e-01,\n",
       "             2.24116310e-01, -1.52010202e-01,  2.72368491e-01,\n",
       "             1.65847018e-01,  8.91581774e-02, -1.49590075e-01,\n",
       "             7.69058540e-02, -3.36849689e-01, -1.85402498e-01,\n",
       "             1.39205188e-01, -1.17122263e-01,  3.09630573e-01,\n",
       "             2.67222285e-01, -7.46727511e-02, -2.39559785e-01,\n",
       "            -5.91260344e-02,  1.61510203e-02, -2.76178956e-01,\n",
       "             3.66584152e-01,  7.07321092e-02,  2.77310371e-01],\n",
       "           [-1.41201958e-01,  1.08701065e-01, -2.07389947e-02,\n",
       "             2.38588173e-02,  2.42153004e-01,  2.07474560e-01,\n",
       "            -3.07247609e-01,  3.64657193e-02,  3.04031726e-02,\n",
       "             1.75000042e-01, -7.34693334e-02,  6.66642934e-02,\n",
       "            -1.72791965e-02,  1.28916889e-01,  1.20921582e-01,\n",
       "             1.90132201e-01,  2.19990298e-01,  2.65461177e-01,\n",
       "            -1.25225887e-01, -3.24249058e-03,  2.85272568e-01,\n",
       "            -1.53444648e-01,  1.29479468e-02, -1.96932286e-01],\n",
       "           [ 2.73108244e-01,  2.58462489e-01,  1.96552068e-01,\n",
       "             5.66123836e-02, -6.63062092e-03,  6.27076775e-02,\n",
       "             1.81441367e-01,  1.23261131e-01,  2.09335476e-01,\n",
       "            -9.79561135e-02, -1.85142323e-01,  3.01983833e-01,\n",
       "             1.63693160e-01,  8.60000178e-02,  2.17902839e-01,\n",
       "            -1.81935906e-01, -1.52728766e-01,  5.68007492e-02,\n",
       "            -1.63531870e-01,  4.53513712e-02,  2.15155423e-01,\n",
       "             8.15243497e-02,  7.91335851e-02,  2.71725774e-01],\n",
       "           [-2.40092143e-01,  1.83577195e-01, -3.50281298e-01,\n",
       "             3.22243851e-03,  8.09678510e-02,  1.78065121e-01,\n",
       "             3.16188484e-01,  2.13377371e-01, -1.02489315e-01,\n",
       "             1.53432786e-01, -3.31542283e-01,  2.65746005e-02,\n",
       "             2.56561726e-01, -9.65578407e-02, -2.11218134e-01,\n",
       "             2.18135178e-01, -7.53284693e-02, -1.91559121e-02,\n",
       "             2.73510337e-01,  3.50460947e-01,  3.16595852e-01,\n",
       "             2.83396304e-01,  4.31904048e-02,  3.38908620e-02],\n",
       "           [-2.23870769e-01, -1.95701763e-01, -3.06192040e-01,\n",
       "             2.80908078e-01,  1.35306492e-01, -2.14369327e-01,\n",
       "            -5.18294163e-02, -2.79239446e-01, -8.74461830e-02,\n",
       "            -2.73818135e-01,  2.40592837e-01, -2.46918797e-01,\n",
       "            -1.98584184e-01,  7.90334642e-02, -2.40387730e-02,\n",
       "            -2.79319912e-01, -3.75854939e-01, -2.83001363e-01,\n",
       "             1.29935667e-01, -3.30531180e-01, -2.12425813e-01,\n",
       "             1.96392193e-01,  1.15816277e-02,  2.57268369e-01],\n",
       "           [ 2.96909690e-01, -3.53530735e-01, -5.43813556e-02,\n",
       "            -1.69499610e-02,  1.00187823e-01,  7.07676634e-02,\n",
       "             8.07445794e-02,  1.60842165e-02, -9.26065147e-02,\n",
       "             4.21498746e-01,  2.69489318e-01,  1.61876783e-01,\n",
       "            -3.13753411e-02,  3.06730944e-04, -9.28334147e-02,\n",
       "             1.79642066e-01, -1.60281196e-01, -2.91486960e-02,\n",
       "            -2.47387052e-01, -1.64252743e-01, -1.47487029e-01,\n",
       "             2.78661847e-01, -2.16083273e-01, -6.11726493e-02],\n",
       "           [ 7.54831880e-02,  1.75134480e-01, -1.62381724e-01,\n",
       "            -3.26088956e-03, -3.23629767e-01,  1.58450156e-01,\n",
       "            -2.00549126e-01,  2.25771159e-01, -2.45840386e-01,\n",
       "             3.56896430e-01,  4.33438607e-02,  2.06949800e-01,\n",
       "            -1.82845071e-01, -2.07338735e-01, -7.36484453e-02,\n",
       "            -3.93019944e-01,  1.78637594e-01,  9.56010595e-02,\n",
       "            -3.24030071e-01, -1.11546390e-01, -2.83601701e-01,\n",
       "            -1.62680015e-01,  2.06101790e-01, -1.56653374e-01],\n",
       "           [ 3.03685129e-01, -2.89062589e-01,  1.39128774e-01,\n",
       "             1.19341858e-01, -2.38852203e-01,  4.81929183e-02,\n",
       "             1.68719798e-01,  2.80669123e-01,  1.91927165e-01,\n",
       "             4.50473204e-02,  2.41036117e-01,  1.40801758e-01,\n",
       "             2.22061157e-01,  2.80021839e-02, -3.11640408e-02,\n",
       "            -1.70951113e-01,  2.49791026e-01, -1.94133580e-01,\n",
       "            -6.99472353e-02,  7.42009580e-02,  9.62438509e-02,\n",
       "             2.06072167e-01,  2.31512398e-01, -7.65930265e-02],\n",
       "           [-1.11102216e-01,  1.80412009e-01, -2.08497211e-01,\n",
       "            -3.75312656e-01,  2.93666303e-01,  1.70858309e-01,\n",
       "            -1.96881011e-01, -4.74200100e-02, -3.40972692e-01,\n",
       "             2.16465831e-01,  2.27778509e-01, -2.12557822e-01,\n",
       "             7.86829889e-02, -1.90072119e-01,  1.49381384e-01,\n",
       "             3.76615562e-02, -4.92924899e-02, -1.25626132e-01,\n",
       "             2.82805532e-01,  8.57453421e-02,  2.08761036e-01,\n",
       "             9.97552872e-02,  1.52214050e-01,  2.17441887e-01],\n",
       "           [ 3.21007408e-02,  1.17057011e-01,  2.09766299e-01,\n",
       "            -6.70602471e-02,  3.12557846e-01,  1.93821684e-01,\n",
       "             2.57328242e-01, -1.14610650e-01,  1.25842035e-01,\n",
       "             1.12975493e-01,  1.57192275e-01, -3.33248489e-02,\n",
       "             1.80571318e-01,  2.10722938e-01,  7.60565847e-02,\n",
       "             1.58895358e-01, -1.63652182e-01,  2.59102643e-01,\n",
       "             2.45989665e-01, -6.30285963e-03,  1.07628763e-01,\n",
       "             2.27624625e-01,  2.95796841e-01,  7.86508545e-02],\n",
       "           [-2.44408056e-01,  1.79451063e-01, -3.86605375e-02,\n",
       "            -1.07256353e-01, -2.34943047e-01, -2.57893384e-01,\n",
       "             1.10847354e-01, -5.82200661e-02, -6.92414492e-02,\n",
       "             1.49081811e-01,  2.60770857e-01, -1.92369401e-01,\n",
       "             1.74541265e-01, -1.02809176e-01,  3.58518571e-01,\n",
       "            -2.80037194e-01,  3.24385613e-02,  3.06476265e-01,\n",
       "             2.63645798e-01,  1.94490224e-01, -1.48122236e-01,\n",
       "             1.75328806e-01, -2.30295599e-01,  2.41491497e-02],\n",
       "           [ 2.27975175e-02,  3.58420797e-02, -2.07942978e-01,\n",
       "             1.62252113e-01,  2.27284834e-01, -1.87050700e-01,\n",
       "             2.67756820e-01, -4.83280905e-02,  2.40760624e-01,\n",
       "             6.15811571e-02, -2.80713469e-01, -1.14231966e-01,\n",
       "            -1.85382202e-01, -2.79518098e-01,  4.11159880e-02,\n",
       "            -4.99726906e-02, -8.66374299e-02,  2.64048222e-02,\n",
       "            -2.20804289e-01, -2.59344965e-01,  4.55632396e-02,\n",
       "             1.30106360e-01, -3.24550599e-01, -3.39339644e-01],\n",
       "           [-3.42165291e-01, -1.54876053e-01,  2.36440420e-01,\n",
       "             1.62190571e-01, -1.90395758e-01, -1.98228240e-01,\n",
       "             8.04192573e-02,  1.08580381e-01,  3.16729516e-01,\n",
       "            -2.15412244e-01,  1.95119858e-01, -1.76692475e-02,\n",
       "            -2.68099576e-01,  1.08791500e-01, -2.00546399e-01,\n",
       "             9.40171629e-02, -2.14351550e-01,  2.25383982e-01,\n",
       "             4.11296934e-02,  1.61751062e-01,  2.82774717e-01,\n",
       "            -9.05032381e-02,  1.77313313e-01, -2.38129973e-01],\n",
       "           [ 3.39432418e-01,  1.40564099e-01,  1.07071713e-01,\n",
       "            -2.66728312e-01, -2.77670711e-01, -4.51976433e-03,\n",
       "            -1.84423730e-01,  1.45505041e-01,  2.80209392e-01,\n",
       "            -2.74027020e-01,  1.35104686e-01,  2.48876493e-02,\n",
       "            -1.80075124e-01, -1.72524422e-01,  8.11782107e-02,\n",
       "            -9.46198627e-02,  1.19287565e-01,  3.32448632e-01,\n",
       "             2.51870751e-02, -8.61964226e-02, -5.37232049e-02,\n",
       "             5.66263944e-02, -2.83205360e-01,  3.42524201e-01],\n",
       "           [ 8.27033073e-02,  3.36430222e-01, -7.26567134e-02,\n",
       "             1.18209049e-01, -1.28837645e-01, -3.30620557e-02,\n",
       "            -1.02910760e-03, -2.13222772e-01, -1.51012763e-01,\n",
       "            -5.41014690e-03, -7.92299584e-03, -1.48604989e-01,\n",
       "            -2.39553496e-01, -1.89751834e-01, -2.00813457e-01,\n",
       "            -1.55534059e-01, -2.49815807e-01, -5.92091978e-02,\n",
       "             2.53558904e-01, -2.79310822e-01,  2.04950094e-01,\n",
       "            -1.41470417e-01,  2.31452379e-02,  1.97187603e-01],\n",
       "           [ 1.60289958e-01, -2.05562249e-01,  3.38387340e-01,\n",
       "             8.53640214e-02, -1.25493379e-02, -7.75842369e-02,\n",
       "             2.89173663e-01, -2.04810843e-01, -3.21579784e-01,\n",
       "             2.48144157e-02, -1.46873936e-01, -2.02014938e-01,\n",
       "             2.42169455e-01,  6.34979503e-03,  3.24032396e-01,\n",
       "             2.69591302e-01, -2.66074538e-01, -2.00662822e-01,\n",
       "             8.06590468e-02,  1.19479686e-01, -2.12878250e-02,\n",
       "             8.15198272e-02,  1.25441730e-01,  2.10227549e-01],\n",
       "           [ 2.11853087e-01,  1.13134071e-01,  1.44778579e-01,\n",
       "            -2.06846222e-01, -2.18042329e-01, -1.76044405e-01,\n",
       "             9.61156189e-02, -2.30699778e-01,  1.98477522e-01,\n",
       "            -8.38765129e-02,  2.69779146e-01, -1.32520527e-01,\n",
       "            -1.61499009e-01, -7.49755353e-02, -7.24610537e-02,\n",
       "            -2.71102071e-01,  2.50199467e-01, -3.26035440e-01,\n",
       "            -1.91899762e-01,  1.26378462e-01,  8.63340124e-02,\n",
       "             8.24702755e-02,  1.43817350e-01, -7.71790817e-02],\n",
       "           [ 6.96429089e-02,  1.27760932e-01,  1.28298923e-01,\n",
       "             2.35382214e-01,  1.83039948e-01,  2.02900082e-01,\n",
       "            -8.24815184e-02, -2.19746726e-03,  2.75833935e-01,\n",
       "             1.30316064e-01,  1.04646556e-01, -1.40688270e-01,\n",
       "            -1.81021802e-02,  2.62753040e-01, -1.98098525e-01,\n",
       "             2.92836636e-01, -1.00700051e-01,  2.73610502e-01,\n",
       "             2.45557949e-01,  1.65884927e-01,  1.49335250e-01,\n",
       "            -2.96674278e-02,  2.47240886e-01,  2.29504392e-01],\n",
       "           [-1.98151559e-01,  2.28764173e-02, -2.06543267e-01,\n",
       "             1.96105406e-01, -5.07251322e-02,  1.46351354e-02,\n",
       "            -2.49547705e-01,  8.80923942e-02, -1.62493646e-01,\n",
       "            -5.96439540e-02,  2.37781912e-01,  3.13405633e-01,\n",
       "            -1.61212161e-01, -2.25159943e-01,  9.25546363e-02,\n",
       "            -2.09870934e-01, -1.40192300e-01,  1.36809841e-01,\n",
       "             2.54924089e-01,  6.51724860e-02,  8.80660117e-02,\n",
       "             3.49541456e-01,  2.31938064e-01, -4.77904491e-02],\n",
       "           [ 1.72469929e-01,  2.93678612e-01, -6.49432391e-02,\n",
       "            -2.35502794e-01,  7.93967620e-02, -1.95531324e-01,\n",
       "            -2.77667761e-01, -2.25077853e-01,  9.28043798e-02,\n",
       "            -3.28400046e-01, -5.84051572e-02,  1.09756336e-01,\n",
       "            -2.16552883e-01, -2.03281716e-01, -2.13952631e-01,\n",
       "            -2.61976600e-01,  4.67318967e-02,  1.03452178e-02,\n",
       "            -5.96072897e-03,  1.76253095e-02,  1.16585314e-01,\n",
       "             2.49780342e-01,  2.17514336e-01,  1.61113322e-01],\n",
       "           [-8.80056545e-02, -2.71258056e-01, -9.21422094e-02,\n",
       "            -2.79269874e-01, -1.07216962e-01, -2.87056148e-01,\n",
       "            -1.40757009e-01,  2.45342106e-01,  2.16937661e-01,\n",
       "            -6.18710518e-02,  1.04918674e-01,  1.03529684e-01,\n",
       "            -8.89105871e-02,  3.56489480e-01,  1.44738093e-01,\n",
       "             9.63994488e-02,  1.37982313e-02, -2.70162076e-01,\n",
       "            -1.60612345e-01, -7.21101314e-02, -2.77626783e-01,\n",
       "            -2.54650801e-01, -2.77854115e-01, -1.88979372e-01],\n",
       "           [-2.90857881e-01, -2.30379075e-01,  2.57408231e-01,\n",
       "            -2.57776797e-01,  1.15817830e-01,  6.11890592e-02,\n",
       "             2.08554253e-01,  2.13592678e-01,  2.11158633e-01,\n",
       "            -1.40157804e-01,  1.39648646e-01, -1.32223099e-01,\n",
       "             2.23692372e-01, -3.93717214e-02,  1.48260430e-01,\n",
       "            -2.09694415e-01, -6.09967113e-02,  7.34305680e-02,\n",
       "             2.72560477e-01, -1.81387082e-01,  3.92213799e-02,\n",
       "            -3.18939686e-02, -1.14558667e-01, -1.90673381e-01],\n",
       "           [ 3.81407514e-02,  2.47374907e-01, -2.86951717e-02,\n",
       "             3.94177288e-02,  6.31346926e-02,  3.36155854e-02,\n",
       "            -4.60500382e-02, -3.41596231e-02,  5.97070307e-02,\n",
       "             2.94882894e-01,  1.10112779e-01,  1.63339064e-01,\n",
       "            -4.36662585e-02, -1.91535264e-01,  1.64380431e-01,\n",
       "             1.48282647e-01, -5.41167371e-02,  1.30654126e-01,\n",
       "            -6.95939735e-03,  6.35551587e-02,  6.90514920e-03,\n",
       "             9.11016837e-02,  2.68806159e-01,  9.19256285e-02],\n",
       "           [ 1.48293287e-01,  1.18931718e-01,  1.27358167e-02,\n",
       "             3.48239511e-01,  3.63810770e-02,  5.39614856e-02,\n",
       "            -2.21453339e-01,  3.02629143e-01,  2.53419466e-02,\n",
       "             2.06046298e-01, -1.36155248e-01, -2.10826084e-01,\n",
       "            -2.43387327e-01, -1.45650012e-02,  7.78908879e-02,\n",
       "             1.90066829e-01, -2.40963995e-01,  2.14667916e-02,\n",
       "            -8.74927491e-02, -8.85632541e-03,  1.67999893e-01,\n",
       "            -1.28584623e-01, -2.15661660e-01, -2.81362951e-01],\n",
       "           [ 1.44597247e-01,  1.75136834e-01, -2.58965909e-01,\n",
       "             1.00584976e-01,  2.95202553e-01,  1.51407391e-01,\n",
       "            -1.75894693e-01,  2.87597328e-01,  2.25974441e-01,\n",
       "            -9.41184983e-02, -4.68486398e-02, -2.04692855e-02,\n",
       "            -1.39828250e-01, -5.67100458e-02,  2.70265698e-01,\n",
       "             2.46478617e-01,  2.35928670e-01, -2.75378793e-01,\n",
       "             2.40331739e-01,  2.93033510e-01, -2.70226747e-01,\n",
       "             4.40931357e-02,  1.20786205e-01, -1.75989568e-01],\n",
       "           [ 2.09879011e-01,  4.62061688e-02,  2.71842837e-01,\n",
       "            -2.70435482e-01, -1.89087182e-01,  2.43091524e-01,\n",
       "            -2.32566133e-01, -1.98398054e-01,  2.97076702e-01,\n",
       "             2.80750245e-01, -3.06596816e-01, -2.32309073e-01,\n",
       "            -2.47209966e-02, -3.49205956e-02, -1.28763571e-01,\n",
       "            -8.04920346e-02,  2.36565992e-01, -2.52736360e-01,\n",
       "             1.91621840e-01,  2.45834857e-01, -1.76214546e-01,\n",
       "             1.03274457e-01,  1.84036404e-01, -4.50547114e-02],\n",
       "           [-2.24887013e-01, -1.46333829e-01,  1.33332193e-01,\n",
       "            -2.27128282e-01,  2.71700948e-01, -1.39037758e-01,\n",
       "             2.60082096e-01, -1.57241404e-01, -1.34454966e-01,\n",
       "             2.39292189e-01,  2.08796322e-01, -1.91458985e-01,\n",
       "             2.06466150e-02, -1.09175786e-01,  2.62221098e-01,\n",
       "            -3.36527169e-01,  5.19833267e-02,  2.38130227e-01,\n",
       "            -1.49924606e-01, -3.86310779e-02,  1.20437019e-01,\n",
       "             4.66011278e-02,  4.42331024e-02,  1.32949501e-01],\n",
       "           [ 9.93323401e-02,  7.97815993e-03, -5.89664606e-03,\n",
       "            -1.04491167e-01, -2.52560616e-01, -2.70636320e-01,\n",
       "            -2.25698486e-01,  3.40374023e-01, -2.32520714e-01,\n",
       "             1.68398008e-01, -8.56459662e-02, -1.10774808e-01,\n",
       "             4.35955881e-05,  1.65691137e-01, -2.27280241e-03,\n",
       "             3.18290830e-01,  1.64994940e-01, -4.04240265e-02,\n",
       "             2.13708371e-01, -3.03828418e-02,  1.69063240e-01,\n",
       "             2.46015951e-01,  4.30788398e-02,  1.41237929e-01],\n",
       "           [-1.49574950e-01,  2.55451202e-01,  2.61627585e-01,\n",
       "            -1.72394231e-01, -1.38191551e-01,  1.66518882e-01,\n",
       "             1.02974921e-01,  6.54827654e-02, -1.91721424e-01,\n",
       "             2.46665984e-01, -3.68250340e-01,  2.45378226e-01,\n",
       "            -1.89107746e-01, -1.68253973e-01, -1.73256889e-01,\n",
       "             1.27898261e-01, -3.07405472e-01,  1.50020987e-01,\n",
       "             5.74799217e-02, -2.71319807e-01,  2.19480842e-01,\n",
       "             6.27736747e-02, -1.64632753e-01,  3.41429487e-02]],      dtype=float32)}}})"
      ]
     },
     "execution_count": 6,
     "metadata": {},
     "output_type": "execute_result"
    }
   ],
   "source": [
    "# initialize a new policy with `make_policy`\n",
    "params"
   ]
  },
  {
   "cell_type": "markdown",
   "id": "9e4b353a-7b58-416f-903e-bf9bbc8c12ec",
   "metadata": {},
   "source": [
    "## Render the Clip"
   ]
  },
  {
   "cell_type": "code",
   "execution_count": 13,
   "id": "9a39db86-dc57-41ce-89ce-3b92774d304e",
   "metadata": {
    "tags": []
   },
   "outputs": [
    {
     "name": "stderr",
     "output_type": "stream",
     "text": [
      "  0%|          | 0/250 [00:00<?, ?it/s]"
     ]
    },
    {
     "name": "stdout",
     "output_type": "stream",
     "text": [
      "[-0.05396793 -0.19769113 -0.01246248  0.05450987  0.12814136  0.00462889\n",
      " -0.01670834 -0.14408304 -0.03095406  0.02165836  0.17953786 -0.05386958]\n",
      "{'distance_from_origin': Traced<ShapedArray(float32[])>with<DynamicJaxprTrace(level=1/0)>, 'forward_reward': Traced<ShapedArray(float32[])>with<DynamicJaxprTrace(level=1/0)>, 'reward_alive': Traced<ShapedArray(float32[], weak_type=True)>with<DynamicJaxprTrace(level=1/0)>, 'reward_linvel': Traced<ShapedArray(float32[])>with<DynamicJaxprTrace(level=1/0)>, 'reward_quadctrl': Traced<ShapedArray(float32[])>with<DynamicJaxprTrace(level=1/0)>, 'x_position': Traced<ShapedArray(float32[])>with<DynamicJaxprTrace(level=1/0)>, 'x_velocity': Traced<ShapedArray(float32[])>with<DynamicJaxprTrace(level=1/0)>, 'y_position': Traced<ShapedArray(float32[])>with<DynamicJaxprTrace(level=1/0)>, 'y_velocity': Traced<ShapedArray(float32[])>with<DynamicJaxprTrace(level=1/0)>}\n"
     ]
    },
    {
     "name": "stderr",
     "output_type": "stream",
     "text": [
      "  0%|          | 1/250 [01:06<4:37:34, 66.88s/it]"
     ]
    },
    {
     "name": "stdout",
     "output_type": "stream",
     "text": [
      "[ 0.27422085  0.99999994 -0.9999989  -0.99977624 -0.99999696 -0.99999994\n",
      " -0.99975854 -0.99999964  0.9983567   0.83791566  0.754382   -0.7818209 ]\n",
      "{'distance_from_origin': Traced<ShapedArray(float32[])>with<DynamicJaxprTrace(level=1/0)>, 'forward_reward': Traced<ShapedArray(float32[])>with<DynamicJaxprTrace(level=1/0)>, 'reward_alive': Traced<ShapedArray(float32[], weak_type=True)>with<DynamicJaxprTrace(level=1/0)>, 'reward_linvel': Traced<ShapedArray(float32[])>with<DynamicJaxprTrace(level=1/0)>, 'reward_quadctrl': Traced<ShapedArray(float32[])>with<DynamicJaxprTrace(level=1/0)>, 'x_position': Traced<ShapedArray(float32[])>with<DynamicJaxprTrace(level=1/0)>, 'x_velocity': Traced<ShapedArray(float32[])>with<DynamicJaxprTrace(level=1/0)>, 'y_position': Traced<ShapedArray(float32[])>with<DynamicJaxprTrace(level=1/0)>, 'y_velocity': Traced<ShapedArray(float32[])>with<DynamicJaxprTrace(level=1/0)>}\n"
     ]
    },
    {
     "name": "stderr",
     "output_type": "stream",
     "text": [
      "  1%|          | 3/250 [02:13<2:29:31, 36.32s/it]"
     ]
    },
    {
     "name": "stdout",
     "output_type": "stream",
     "text": [
      "[ 0.3894259   0.97986776 -0.92984533  0.04700724 -0.9565574  -0.98732734\n",
      " -0.9571718  -0.98945254  0.83513886  0.69899714  0.7404457  -0.710624  ]\n",
      "[ 0.21677165  0.8629362  -0.8663062   0.33082685 -0.8823672  -0.9605413\n",
      " -0.9343674  -0.9735745   0.7691701   0.3219263   0.81019163 -0.6449995 ]\n"
     ]
    },
    {
     "name": "stderr",
     "output_type": "stream",
     "text": [
      "  2%|▏         | 5/250 [02:13<57:40, 14.13s/it]  "
     ]
    },
    {
     "name": "stdout",
     "output_type": "stream",
     "text": [
      "[ 0.9585773   0.9885978  -0.87214535 -0.8648283  -0.9949263  -0.99162036\n",
      " -0.99469584 -0.9959222   0.957518    0.9631884   0.8429117  -0.8008759 ]\n",
      "[ 0.79304874  0.9997062  -0.9839211  -0.75400865 -0.99945927 -0.99975884\n",
      " -0.9999582  -0.9990045   0.9474254   0.9688128   0.9699504  -0.9724739 ]\n"
     ]
    },
    {
     "name": "stderr",
     "output_type": "stream",
     "text": [
      "  3%|▎         | 7/250 [02:14<28:23,  7.01s/it]"
     ]
    },
    {
     "name": "stdout",
     "output_type": "stream",
     "text": [
      "[-0.62978756  0.8656476  -0.91860646  0.86475605 -0.9196935  -0.9939887\n",
      " -0.9514879  -0.9537085   0.8092177  -0.30358183  0.9244744  -0.8883193 ]\n",
      "[ 0.973945    0.9919846  -0.2456772  -0.99224764 -0.8252669  -0.4075658\n",
      " -0.99889535  0.21144944  0.97619224  0.03753975 -0.501741    0.16744348]\n",
      "[ 0.51340425  0.33517027  0.7350375  -0.11079415 -0.02684277  0.12789346\n",
      " -0.18902625  0.27936655  0.6076579  -0.27759096 -0.2857377   0.16555299]\n"
     ]
    },
    {
     "name": "stderr",
     "output_type": "stream",
     "text": [
      "  5%|▌         | 13/250 [02:14<07:24,  1.87s/it]"
     ]
    },
    {
     "name": "stdout",
     "output_type": "stream",
     "text": [
      "[-0.590386    0.1728823   0.82369137 -0.66879064  0.7260767   0.51273006\n",
      "  0.07273819  0.43990898 -0.48493108  0.77240425 -0.31995553 -0.2864149 ]\n",
      "[-0.8007055   0.48658216 -0.2143677  -0.86138844  0.51774395 -0.5442978\n",
      "  0.70034707 -0.5111473  -0.5359163   0.6657519   0.40706813 -0.56067616]\n",
      "[-0.30314958  0.46625292 -0.55454665 -0.60991323  0.08464888 -0.50844705\n",
      " -0.4345097  -0.6092156  -0.58962     0.6803064   0.6378664  -0.2775997 ]\n",
      "[-0.02833692  0.8241133  -0.82347125  0.37272948 -0.80350924 -0.92726064\n",
      " -0.83337945 -0.930683    0.6418286   0.39100584  0.7990412  -0.48737672]\n",
      "[ 0.736986    0.9569011  -0.6786333  -0.7611476  -0.896932   -0.9318232\n",
      " -0.9858104  -0.9332002   0.9422209  -0.2757368   0.76783717 -0.6738585 ]\n",
      "[ 0.9848134   0.9388489  -0.00898812 -0.0881618   0.24426785  0.18561065\n",
      " -0.9482544  -0.02360997  0.98169863 -0.8284039   0.24671042 -0.22505838]\n"
     ]
    },
    {
     "name": "stderr",
     "output_type": "stream",
     "text": [
      "  6%|▌         | 15/250 [02:14<05:20,  1.36s/it]"
     ]
    },
    {
     "name": "stdout",
     "output_type": "stream",
     "text": [
      "[-0.2571855   0.8677387   0.94113076 -0.76785815  0.37740993  0.6163415\n",
      " -0.2586177   0.16676316  0.63166094  0.5958056  -0.8911918   0.4850554 ]\n",
      "[-0.11732329 -0.09060436  0.57075316 -0.39819556  0.30002412  0.06545459\n",
      " -0.01740708  0.3019653  -0.2581994   0.20212683  0.07844546 -0.26989692]\n"
     ]
    },
    {
     "name": "stderr",
     "output_type": "stream",
     "text": [
      "  7%|▋         | 17/250 [02:14<03:54,  1.01s/it]"
     ]
    },
    {
     "name": "stdout",
     "output_type": "stream",
     "text": [
      "[ 0.05558205 -0.2555704   0.30054358 -0.27122614  0.09353457  0.04217165\n",
      "  0.14160566  0.00480851  0.04837997 -0.03477827  0.30380467 -0.11423601]\n",
      "[ 0.0393972   0.09550676  0.23300536 -0.56036633  0.3675665   0.15412371\n",
      " -0.12934014  0.20437764  0.46895745 -0.19563165 -0.29327258  0.32719454]\n"
     ]
    },
    {
     "name": "stderr",
     "output_type": "stream",
     "text": [
      "  8%|▊         | 21/250 [02:15<02:07,  1.79it/s]"
     ]
    },
    {
     "name": "stdout",
     "output_type": "stream",
     "text": [
      "[-0.12313179  0.3514306   0.8471841  -0.9244431   0.11474696  0.34759742\n",
      " -0.24589568  0.22094198  0.3254379  -0.01022669 -0.5820331   0.6085346 ]\n",
      "[-0.34670818 -0.17624591  0.7447493  -0.48807144  0.17236534  0.31358865\n",
      "  0.03818626  0.38359383 -0.08567923  0.1958573  -0.12216412  0.11732134]\n",
      "[-0.39628515 -0.24644844  0.00195959 -0.71914417  0.55088735 -0.15858673\n",
      "  0.623324   -0.43413627 -0.3649887   0.33790198  0.47707543 -0.6223502 ]\n"
     ]
    },
    {
     "name": "stderr",
     "output_type": "stream",
     "text": [
      "  9%|▉         | 23/250 [02:15<01:35,  2.39it/s]"
     ]
    },
    {
     "name": "stdout",
     "output_type": "stream",
     "text": [
      "[-0.2331515   0.11320929 -0.38816217 -0.46077535  0.12499467 -0.45105442\n",
      "  0.2140994  -0.63133705 -0.02599971  0.21486992  0.44821775 -0.4169471 ]\n",
      "[ 0.17462136  0.38720852 -0.58249265  0.00599426 -0.49864945 -0.70707524\n",
      " -0.50152934 -0.80679107  0.50007975  0.08381633  0.5252985  -0.2829002 ]\n",
      "[ 0.9471395   0.9313149  -0.42915314 -0.5003061  -0.6967527  -0.52732223\n",
      " -0.99242574 -0.55852664  0.9677469  -0.75588125  0.6671874  -0.325781  ]\n"
     ]
    },
    {
     "name": "stderr",
     "output_type": "stream",
     "text": [
      " 10%|█         | 25/250 [02:15<01:13,  3.06it/s]"
     ]
    },
    {
     "name": "stdout",
     "output_type": "stream",
     "text": [
      "[ 0.9981798   0.9921086   0.1402885   0.02992781 -0.24225563  0.2366812\n",
      " -0.98234344 -0.05934941  0.99756694 -0.87289417  0.7914612   0.10764007]\n",
      "[ 0.9024446   0.47994426  0.7892879   0.17427537  0.01786199  0.7420293\n",
      " -0.13666365  0.77574265  0.9539509  -0.33087552  0.70612884  0.34563735]\n"
     ]
    },
    {
     "name": "stderr",
     "output_type": "stream",
     "text": [
      " 11%|█         | 27/250 [02:15<00:58,  3.83it/s]"
     ]
    },
    {
     "name": "stdout",
     "output_type": "stream",
     "text": [
      "[ 0.94557446  0.6683492   0.2710774  -0.27634248  0.22787233  0.44359404\n",
      " -0.68560505  0.68859625  0.9160936  -0.4060179   0.37525955  0.2048205 ]\n",
      "[ 0.8000109   0.7845206  -0.3715418  -0.62377185 -0.02949092 -0.34283662\n",
      " -0.8460696   0.4365031   0.8135425  -0.4758485  -0.16367033  0.3230137 ]\n"
     ]
    },
    {
     "name": "stderr",
     "output_type": "stream",
     "text": [
      " 12%|█▏        | 29/250 [02:15<00:47,  4.68it/s]"
     ]
    },
    {
     "name": "stdout",
     "output_type": "stream",
     "text": [
      "[-0.17451467  0.16656461  0.22388425 -0.7550684   0.3663972  -0.24514823\n",
      "  0.08822116 -0.2381271  -0.07448114 -0.01704092  0.20176885 -0.3738279 ]\n",
      "[-0.37184846 -0.2817852  -0.13289148 -0.32932183  0.403618   -0.02769573\n",
      "  0.1517048  -0.21822082 -0.47280732  0.44829303  0.43896922 -0.25229684]\n"
     ]
    },
    {
     "name": "stderr",
     "output_type": "stream",
     "text": [
      " 13%|█▎        | 33/250 [02:16<00:33,  6.43it/s]"
     ]
    },
    {
     "name": "stdout",
     "output_type": "stream",
     "text": [
      "[-0.08249481  0.95900804 -0.93267137 -0.5881576  -0.08808597 -0.83628917\n",
      " -0.8379609  -0.9716884   0.18054888  0.14075969  0.65681785 -0.55306345]\n",
      "[ 0.30388275  0.9751859  -0.943455    0.18412629 -0.9643935  -0.99119806\n",
      " -0.9791802  -0.99134564  0.8558902   0.5495546   0.82298994 -0.8379052 ]\n",
      "[ 0.9627554   0.99425477 -0.8339652  -0.8518771  -0.99797076 -0.99433565\n",
      " -0.99973077 -0.96628076  0.9600471   0.8299462   0.94135183 -0.86043996]\n"
     ]
    },
    {
     "name": "stderr",
     "output_type": "stream",
     "text": [
      " 14%|█▍        | 35/250 [02:16<00:30,  7.02it/s]"
     ]
    },
    {
     "name": "stdout",
     "output_type": "stream",
     "text": [
      "[-0.04144046  0.9664433  -0.9718255   0.64263594 -0.93721163 -0.99363583\n",
      " -0.9898058  -0.9980692   0.91618836 -0.134217    0.9049699  -0.8882261 ]\n",
      "[ 0.92654216  0.3993285  -0.1979445  -0.5979383  -0.8431178  -0.7571771\n",
      " -0.91470987 -0.927773    0.7925346   0.7117397   0.7160403  -0.27392057]\n"
     ]
    },
    {
     "name": "stderr",
     "output_type": "stream",
     "text": [
      " 15%|█▍        | 37/250 [02:16<00:28,  7.48it/s]"
     ]
    },
    {
     "name": "stdout",
     "output_type": "stream",
     "text": [
      "[ 0.8875306   0.2926752   0.22414145 -0.56996185 -0.8087053  -0.65497506\n",
      " -0.8761217  -0.7621272   0.6357869   0.01173533  0.7392931  -0.30667457]\n",
      "[ 0.9726617   0.67507845  0.30676082 -0.30044582 -0.29002798  0.1746625\n",
      " -0.8858026   0.09243236  0.8862681   0.09136181  0.33784652  0.15603742]\n"
     ]
    },
    {
     "name": "stderr",
     "output_type": "stream",
     "text": [
      " 16%|█▌        | 39/250 [02:16<00:25,  8.22it/s]"
     ]
    },
    {
     "name": "stdout",
     "output_type": "stream",
     "text": [
      "[ 0.12718885  0.0393434  -0.0659895  -0.23274295  0.12556446 -0.07845797\n",
      "  0.02440164 -0.08360954  0.17725356  0.02568527  0.04232866 -0.10013428]\n",
      "[-0.46880847  0.14087383  0.30264595 -0.9238941   0.619769   -0.31947255\n",
      "  0.43495178 -0.4364996  -0.36673132  0.44885978  0.62305844 -0.4655324 ]\n",
      "[-0.55675584  0.48851046 -0.61056715 -0.8084562   0.0533359  -0.6008943\n",
      " -0.05190137 -0.4460726  -0.5788091   0.63219196  0.5388547  -0.32517275]\n"
     ]
    },
    {
     "name": "stderr",
     "output_type": "stream",
     "text": [
      " 17%|█▋        | 43/250 [02:17<00:21,  9.78it/s]"
     ]
    },
    {
     "name": "stdout",
     "output_type": "stream",
     "text": [
      "[-0.38967714  0.26520693 -0.4166306   0.13487948 -0.34705514 -0.76092553\n",
      " -0.4922492  -0.66227216  0.11676279  0.2227409   0.6885672  -0.44087997]\n",
      "[ 0.36724618  0.73780197 -0.6809821  -0.50296247 -0.6955486  -0.82544476\n",
      " -0.6441836  -0.8962437   0.66355354  0.23406067  0.39566395 -0.30732152]\n",
      "[ 0.6906379   0.4283248  -0.03922319 -0.13883157 -0.33758017 -0.33395898\n",
      " -0.71629465 -0.504322    0.6305898  -0.20332588  0.2675471  -0.11992895]\n"
     ]
    },
    {
     "name": "stderr",
     "output_type": "stream",
     "text": [
      " 18%|█▊        | 45/250 [02:17<00:20, 10.24it/s]"
     ]
    },
    {
     "name": "stdout",
     "output_type": "stream",
     "text": [
      "[ 0.54463387  0.4635761   0.1773683  -0.44144088  0.04923911 -0.14803988\n",
      " -0.45286247 -0.32099172  0.53595006 -0.33730158 -0.22475952 -0.01032834]\n",
      "[-0.09687889  0.38322154  0.7723424  -0.87503505  0.31114414  0.06292144\n",
      " -0.0784516   0.02505737 -0.25506756  0.06842838 -0.24813093 -0.03577585]\n",
      "[-0.3998148  -0.09326296  0.56828856 -0.636912    0.47893834  0.1796867\n",
      "  0.04569779  0.2656851  -0.3637137   0.39447865  0.27863586 -0.244893  ]\n"
     ]
    },
    {
     "name": "stderr",
     "output_type": "stream",
     "text": [
      " 20%|█▉        | 49/250 [02:17<00:16, 12.05it/s]"
     ]
    },
    {
     "name": "stdout",
     "output_type": "stream",
     "text": [
      "[-0.40003884 -0.15622313 -0.05476954 -0.6873914   0.3121403  -0.22474508\n",
      "  0.34857792 -0.18076697 -0.29606104  0.4427906   0.5199665  -0.42908847]\n",
      "[-0.27970427  0.46586853 -0.6517531  -0.6421473  -0.04964077 -0.57491595\n",
      "  0.18020666 -0.5773834  -0.0580464   0.5168553   0.33883417 -0.24355131]\n",
      "[ 0.16340934  0.6031412  -0.6713351  -0.32916945 -0.4397699  -0.62876266\n",
      " -0.3057592  -0.7273493   0.2837446   0.46390525  0.35555735 -0.12382215]\n",
      "[ 0.53486276  0.6205254  -0.5261553  -0.3880607  -0.3752658  -0.6014752\n",
      " -0.46195304 -0.75153327  0.67725194  0.2122457   0.23815754 -0.17102604]\n"
     ]
    },
    {
     "name": "stderr",
     "output_type": "stream",
     "text": [
      " 20%|██        | 51/250 [02:17<00:17, 11.45it/s]"
     ]
    },
    {
     "name": "stdout",
     "output_type": "stream",
     "text": [
      "[ 0.5257958   0.2835903  -0.07181703 -0.06375661  0.05625518 -0.16618384\n",
      " -0.4764706  -0.45202786  0.3979987  -0.4296187   0.17529145 -0.20367528]\n",
      "[ 0.2606021   0.7057097  -0.40892357 -0.71818316 -0.14230974 -0.5780968\n",
      " -0.4440882  -0.34994385  0.5832068  -0.09954786 -0.15913706  0.02737192]\n"
     ]
    },
    {
     "name": "stderr",
     "output_type": "stream",
     "text": [
      " 21%|██        | 53/250 [02:18<00:19, 10.29it/s]"
     ]
    },
    {
     "name": "stdout",
     "output_type": "stream",
     "text": [
      "[ 0.29275876  0.39134273  0.59911096 -0.5464723   0.01848051 -0.00082753\n",
      " -0.20808366  0.05525295  0.38131857 -0.10821808 -0.31476137  0.1256806 ]\n",
      "[-0.15410694 -0.10770807  0.32799    -0.32765296  0.26202452 -0.07574545\n",
      "  0.08063208  0.08831172 -0.04005355  0.15092991  0.22487515 -0.2535287 ]\n"
     ]
    },
    {
     "name": "stderr",
     "output_type": "stream",
     "text": [
      " 23%|██▎       | 57/250 [02:18<00:19,  9.96it/s]"
     ]
    },
    {
     "name": "stdout",
     "output_type": "stream",
     "text": [
      "[-0.37515587  0.1760898  -0.5793125  -0.6056664   0.22529747 -0.3771957\n",
      "  0.45026022 -0.23481776 -0.07771182  0.39166728  0.12211099 -0.31177494]\n",
      "[-0.1722432   0.23120573 -0.59979814 -0.45220563  0.05246736 -0.32260564\n",
      "  0.1377268  -0.43718147 -0.260966    0.4349858   0.20983262 -0.20569104]\n",
      "[ 0.2528202   0.51408666 -0.5836037  -0.19750649 -0.6025958  -0.7263668\n",
      " -0.6049167  -0.78558826  0.29532203  0.3935056   0.49656355 -0.21011132]\n"
     ]
    },
    {
     "name": "stderr",
     "output_type": "stream",
     "text": [
      " 24%|██▎       | 59/250 [02:18<00:18, 10.15it/s]"
     ]
    },
    {
     "name": "stdout",
     "output_type": "stream",
     "text": [
      "[ 0.8395604   0.9039378  -0.3187349  -0.729098   -0.95298326 -0.8866453\n",
      " -0.9849051  -0.7355307   0.80049753  0.28388485  0.6949113  -0.43398002]\n",
      "[ 0.96086043  0.8642936   0.34281975 -0.39589876 -0.8475519  -0.09750071\n",
      " -0.9654182  -0.30011     0.89586496 -0.4938245   0.79351753  0.31292567]\n"
     ]
    },
    {
     "name": "stderr",
     "output_type": "stream",
     "text": [
      " 24%|██▍       | 61/250 [02:19<00:18, 10.39it/s]"
     ]
    },
    {
     "name": "stdout",
     "output_type": "stream",
     "text": [
      "[ 0.9681711   0.89401466  0.48218927  0.06006121 -0.3267651   0.3020947\n",
      " -0.7662434  -0.17269254  0.9074171  -0.42052054  0.89304286  0.05498044]\n",
      "[ 0.84434354  0.6855523  -0.17123277 -0.4456265  -0.35879257 -0.4110764\n",
      " -0.8310078   0.200805    0.81921726 -0.79974294  0.8367347  -0.06606111]\n",
      "[ 0.5618147   0.12310512  0.3957829  -0.41227698  0.02054007  0.3433293\n",
      " -0.31910676  0.26860303  0.6045904  -0.45368606  0.7322195   0.11665817]\n"
     ]
    },
    {
     "name": "stderr",
     "output_type": "stream",
     "text": [
      " 26%|██▌       | 65/250 [02:19<00:16, 11.49it/s]"
     ]
    },
    {
     "name": "stdout",
     "output_type": "stream",
     "text": [
      "[-0.388244   -0.00110524 -0.33372784 -0.4426394   0.27448913 -0.05458723\n",
      "  0.19829942  0.1035568   0.11496937  0.13024037 -0.25228426  0.10615144]\n",
      "[-0.69327766 -0.18531981  0.8767948  -0.786065    0.77523524  0.28718737\n",
      "  0.6031041  -0.03608163 -0.20955804  0.5374403   0.06128743 -0.04109264]\n",
      "[-0.19701596 -0.44850165 -0.01444795 -0.29157886  0.5610134   0.16940904\n",
      "  0.45731044 -0.52019817 -0.47029597 -0.02712766  0.25606385 -0.33148667]\n"
     ]
    },
    {
     "name": "stderr",
     "output_type": "stream",
     "text": [
      " 27%|██▋       | 67/250 [02:19<00:16, 10.83it/s]"
     ]
    },
    {
     "name": "stdout",
     "output_type": "stream",
     "text": [
      "[-0.26988882 -0.2607625  -0.2209578  -0.31183493  0.38000217 -0.10250065\n",
      "  0.23383833 -0.5202687  -0.40650645  0.14879268  0.40144262 -0.3902299 ]\n",
      "[-0.03058156  0.19791403 -0.39407295 -0.30530336 -0.22088441 -0.5783536\n",
      " -0.2645629  -0.77396977  0.16436648  0.11658784  0.5823841  -0.38422483]\n"
     ]
    },
    {
     "name": "stderr",
     "output_type": "stream",
     "text": [
      " 28%|██▊       | 69/250 [02:19<00:17, 10.58it/s]"
     ]
    },
    {
     "name": "stdout",
     "output_type": "stream",
     "text": [
      "[ 0.35759154  0.695798   -0.49250865  0.03817409 -0.8684121  -0.81059015\n",
      " -0.9489434  -0.86082554  0.76646364 -0.12918232  0.8134875  -0.41876113]\n",
      "[ 0.9955169   0.98847806  0.11544257 -0.56618124 -0.8703636   0.03957633\n",
      " -0.9975751  -0.24925731  0.9948174  -0.7253593   0.7475464   0.3718016 ]\n"
     ]
    },
    {
     "name": "stderr",
     "output_type": "stream",
     "text": [
      " 28%|██▊       | 71/250 [02:19<00:17, 10.28it/s]"
     ]
    },
    {
     "name": "stdout",
     "output_type": "stream",
     "text": [
      "[ 0.99634844  0.96593535  0.54916674 -0.16044658 -0.11422712  0.47109377\n",
      " -0.8419587   0.2900971   0.99293756 -0.771859    0.7739522   0.13887714]\n",
      "[ 0.6016771   0.16605477  0.4369893  -0.17083691  0.05170063  0.3155765\n",
      " -0.27511066  0.51740384  0.7343088  -0.4878994   0.52252305  0.27484453]\n",
      "[-0.40796748 -0.2981086   0.24197935 -0.365437    0.35646814  0.08817282\n",
      "  0.22235732  0.16809663  0.35948935 -0.23948112  0.24596334  0.00066823]\n"
     ]
    },
    {
     "name": "stderr",
     "output_type": "stream",
     "text": [
      " 29%|██▉       | 73/250 [02:20<00:17, 10.08it/s]"
     ]
    },
    {
     "name": "stdout",
     "output_type": "stream",
     "text": [
      "[-0.44951534 -0.1997127  -0.30898216 -0.29087076  0.42472732 -0.14402436\n",
      "  0.35596994 -0.1250626  -0.12996086  0.10622558  0.03094012 -0.24239334]\n",
      "[-0.474691   -0.31321222  0.23298195 -0.68308026  0.7530806   0.00539435\n",
      "  0.49092415 -0.445511   -0.4339638   0.3693326   0.43527928 -0.31866616]\n"
     ]
    },
    {
     "name": "stderr",
     "output_type": "stream",
     "text": [
      " 30%|███       | 76/250 [02:20<00:18,  9.43it/s]"
     ]
    },
    {
     "name": "stdout",
     "output_type": "stream",
     "text": [
      "[-0.0282215   0.8500797  -0.8640688   0.2044314  -0.41574192 -0.89053214\n",
      " -0.8514241  -0.9473432   0.34564173  0.1283107   0.7118042  -0.5206207 ]\n",
      "[ 0.10557334  0.91221416 -0.86992514  0.26838672 -0.95518345 -0.9784064\n",
      " -0.9720616  -0.974581    0.82639194  0.35918254  0.9105112  -0.76814103]\n"
     ]
    },
    {
     "name": "stderr",
     "output_type": "stream",
     "text": [
      " 31%|███       | 78/250 [02:20<00:18,  9.24it/s]"
     ]
    },
    {
     "name": "stdout",
     "output_type": "stream",
     "text": [
      "[ 0.9932317   0.9982565  -0.3931185  -0.90223795 -0.99366426 -0.87802166\n",
      " -0.9998375  -0.72994304  0.9955884  -0.09410729  0.9330398  -0.45008552]\n",
      "[ 0.97640187  0.9104487   0.35526508 -0.44670206 -0.82649875 -0.08261729\n",
      " -0.97226965 -0.2602159   0.95749664 -0.4855435   0.78546584  0.37672922]\n"
     ]
    },
    {
     "name": "stderr",
     "output_type": "stream",
     "text": [
      " 32%|███▏      | 80/250 [02:20<00:19,  8.81it/s]"
     ]
    },
    {
     "name": "stdout",
     "output_type": "stream",
     "text": [
      "[ 0.84110343  0.40585142  0.65110433 -0.12151726 -0.12483087  0.32580355\n",
      " -0.2562636   0.4005435   0.82212865 -0.3486163   0.71922845  0.18137373]\n",
      "[-0.11940317 -0.22990768  0.39150864 -0.25983775  0.11857738  0.13968661\n",
      "  0.04464211  0.16781649  0.18150106 -0.00339077  0.43632826  0.03719184]\n"
     ]
    },
    {
     "name": "stderr",
     "output_type": "stream",
     "text": [
      " 33%|███▎      | 82/250 [02:21<00:17,  9.57it/s]"
     ]
    },
    {
     "name": "stdout",
     "output_type": "stream",
     "text": [
      "[-0.36957693 -0.16159976 -0.25729382 -0.35982418  0.30871087 -0.10067634\n",
      "  0.3401434  -0.10351904 -0.2115904   0.1841525   0.13896632 -0.24948205]\n",
      "[-0.4456005  -0.20920542 -0.23096657 -0.58271194  0.6414789   0.12467952\n",
      "  0.47054654 -0.39777693 -0.64210296  0.4277326   0.33589384 -0.41666067]\n"
     ]
    },
    {
     "name": "stderr",
     "output_type": "stream",
     "text": [
      " 34%|███▎      | 84/250 [02:21<00:17,  9.46it/s]"
     ]
    },
    {
     "name": "stdout",
     "output_type": "stream",
     "text": [
      "[-0.3075768   0.5608047  -0.67923343 -0.43175006  0.22454044 -0.5659533\n",
      " -0.51428837 -0.79243237 -0.42014912  0.03814553  0.53709495 -0.43441546]\n",
      "[-0.33138764  0.56373507 -0.6401217   0.07217225 -0.48754674 -0.84040177\n",
      " -0.5350449  -0.8169209   0.2554384   0.22086279  0.64445025 -0.53122973]\n",
      "[ 0.45636326  0.90231645 -0.6939256  -0.27518934 -0.9380374  -0.9314254\n",
      " -0.98015416 -0.95716566  0.81480354  0.3314318   0.7895018  -0.66303134]\n"
     ]
    },
    {
     "name": "stderr",
     "output_type": "stream",
     "text": [
      " 35%|███▍      | 87/250 [02:21<00:17,  9.48it/s]"
     ]
    },
    {
     "name": "stdout",
     "output_type": "stream",
     "text": [
      "[ 0.9686912   0.96811604  0.04571184 -0.7217196  -0.9485832  -0.42066315\n",
      " -0.9958327  -0.5854779   0.9684694  -0.18514484  0.82483244  0.07421602]\n",
      "[ 0.9577155   0.7673836   0.5676811  -0.17245214 -0.19514649  0.23200141\n",
      " -0.63406414  0.1119757   0.891085   -0.54780304  0.63903457  0.11157821]\n"
     ]
    },
    {
     "name": "stderr",
     "output_type": "stream",
     "text": [
      " 36%|███▌      | 89/250 [02:21<00:17,  8.96it/s]"
     ]
    },
    {
     "name": "stdout",
     "output_type": "stream",
     "text": [
      "[-0.01066199 -0.16716264  0.5591353  -0.05590528  0.06382116  0.20127779\n",
      "  0.04972469  0.34712085  0.42207983 -0.13154028  0.4475503   0.151799  ]\n",
      "[-0.4670859  -0.3030194   0.15022877 -0.4643014   0.37585902  0.01560894\n",
      "  0.24287991  0.08573635  0.07522567 -0.04529193  0.23521087 -0.13196138]\n"
     ]
    },
    {
     "name": "stderr",
     "output_type": "stream",
     "text": [
      " 36%|███▋      | 91/250 [02:22<00:17,  8.94it/s]"
     ]
    },
    {
     "name": "stdout",
     "output_type": "stream",
     "text": [
      "[-0.5402706  -0.07614296 -0.09779868 -0.5803348   0.447851   -0.17362738\n",
      "  0.39375642 -0.11564219 -0.17184226  0.17388912  0.0481972  -0.1727431 ]\n",
      "[-0.442359   -0.39193517  0.24688825 -0.5760247   0.59757495 -0.02079966\n",
      "  0.35168886 -0.33044505 -0.39466923  0.31326056  0.41607442 -0.1825693 ]\n"
     ]
    },
    {
     "name": "stderr",
     "output_type": "stream",
     "text": [
      " 37%|███▋      | 93/250 [02:22<00:17,  9.15it/s]"
     ]
    },
    {
     "name": "stdout",
     "output_type": "stream",
     "text": [
      "[-0.26617023 -0.01794012 -0.40075082 -0.20775642  0.20051771 -0.2538431\n",
      " -0.19613801 -0.5403247  -0.4360457   0.29256955  0.5411882  -0.29590783]\n",
      "[-0.05958541  0.5040847  -0.64913064  0.18442099 -0.55622625 -0.777084\n",
      " -0.582198   -0.84245175  0.40329063  0.13181211  0.66728985 -0.35766864]\n"
     ]
    },
    {
     "name": "stderr",
     "output_type": "stream",
     "text": [
      " 38%|███▊      | 95/250 [02:22<00:16,  9.16it/s]"
     ]
    },
    {
     "name": "stdout",
     "output_type": "stream",
     "text": [
      "[ 0.882748    0.942904   -0.39578116 -0.5747096  -0.92823476 -0.76545954\n",
      " -0.99273187 -0.79428804  0.94505256 -0.48775148  0.85083175 -0.35298803]\n",
      "[ 0.99683315  0.9852395   0.49053335 -0.11196655 -0.28001514  0.27561474\n",
      " -0.9439057  -0.16963506  0.9930516  -0.8392165   0.74202263  0.20548637]\n"
     ]
    },
    {
     "name": "stderr",
     "output_type": "stream",
     "text": [
      " 38%|███▊      | 96/250 [02:22<00:16,  9.10it/s]"
     ]
    },
    {
     "name": "stdout",
     "output_type": "stream",
     "text": [
      "[ 0.91238683  0.58091974  0.5139543   0.00466607 -0.09102541  0.471642\n",
      " -0.5263228   0.5750314   0.89100367 -0.40877354  0.62440795  0.16989538]\n",
      "[ 0.2666914   0.01477378  0.29310283 -0.33354795 -0.05057797  0.02631248\n",
      " -0.26451865  0.04874651  0.36825383 -0.36437863  0.6999858  -0.00484811]\n"
     ]
    },
    {
     "name": "stderr",
     "output_type": "stream",
     "text": [
      " 40%|███▉      | 99/250 [02:23<00:16,  9.13it/s]"
     ]
    },
    {
     "name": "stdout",
     "output_type": "stream",
     "text": [
      "[-0.21447816 -0.24145892  0.17067826 -0.32439908  0.18000671  0.00732355\n",
      "  0.08967201  0.05771742  0.17113137 -0.11047554  0.37004814 -0.06773651]\n",
      "[-0.3243173  -0.24079742 -0.1837565  -0.13470466  0.25649264 -0.04646675\n",
      "  0.23324762 -0.06629413 -0.23496929  0.15098043  0.12387771 -0.18901682]\n"
     ]
    },
    {
     "name": "stderr",
     "output_type": "stream",
     "text": [
      " 40%|████      | 101/250 [02:23<00:16,  8.82it/s]"
     ]
    },
    {
     "name": "stdout",
     "output_type": "stream",
     "text": [
      "[-0.22643751 -0.1282678  -0.4315619  -0.28533587  0.49419916  0.25086036\n",
      "  0.2627119  -0.4353192  -0.6353501   0.30315867  0.22534318 -0.31620982]\n",
      "[-0.16343924  0.6036499  -0.7075954  -0.3542212   0.15319563 -0.547359\n",
      " -0.5520843  -0.8360386  -0.27470672  0.05164082  0.55055815 -0.405313  ]\n"
     ]
    },
    {
     "name": "stderr",
     "output_type": "stream",
     "text": [
      " 41%|████      | 103/250 [02:23<00:16,  8.69it/s]"
     ]
    },
    {
     "name": "stdout",
     "output_type": "stream",
     "text": [
      "[-0.22532001  0.8042719  -0.8029477   0.43725905 -0.84557664 -0.95359087\n",
      " -0.8355229  -0.9303611   0.6658524   0.13208392  0.7578697  -0.68717563]\n",
      "[ 0.9561032   0.9875654  -0.48327467 -0.7611029  -0.9822729  -0.8406171\n",
      " -0.99904424 -0.86021787  0.97251874  0.16072305  0.8800503  -0.4233744 ]\n"
     ]
    },
    {
     "name": "stderr",
     "output_type": "stream",
     "text": [
      " 42%|████▏     | 105/250 [02:23<00:16,  8.71it/s]"
     ]
    },
    {
     "name": "stdout",
     "output_type": "stream",
     "text": [
      "[ 0.9806746   0.94403386  0.36747923 -0.50953203 -0.84714067  0.00731801\n",
      " -0.9838599  -0.21332711  0.96591485 -0.5700722   0.80004716  0.48350084]\n",
      "[ 0.8887216   0.4964197   0.66246295 -0.1882897  -0.11241679  0.36930728\n",
      " -0.3056648   0.47521874  0.86436146 -0.39075008  0.7282848   0.19688028]\n"
     ]
    },
    {
     "name": "stderr",
     "output_type": "stream",
     "text": [
      " 43%|████▎     | 107/250 [02:23<00:16,  8.82it/s]"
     ]
    },
    {
     "name": "stdout",
     "output_type": "stream",
     "text": [
      "[-0.20168194 -0.22754452  0.5144422  -0.2271812   0.09467863  0.15531793\n",
      "  0.13795345  0.30576465  0.38427365 -0.14999661  0.41187263  0.13122593]\n",
      "[-0.32679182 -0.3112563   0.0292731  -0.30142525  0.2207816  -0.01224356\n",
      "  0.20474188  0.01403038 -0.05717922  0.01325699  0.26354766 -0.15439011]\n"
     ]
    },
    {
     "name": "stderr",
     "output_type": "stream",
     "text": [
      " 44%|████▎     | 109/250 [02:24<00:15,  8.90it/s]"
     ]
    },
    {
     "name": "stdout",
     "output_type": "stream",
     "text": [
      "[-0.38610896 -0.10962123 -0.29303968 -0.37815812  0.3436965  -0.10186862\n",
      "  0.31474072 -0.21585372 -0.34184793  0.22474189  0.13987792 -0.2311865 ]\n",
      "[-0.2779844  -0.2595986  -0.27567446 -0.3865812   0.5397186   0.16597761\n",
      "  0.23224837 -0.4607566  -0.62586117  0.3147819   0.38579926 -0.3543164 ]\n"
     ]
    },
    {
     "name": "stderr",
     "output_type": "stream",
     "text": [
      " 44%|████▍     | 111/250 [02:24<00:15,  8.88it/s]"
     ]
    },
    {
     "name": "stdout",
     "output_type": "stream",
     "text": [
      "[-0.2177497   0.52069426 -0.67320627 -0.20509532 -0.0226708  -0.66535455\n",
      " -0.5315945  -0.84304273 -0.12994137  0.09571628  0.6200989  -0.45906278]\n",
      "[-0.11659683  0.8019286  -0.79720706  0.38061824 -0.8801115  -0.945889\n",
      " -0.8652214  -0.94849765  0.7467632   0.18417694  0.806584   -0.6558136 ]\n"
     ]
    },
    {
     "name": "stderr",
     "output_type": "stream",
     "text": [
      " 45%|████▌     | 113/250 [02:24<00:15,  9.02it/s]"
     ]
    },
    {
     "name": "stdout",
     "output_type": "stream",
     "text": [
      "[ 0.9813174   0.990477   -0.3439565  -0.8074514  -0.9757711  -0.7475885\n",
      " -0.9991237  -0.74633384  0.988435   -0.21882606  0.85018235 -0.3316962 ]\n",
      "[ 0.9935674   0.95814425  0.58890516 -0.28102714 -0.46093816  0.27937463\n",
      " -0.92511994 -0.05704972  0.9803506  -0.6984467   0.6621504   0.338598  ]\n"
     ]
    },
    {
     "name": "stderr",
     "output_type": "stream",
     "text": [
      " 46%|████▌     | 115/250 [02:24<00:14,  9.08it/s]"
     ]
    },
    {
     "name": "stdout",
     "output_type": "stream",
     "text": [
      "[ 0.68667394  0.18283963  0.7153399  -0.05201234 -0.12035108  0.34288144\n",
      " -0.10847607  0.50930476  0.7770712  -0.30251712  0.6467475   0.2614425 ]\n",
      "[-0.11805107 -0.19345805  0.3726561  -0.39681005  0.10257295  0.06804462\n",
      "  0.02788339  0.10280574  0.26774856 -0.15775625  0.5327314  -0.01862049]\n"
     ]
    },
    {
     "name": "stderr",
     "output_type": "stream",
     "text": [
      " 47%|████▋     | 117/250 [02:25<00:14,  9.08it/s]"
     ]
    },
    {
     "name": "stdout",
     "output_type": "stream",
     "text": [
      "[-0.37931442 -0.29531997 -0.05506287 -0.29188558  0.31136265 -0.00275721\n",
      "  0.25445184  0.02574872 -0.0049535  -0.00053037  0.17442787 -0.15084201]\n",
      "[-0.43161273 -0.15747061 -0.23393779 -0.4488429   0.44978812 -0.09029986\n",
      "  0.3847333  -0.26887804 -0.38801214  0.30024555  0.22653566 -0.28539637]\n"
     ]
    },
    {
     "name": "stderr",
     "output_type": "stream",
     "text": [
      " 48%|████▊     | 119/250 [02:25<00:15,  8.72it/s]"
     ]
    },
    {
     "name": "stdout",
     "output_type": "stream",
     "text": [
      "[-0.28241202 -0.02021987 -0.44938937 -0.32097077  0.43710047  0.02036004\n",
      " -0.02691985 -0.53127843 -0.5922201   0.2161126   0.3849548  -0.31972787]\n",
      "[-0.1986243   0.65072596 -0.7283328  -0.1834377  -0.23176458 -0.75694364\n",
      " -0.57708293 -0.84979934  0.01046717  0.14337349  0.5921542  -0.44083774]\n"
     ]
    },
    {
     "name": "stderr",
     "output_type": "stream",
     "text": [
      " 48%|████▊     | 121/250 [02:25<00:14,  8.76it/s]"
     ]
    },
    {
     "name": "stdout",
     "output_type": "stream",
     "text": [
      "[-0.00222468  0.82059795 -0.7158261   0.22150347 -0.9094368  -0.9407911\n",
      " -0.92786443 -0.9409185   0.7484285   0.25100744  0.8018848  -0.69562906]\n",
      "[ 0.9828167   0.99066156 -0.24013813 -0.82267606 -0.97927415 -0.71598977\n",
      " -0.9990595  -0.70088446  0.9863158  -0.08652379  0.8619582  -0.22812659]\n"
     ]
    },
    {
     "name": "stderr",
     "output_type": "stream",
     "text": [
      " 49%|████▉     | 123/250 [02:25<00:14,  8.90it/s]"
     ]
    },
    {
     "name": "stdout",
     "output_type": "stream",
     "text": [
      "[ 0.9860117   0.9098291   0.57418275 -0.29027438 -0.47007662  0.21285126\n",
      " -0.8912304  -0.04255833  0.9555098  -0.6329331   0.63172984  0.31314158]\n",
      "[ 0.5592937   0.06678946  0.68987626 -0.04009154 -0.10302208  0.24305505\n",
      " -0.04723613  0.48226836  0.7279151  -0.3003287   0.58961976  0.24244158]\n"
     ]
    },
    {
     "name": "stderr",
     "output_type": "stream",
     "text": [
      " 50%|█████     | 125/250 [02:25<00:14,  8.60it/s]"
     ]
    },
    {
     "name": "stdout",
     "output_type": "stream",
     "text": [
      "[-0.21587229 -0.21784982  0.3641322  -0.318       0.13710469  0.07615147\n",
      "  0.09981988  0.18216802  0.31202924 -0.18085942  0.42918155  0.02365215]\n",
      "[-0.39908355 -0.2982409  -0.0431238  -0.31671938  0.28599185 -0.02132459\n",
      "  0.253459    0.03466385 -0.03638429  0.0089092   0.15109812 -0.14180125]\n"
     ]
    },
    {
     "name": "stderr",
     "output_type": "stream",
     "text": [
      " 51%|█████     | 127/250 [02:26<00:14,  8.64it/s]"
     ]
    },
    {
     "name": "stdout",
     "output_type": "stream",
     "text": [
      "[-0.38949803 -0.19019774 -0.14752968 -0.4354517   0.40754244 -0.07927369\n",
      "  0.29986244 -0.22850132 -0.3383938   0.18344884  0.175463   -0.2023652 ]\n",
      "[-0.30067635 -0.3335759  -0.165596   -0.4066901   0.529398    0.09118944\n",
      "  0.21932352 -0.45063242 -0.5892335   0.31219083  0.45572042 -0.35104334]\n"
     ]
    },
    {
     "name": "stderr",
     "output_type": "stream",
     "text": [
      " 52%|█████▏    | 129/250 [02:26<00:14,  8.60it/s]"
     ]
    },
    {
     "name": "stdout",
     "output_type": "stream",
     "text": [
      "[-0.18957828  0.500353   -0.68190753  0.0368348  -0.22956316 -0.74781036\n",
      " -0.575844   -0.86358756  0.1068041   0.06638669  0.6569731  -0.45582792]\n",
      "[ 0.14866999  0.84514177 -0.7766369   0.10687094 -0.92110735 -0.9470311\n",
      " -0.9269118  -0.94739497  0.7589039   0.34091914  0.8290477  -0.6370978 ]\n"
     ]
    },
    {
     "name": "stderr",
     "output_type": "stream",
     "text": [
      " 52%|█████▏    | 131/250 [02:26<00:14,  8.44it/s]"
     ]
    },
    {
     "name": "stdout",
     "output_type": "stream",
     "text": [
      "[ 0.98550785  0.99207354 -0.15252683 -0.81714344 -0.98036194 -0.61456597\n",
      " -0.99915916 -0.6236802   0.9883729  -0.14247696  0.8870087  -0.05387934]\n",
      "[ 0.98788255  0.9224832   0.5709882  -0.29324198 -0.5635144   0.18490563\n",
      " -0.90837055 -0.04560028  0.958174   -0.630355    0.69080704  0.37504822]\n"
     ]
    },
    {
     "name": "stderr",
     "output_type": "stream",
     "text": [
      " 53%|█████▎    | 133/250 [02:26<00:13,  8.97it/s]"
     ]
    },
    {
     "name": "stdout",
     "output_type": "stream",
     "text": [
      "[ 0.73096424  0.19532958  0.7141473  -0.09169439 -0.17678916  0.29680783\n",
      " -0.11532273  0.45723414  0.792073   -0.29968956  0.7142781   0.25635552]\n",
      "[-0.02544352 -0.15748632  0.39478162 -0.39076322  0.02663063  0.04913887\n",
      " -0.0033062   0.10886195  0.2991693  -0.1731946   0.58481884 -0.0042644 ]\n"
     ]
    },
    {
     "name": "stderr",
     "output_type": "stream",
     "text": [
      " 54%|█████▍    | 135/250 [02:27<00:12,  9.16it/s]"
     ]
    },
    {
     "name": "stdout",
     "output_type": "stream",
     "text": [
      "[-0.37294805 -0.3063507   0.00400665 -0.3030563   0.29700315  0.00851208\n",
      "  0.22488275  0.04188692  0.02402984 -0.02944007  0.209672   -0.13028722]\n",
      "[-0.46976346 -0.16774718 -0.12683816 -0.5262374   0.5006817  -0.12899671\n",
      "  0.4114231  -0.2530054  -0.3376973   0.29855567  0.24802144 -0.28867158]\n"
     ]
    },
    {
     "name": "stderr",
     "output_type": "stream",
     "text": [
      " 54%|█████▍    | 136/250 [02:27<00:12,  9.14it/s]"
     ]
    },
    {
     "name": "stdout",
     "output_type": "stream",
     "text": [
      "[-0.30846494 -0.0988965  -0.37884927 -0.35712907  0.4797279   0.00752677\n",
      " -0.02019915 -0.54149383 -0.6113174   0.2258293   0.4498118  -0.35303336]\n",
      "[-0.24169661  0.65745074 -0.73170716 -0.21441768 -0.20858076 -0.76305306\n",
      " -0.5669064  -0.83769333 -0.03164725  0.14896755  0.5842778  -0.44668555]\n"
     ]
    },
    {
     "name": "stderr",
     "output_type": "stream",
     "text": [
      " 56%|█████▌    | 139/250 [02:27<00:12,  9.15it/s]"
     ]
    },
    {
     "name": "stdout",
     "output_type": "stream",
     "text": [
      "[-0.05549682  0.7939466  -0.69709593  0.25269362 -0.8933472  -0.93156403\n",
      " -0.9062087  -0.93462914  0.7334136   0.20580882  0.774032   -0.67718947]\n",
      "[ 0.98329586  0.98815835 -0.201752   -0.8147596  -0.97713536 -0.6685791\n",
      " -0.9989019  -0.7275776   0.9855432  -0.05304582  0.8360575  -0.20582256]\n"
     ]
    },
    {
     "name": "stderr",
     "output_type": "stream",
     "text": [
      " 56%|█████▋    | 141/250 [02:27<00:12,  8.96it/s]"
     ]
    },
    {
     "name": "stdout",
     "output_type": "stream",
     "text": [
      "[ 0.98741794  0.9211438   0.5631742  -0.29043132 -0.53653926  0.1887253\n",
      " -0.915086   -0.09459589  0.9599702  -0.63943684  0.6681756   0.36173266]\n",
      "[ 0.7116403   0.17384766  0.6970303  -0.06107882 -0.11803166  0.2900786\n",
      " -0.12607953  0.48423445  0.779195   -0.28546193  0.6153521   0.24351014]\n"
     ]
    },
    {
     "name": "stderr",
     "output_type": "stream",
     "text": [
      " 57%|█████▋    | 143/250 [02:28<00:12,  8.86it/s]"
     ]
    },
    {
     "name": "stdout",
     "output_type": "stream",
     "text": [
      "[-0.14868589 -0.19243938  0.36205772 -0.30247533  0.06839816  0.04161604\n",
      "  0.07262013  0.17694685  0.32239047 -0.19095196  0.45732448  0.02952331]\n",
      "[-0.35716864 -0.30659333  0.03974084 -0.31015563  0.23949634 -0.0033691\n",
      "  0.20930886  0.0419159  -0.03492109 -0.00486229  0.22375986 -0.12781432]\n"
     ]
    },
    {
     "name": "stderr",
     "output_type": "stream",
     "text": [
      " 58%|█████▊    | 145/250 [02:28<00:12,  8.37it/s]"
     ]
    },
    {
     "name": "stdout",
     "output_type": "stream",
     "text": [
      "[-0.3937334  -0.18857749 -0.12572108 -0.47835028  0.4376591  -0.07814629\n",
      "  0.3167498  -0.24506734 -0.3448394   0.22626947  0.22463813 -0.23019207]\n",
      "[-0.28982076 -0.22666836 -0.2911011  -0.38507217  0.49892733  0.09110533\n",
      "  0.146726   -0.4727132  -0.6125659   0.31899083  0.4343535  -0.34841937]\n"
     ]
    },
    {
     "name": "stderr",
     "output_type": "stream",
     "text": [
      " 59%|█████▉    | 148/250 [02:28<00:11,  9.23it/s]"
     ]
    },
    {
     "name": "stdout",
     "output_type": "stream",
     "text": [
      "[-2.1242748e-01  5.1601696e-01 -6.8780124e-01  7.9541263e-04\n",
      " -1.8651806e-01 -7.4820274e-01 -5.8526278e-01 -8.6436641e-01\n",
      "  5.8367431e-02  5.3915389e-02  6.6036898e-01 -4.8038688e-01]\n",
      "[ 0.047321    0.87821674 -0.82933855  0.22968735 -0.9293397  -0.9586555\n",
      " -0.9376018  -0.96696335  0.80551386  0.32262322  0.86620593 -0.6955615 ]\n",
      "[ 0.99226344  0.996294   -0.22596885 -0.8104179  -0.97704536 -0.6026299\n",
      " -0.99961036 -0.66288453  0.99504375 -0.60800576  0.88970155 -0.0392205 ]\n"
     ]
    },
    {
     "name": "stderr",
     "output_type": "stream",
     "text": [
      " 60%|██████    | 150/250 [02:28<00:10,  9.76it/s]"
     ]
    },
    {
     "name": "stdout",
     "output_type": "stream",
     "text": [
      "[ 0.9945807   0.9587574   0.5650438  -0.21835858 -0.3114868   0.30820316\n",
      " -0.8827205   0.04600486  0.98426676 -0.71682763  0.7146754   0.21733442]\n",
      "[ 0.5066219   0.04409548  0.7161217  -0.00304918 -0.05795563  0.40453997\n",
      " -0.05842572  0.5326695   0.70713884 -0.2364007   0.5724982   0.2917321 ]\n",
      "[-0.2563812  -0.27704105  0.23950984 -0.42684877  0.20630464  0.01719282\n",
      "  0.11253311  0.03186857  0.16084208 -0.1342996   0.43998325 -0.10208894]\n"
     ]
    },
    {
     "name": "stderr",
     "output_type": "stream",
     "text": [
      " 61%|██████    | 153/250 [02:29<00:09,  9.78it/s]"
     ]
    },
    {
     "name": "stdout",
     "output_type": "stream",
     "text": [
      "[-0.37734094 -0.270969   -0.1806257  -0.22569606  0.31351495 -0.0620538\n",
      "  0.2669026  -0.05105158 -0.15678142  0.08292507  0.13534467 -0.20562688]\n",
      "[-0.35395348 -0.2580887  -0.20323    -0.47389445  0.5688876   0.08110815\n",
      "  0.36327133 -0.40561548 -0.54978704  0.34356114  0.33619896 -0.32432446]\n"
     ]
    },
    {
     "name": "stderr",
     "output_type": "stream",
     "text": [
      " 62%|██████▏   | 155/250 [02:29<00:10,  9.38it/s]"
     ]
    },
    {
     "name": "stdout",
     "output_type": "stream",
     "text": [
      "[-0.21360756  0.33735424 -0.5866269  -0.2696621   0.22876057 -0.42866197\n",
      " -0.44940186 -0.7738847  -0.36833408  0.05925011  0.5470208  -0.39133236]\n",
      "[-0.26756608  0.6735452  -0.7508698   0.36950633 -0.7039488  -0.92041713\n",
      " -0.74644184 -0.9033429   0.5238077   0.01490439  0.72984314 -0.60871935]\n"
     ]
    },
    {
     "name": "stderr",
     "output_type": "stream",
     "text": [
      " 63%|██████▎   | 157/250 [02:29<00:10,  8.53it/s]"
     ]
    },
    {
     "name": "stdout",
     "output_type": "stream",
     "text": [
      "[ 0.92385304  0.97428393 -0.50956565 -0.7137552  -0.97237444 -0.8663932\n",
      " -0.99733025 -0.8817844   0.95662844  0.20503362  0.84825766 -0.5032227 ]\n",
      "[ 0.97186714  0.9182667   0.31758705 -0.5269599  -0.8566456  -0.08334384\n",
      " -0.9799083  -0.28738445  0.95460206 -0.3278411   0.7891502   0.36834338]\n"
     ]
    },
    {
     "name": "stderr",
     "output_type": "stream",
     "text": [
      " 63%|██████▎   | 158/250 [02:29<00:10,  8.60it/s]"
     ]
    },
    {
     "name": "stdout",
     "output_type": "stream",
     "text": [
      "[ 0.86949074  0.44065434  0.57812655 -0.14233057 -0.20932348  0.19783443\n",
      " -0.3931618   0.20661525  0.77018225 -0.34877822  0.6737889   0.11550322]\n",
      "[ 0.05929713 -0.16361623  0.34369352 -0.17744666 -0.02585384  0.0357047\n",
      "  0.03530978  0.1625557   0.29203925 -0.12163319  0.4771231   0.03660141]\n"
     ]
    },
    {
     "name": "stderr",
     "output_type": "stream",
     "text": [
      " 64%|██████▍   | 161/250 [02:29<00:09,  8.91it/s]"
     ]
    },
    {
     "name": "stdout",
     "output_type": "stream",
     "text": [
      "[-0.29006317 -0.24456847 -0.09838738 -0.26671404  0.23065561 -0.05740974\n",
      "  0.22092612 -0.04047763 -0.06327959  0.01364728  0.2053691  -0.17992207]\n",
      "[-0.4331845  -0.09016716 -0.26378572 -0.5258319   0.5010472  -0.06509099\n",
      "  0.39895955 -0.31528103 -0.43984574  0.28340498  0.19886598 -0.29079106]\n"
     ]
    },
    {
     "name": "stderr",
     "output_type": "stream",
     "text": [
      " 65%|██████▌   | 163/250 [02:30<00:09,  8.89it/s]"
     ]
    },
    {
     "name": "stdout",
     "output_type": "stream",
     "text": [
      "[-0.34285608 -0.18709135 -0.3129774  -0.41999552  0.5445547   0.03472698\n",
      "  0.08184803 -0.5292267  -0.64441925  0.24465959  0.46991405 -0.41061658]\n",
      "[-0.2977237   0.5188843  -0.6767502  -0.15466063 -0.11470794 -0.73907316\n",
      " -0.5082404  -0.83697027 -0.04014893  0.1102751   0.6421608  -0.49727806]\n"
     ]
    },
    {
     "name": "stderr",
     "output_type": "stream",
     "text": [
      " 66%|██████▌   | 165/250 [02:30<00:09,  8.57it/s]"
     ]
    },
    {
     "name": "stdout",
     "output_type": "stream",
     "text": [
      "[-0.14078243  0.69320655 -0.70565295  0.35980842 -0.82888025 -0.9079501\n",
      " -0.8184608  -0.9252141   0.71291256  0.04683678  0.7782623  -0.59369034]\n",
      "[ 0.98592585  0.9835695  -0.19537617 -0.70785624 -0.9368234  -0.45649338\n",
      " -0.99839497 -0.6187726   0.9895373  -0.5603279   0.7841673  -0.06575913]\n"
     ]
    },
    {
     "name": "stderr",
     "output_type": "stream",
     "text": [
      " 67%|██████▋   | 168/250 [02:30<00:08,  9.16it/s]"
     ]
    },
    {
     "name": "stdout",
     "output_type": "stream",
     "text": [
      "[ 0.9936705   0.9601923   0.5295413  -0.12342878 -0.18042557  0.33724698\n",
      " -0.8438712   0.05632761  0.9851517  -0.754501    0.76099175  0.17805943]\n",
      "[ 0.4286334   0.02181537  0.6831262  -0.05419249  0.00727859  0.40139732\n",
      " -0.04393952  0.5317746   0.6915254  -0.25771078  0.5008207   0.3167246 ]\n",
      "[-0.22230683 -0.24143755  0.24957131 -0.39782137  0.14362544 -0.01468764\n",
      "  0.10304243  0.05610479  0.21363573 -0.16961583  0.48236433 -0.10040694]\n"
     ]
    },
    {
     "name": "stderr",
     "output_type": "stream",
     "text": [
      " 68%|██████▊   | 170/250 [02:30<00:09,  8.87it/s]"
     ]
    },
    {
     "name": "stdout",
     "output_type": "stream",
     "text": [
      "[-0.283646   -0.2946651  -0.03188283 -0.22317491  0.18864453 -0.02776421\n",
      "  0.19010936 -0.01007128 -0.10203195  0.04221024  0.2610199  -0.16948935]\n",
      "[-0.23713304 -0.18005231 -0.32213905 -0.22008887  0.3122964   0.0325904\n",
      "  0.23712434 -0.286314   -0.42795804  0.26117545  0.22758676 -0.23446722]\n"
     ]
    },
    {
     "name": "stderr",
     "output_type": "stream",
     "text": [
      " 69%|██████▉   | 172/250 [02:31<00:09,  8.67it/s]"
     ]
    },
    {
     "name": "stdout",
     "output_type": "stream",
     "text": [
      "[-0.11262687  0.09182817 -0.5120838  -0.22467557  0.39740053  0.09225076\n",
      " -0.09394342 -0.6152265  -0.5579756   0.2807982   0.4296402  -0.33621186]\n",
      "[-0.02758732  0.77106065 -0.807953   -0.05864932 -0.40224448 -0.8062396\n",
      " -0.6932535  -0.9173445   0.2781952   0.20504378  0.67638755 -0.44260824]\n"
     ]
    },
    {
     "name": "stderr",
     "output_type": "stream",
     "text": [
      " 70%|██████▉   | 174/250 [02:31<00:08,  8.81it/s]"
     ]
    },
    {
     "name": "stdout",
     "output_type": "stream",
     "text": [
      "[ 0.1737511   0.9237655  -0.84617776  0.15967298 -0.9625088  -0.97628003\n",
      " -0.9792863  -0.9646499   0.7966912   0.46874905  0.9110536  -0.7691861 ]\n",
      "[ 0.978485    0.9936819  -0.44812182 -0.81388515 -0.9926108  -0.86018586\n",
      " -0.9995127  -0.76834416  0.97929     0.21262889  0.9400942  -0.26846114]\n"
     ]
    },
    {
     "name": "stderr",
     "output_type": "stream",
     "text": [
      " 70%|███████   | 176/250 [02:31<00:08,  9.02it/s]"
     ]
    },
    {
     "name": "stdout",
     "output_type": "stream",
     "text": [
      "[ 0.8513007   0.739833    0.10713155 -0.1666207  -0.85458225 -0.4750747\n",
      " -0.9513242  -0.54154736  0.87469643 -0.57110894  0.86295897  0.15421195]\n",
      "[ 0.929701    0.61095154  0.6053991  -0.13759767 -0.09394357  0.41723374\n",
      " -0.46389762  0.41938215  0.88046455 -0.25617057  0.73334914  0.22177006]\n"
     ]
    },
    {
     "name": "stderr",
     "output_type": "stream",
     "text": [
      " 71%|███████   | 177/250 [02:31<00:08,  8.97it/s]"
     ]
    },
    {
     "name": "stdout",
     "output_type": "stream",
     "text": [
      "[-0.23445654 -0.24505648  0.27086866 -0.29309127  0.26009715  0.14392829\n",
      "  0.10991731  0.18329881  0.31099612 -0.13162261  0.26321208  0.06482667]\n",
      "[-0.5223498  -0.24786623 -0.08896536 -0.45432204  0.4757044  -0.12319942\n",
      "  0.3529417   0.0241951  -0.12939508  0.20232996  0.14897077 -0.304818  ]\n"
     ]
    },
    {
     "name": "stderr",
     "output_type": "stream",
     "text": [
      " 72%|███████▏  | 180/250 [02:32<00:07,  9.09it/s]"
     ]
    },
    {
     "name": "stdout",
     "output_type": "stream",
     "text": [
      "[-0.5306306  -0.13397649 -0.05059642 -0.4694362   0.55058825 -0.1406423\n",
      "  0.39254326 -0.2876831  -0.32459426  0.25711152  0.15917331 -0.22285928]\n",
      "[-0.3678462  -0.24388644 -0.21700732 -0.48180088  0.5741167   0.0228998\n",
      "  0.18601975 -0.51025736 -0.62210673  0.31237352  0.46274635 -0.3656212 ]\n"
     ]
    },
    {
     "name": "stderr",
     "output_type": "stream",
     "text": [
      " 73%|███████▎  | 182/250 [02:32<00:07,  8.71it/s]"
     ]
    },
    {
     "name": "stdout",
     "output_type": "stream",
     "text": [
      "[-0.3221459   0.18823321 -0.5120937  -0.1645852   0.06444813 -0.55053324\n",
      " -0.30381754 -0.70921856 -0.21197118  0.17690827  0.60065365 -0.41824493]\n",
      "[-0.1384556   0.49032295 -0.5830471   0.35879254 -0.73943883 -0.8433674\n",
      " -0.72731054 -0.8550554   0.60313857 -0.04326054  0.75886977 -0.45234507]\n"
     ]
    },
    {
     "name": "stderr",
     "output_type": "stream",
     "text": [
      " 74%|███████▎  | 184/250 [02:32<00:07,  8.71it/s]"
     ]
    },
    {
     "name": "stdout",
     "output_type": "stream",
     "text": [
      "[ 0.9846106   0.9744207  -0.24565548 -0.57411164 -0.90740454 -0.36561877\n",
      " -0.9975146  -0.5746491   0.9891258  -0.719617    0.80410063  0.01031496]\n",
      "[ 0.99660784  0.97647434  0.41761187 -0.03520611 -0.081664    0.35706934\n",
      " -0.89998657  0.04063961  0.9941515  -0.82828736  0.7868621   0.05613692]\n"
     ]
    },
    {
     "name": "stderr",
     "output_type": "stream",
     "text": [
      " 74%|███████▍  | 186/250 [02:32<00:07,  8.94it/s]"
     ]
    },
    {
     "name": "stdout",
     "output_type": "stream",
     "text": [
      "[ 0.6902705   0.2235423   0.6055969  -0.10757664  0.03498205  0.50792795\n",
      " -0.24699508  0.57313687  0.7623451  -0.34110653  0.3954905   0.31725746]\n",
      "[-0.2170768  -0.22233687  0.38177696 -0.37066668  0.10840969  0.01533641\n",
      "  0.07505137  0.10520895  0.23191723 -0.12008561  0.53914005 -0.08836858]\n"
     ]
    },
    {
     "name": "stderr",
     "output_type": "stream",
     "text": [
      " 75%|███████▌  | 188/250 [02:33<00:06,  9.20it/s]"
     ]
    },
    {
     "name": "stdout",
     "output_type": "stream",
     "text": [
      "[-0.2213297  -0.2802491   0.01911241 -0.23368895  0.1251767  -0.04824846\n",
      "  0.16396767 -0.02234923 -0.04890978  0.01781256  0.33849692 -0.16959244]\n",
      "[-0.16928983 -0.16984197 -0.3306398  -0.0414583   0.20686933  0.01227807\n",
      "  0.17935798 -0.2592226  -0.3485706   0.17364457  0.21410163 -0.21036994]\n"
     ]
    },
    {
     "name": "stderr",
     "output_type": "stream",
     "text": [
      " 76%|███████▌  | 190/250 [02:33<00:06,  9.13it/s]"
     ]
    },
    {
     "name": "stdout",
     "output_type": "stream",
     "text": [
      "[-0.08759225  0.1021933  -0.5095878  -0.19040166  0.3835119   0.18387459\n",
      "  0.03840247 -0.5527046  -0.5519153   0.34686735  0.3507858  -0.30212164]\n",
      "[ 0.02938539  0.79805815 -0.8251074  -0.08102132 -0.38652912 -0.8148511\n",
      " -0.7346577  -0.9352439   0.3160109   0.12505773  0.67065585 -0.45717162]\n"
     ]
    },
    {
     "name": "stderr",
     "output_type": "stream",
     "text": [
      " 77%|███████▋  | 192/250 [02:33<00:06,  8.88it/s]"
     ]
    },
    {
     "name": "stdout",
     "output_type": "stream",
     "text": [
      "[ 0.1275526   0.9074781  -0.81163055  0.20439672 -0.95840496 -0.97519374\n",
      " -0.976938   -0.9595204   0.79665023  0.39033997  0.89946645 -0.7848032 ]\n",
      "[ 0.97921425  0.99329585 -0.38513353 -0.807483   -0.9913867  -0.80844295\n",
      " -0.99946094 -0.7458543   0.9803099   0.21505532  0.9344481  -0.16830312]\n"
     ]
    },
    {
     "name": "stderr",
     "output_type": "stream",
     "text": [
      " 78%|███████▊  | 195/250 [02:33<00:05,  9.61it/s]"
     ]
    },
    {
     "name": "stdout",
     "output_type": "stream",
     "text": [
      "[ 0.8458413   0.73473233  0.11096708 -0.19305505 -0.839934   -0.4645077\n",
      " -0.9453274  -0.47255507  0.8602139  -0.49314722  0.84623784  0.16630815]\n",
      "[ 0.8745933   0.42721066  0.5954766  -0.13368529 -0.02826175  0.38380584\n",
      " -0.33632603  0.45260018  0.83112496 -0.24543923  0.67639786  0.21020973]\n",
      "[-0.38591078 -0.31546268  0.25193253 -0.29531652  0.30684736  0.18449341\n",
      "  0.1868142   0.21590875  0.22162218 -0.07309005  0.11054417  0.09711613]\n"
     ]
    },
    {
     "name": "stderr",
     "output_type": "stream",
     "text": [
      " 79%|███████▉  | 197/250 [02:33<00:05,  9.22it/s]"
     ]
    },
    {
     "name": "stdout",
     "output_type": "stream",
     "text": [
      "[-0.52644193 -0.25667572 -0.02149583 -0.4462454   0.51925236 -0.13185854\n",
      "  0.37286013 -0.03317738 -0.1781099   0.21919094  0.12647381 -0.30902797]\n",
      "[-0.50787014 -0.14893973 -0.10009611 -0.5236199   0.59216416 -0.09377308\n",
      "  0.39049032 -0.39905643 -0.4308394   0.269017    0.25390917 -0.25168884]\n"
     ]
    },
    {
     "name": "stderr",
     "output_type": "stream",
     "text": [
      " 79%|███████▉  | 198/250 [02:34<00:05,  9.01it/s]"
     ]
    },
    {
     "name": "stdout",
     "output_type": "stream",
     "text": [
      "[-0.38185054 -0.23549066 -0.23419167 -0.37753457  0.47013262 -0.11133902\n",
      "  0.06614101 -0.5009947  -0.55175203  0.22943251  0.4781365  -0.33391657]\n",
      "[-0.4094416  -0.08678821 -0.28562593 -0.02764547  0.03354992 -0.5722992\n",
      " -0.2366457  -0.61021113 -0.05782907  0.08615663  0.658307   -0.4416886 ]\n"
     ]
    },
    {
     "name": "stderr",
     "output_type": "stream",
     "text": [
      " 80%|████████  | 201/250 [02:34<00:05,  8.90it/s]"
     ]
    },
    {
     "name": "stdout",
     "output_type": "stream",
     "text": [
      "[ 0.11819173  0.6211085  -0.5794585   0.14011998 -0.79680985 -0.8389592\n",
      " -0.8319892  -0.9075061   0.76564765 -0.18483458  0.7345749  -0.47638804]\n",
      "[ 0.9913811   0.96975523  0.02515967 -0.37035224 -0.77680075 -0.05341399\n",
      " -0.99225044 -0.28728616  0.9888378  -0.72286886  0.7042468   0.24981332]\n"
     ]
    },
    {
     "name": "stderr",
     "output_type": "stream",
     "text": [
      " 81%|████████  | 202/250 [02:34<00:05,  8.80it/s]"
     ]
    },
    {
     "name": "stdout",
     "output_type": "stream",
     "text": [
      "[ 0.99440706  0.9548592   0.46472916 -0.03849288 -0.10273536  0.38708547\n",
      " -0.8470059   0.15237285  0.9901918  -0.7529396   0.76053345  0.06641844]\n",
      "[ 0.61931795  0.17539102  0.51626116 -0.13928483 -0.08523004  0.30160895\n",
      " -0.28523368  0.4761384   0.7134669  -0.42304707  0.5447706   0.27117354]\n"
     ]
    },
    {
     "name": "stderr",
     "output_type": "stream",
     "text": [
      " 82%|████████▏ | 205/250 [02:34<00:05,  8.84it/s]"
     ]
    },
    {
     "name": "stdout",
     "output_type": "stream",
     "text": [
      "[-0.05970237 -0.1420919   0.39049277 -0.33280867 -0.01220394 -0.01811645\n",
      "  0.01188128  0.14343826  0.3641152  -0.23872025  0.57385844 -0.0074973 ]\n",
      "[-0.1970902  -0.2694536   0.17182344 -0.24582413  0.06590217 -0.02333449\n",
      "  0.11883248  0.05256825  0.04885559 -0.02677607  0.3799537  -0.09606773]\n"
     ]
    },
    {
     "name": "stderr",
     "output_type": "stream",
     "text": [
      " 83%|████████▎ | 207/250 [02:35<00:04,  8.89it/s]"
     ]
    },
    {
     "name": "stdout",
     "output_type": "stream",
     "text": [
      "[-0.15970792 -0.18605413 -0.26884782  0.00396207  0.15510844 -0.03137991\n",
      "  0.15562399 -0.1958657  -0.26217028  0.10665483  0.21582285 -0.19879535]\n",
      "[-0.10071012  0.04210337 -0.4717979  -0.22416814  0.38177434  0.2005409\n",
      "  0.14806993 -0.4977264  -0.55115104  0.35957977  0.31451556 -0.30814907]\n",
      "[ 0.01116647  0.7921252  -0.8193667  -0.07194679 -0.35830832 -0.8205314\n",
      " -0.75403357 -0.9343274   0.28323865  0.06708594  0.66525024 -0.47102588]\n"
     ]
    },
    {
     "name": "stderr",
     "output_type": "stream",
     "text": [
      " 84%|████████▍ | 210/250 [02:35<00:04,  8.97it/s]"
     ]
    },
    {
     "name": "stdout",
     "output_type": "stream",
     "text": [
      "[ 0.04118948  0.9115364  -0.82972133  0.31647593 -0.95531607 -0.9800024\n",
      " -0.97313523 -0.9702786   0.83520657  0.32324103  0.8867314  -0.83042765]\n",
      "[ 0.9749311   0.99366117 -0.4784885  -0.8191881  -0.99214876 -0.87261933\n",
      " -0.99951017 -0.8074548   0.97791284  0.3657595   0.9255515  -0.35387847]\n"
     ]
    },
    {
     "name": "stderr",
     "output_type": "stream",
     "text": [
      " 85%|████████▍ | 212/250 [02:35<00:04,  9.21it/s]"
     ]
    },
    {
     "name": "stdout",
     "output_type": "stream",
     "text": [
      "[ 0.6015771   0.75311196 -0.25734556  0.01188695 -0.8994152  -0.7800972\n",
      " -0.9597132  -0.7236364   0.852723   -0.4469032   0.9074899  -0.15138936]\n",
      "[ 0.9500398   0.67616266  0.4899272  -0.1553337  -0.16739215  0.31720805\n",
      " -0.6631819   0.27842832  0.8730755  -0.2273564   0.62971073  0.2600939 ]\n",
      "[-0.1404788  -0.22262491  0.15427624 -0.1505978   0.17477132  0.11615966\n",
      "  0.10496975  0.13942061  0.17399721 -0.04592973  0.12005351  0.07510583]\n"
     ]
    },
    {
     "name": "stderr",
     "output_type": "stream",
     "text": [
      " 86%|████████▌ | 215/250 [02:35<00:03,  9.52it/s]"
     ]
    },
    {
     "name": "stdout",
     "output_type": "stream",
     "text": [
      "[-0.46591756 -0.26252225 -0.00141084 -0.4249763   0.5315893  -0.08661906\n",
      "  0.3590926  -0.13915895 -0.28882945  0.22078162  0.1461688  -0.29847512]\n",
      "[-0.53017384 -0.14189883 -0.11033623 -0.537534    0.6492937  -0.02967094\n",
      "  0.42400864 -0.43322283 -0.51216775  0.30377862  0.27400482 -0.30416772]\n"
     ]
    },
    {
     "name": "stderr",
     "output_type": "stream",
     "text": [
      " 87%|████████▋ | 217/250 [02:36<00:03,  8.76it/s]"
     ]
    },
    {
     "name": "stdout",
     "output_type": "stream",
     "text": [
      "[-0.40444136 -0.21346122 -0.20690185 -0.40848574  0.46336156 -0.21363626\n",
      " -0.08074761 -0.5722246  -0.58591396  0.21957266  0.61556894 -0.45395434]\n",
      "[-0.32850444  0.24159528 -0.53126854  0.22911683 -0.32199627 -0.7781712\n",
      " -0.48019287 -0.8067167   0.31956768 -0.00845623  0.7126653  -0.49213162]\n"
     ]
    },
    {
     "name": "stderr",
     "output_type": "stream",
     "text": [
      " 88%|████████▊ | 219/250 [02:36<00:03,  8.33it/s]"
     ]
    },
    {
     "name": "stdout",
     "output_type": "stream",
     "text": [
      "[ 0.43068695  0.657595   -0.4783385  -0.11936259 -0.8243141  -0.7688383\n",
      " -0.92944324 -0.87050015  0.78453875 -0.19286937  0.7110525  -0.39678326]\n",
      "[ 0.99289376  0.96644175  0.28071192 -0.19396965 -0.5395537   0.11055683\n",
      " -0.9726698  -0.21763363  0.98567265 -0.7275204   0.6595493   0.2713521 ]\n"
     ]
    },
    {
     "name": "stderr",
     "output_type": "stream",
     "text": [
      " 88%|████████▊ | 221/250 [02:36<00:03,  8.50it/s]"
     ]
    },
    {
     "name": "stdout",
     "output_type": "stream",
     "text": [
      "[ 0.9675106   0.79700744  0.5049027   0.00463383 -0.11409944  0.36120325\n",
      " -0.6693941   0.3605526   0.9497209  -0.5287457   0.6496144   0.1020388 ]\n",
      "[ 0.32775873  0.0277658   0.45806938 -0.20575485 -0.11650138  0.0837927\n",
      " -0.19300228  0.2764038   0.5386042  -0.34307754  0.5908465   0.1470117 ]\n"
     ]
    },
    {
     "name": "stderr",
     "output_type": "stream",
     "text": [
      " 89%|████████▉ | 223/250 [02:36<00:03,  8.73it/s]"
     ]
    },
    {
     "name": "stdout",
     "output_type": "stream",
     "text": [
      "[-0.09676178 -0.17261145  0.3476102  -0.3284292  -0.00680589 -0.03487958\n",
      "  0.04701158  0.1171279   0.29401892 -0.1712507   0.5310169  -0.03618305]\n",
      "[-0.21946044 -0.2799441   0.09871784 -0.1759346   0.10210998 -0.01151638\n",
      "  0.12742956  0.04194346 -0.0247043   0.00587114  0.32410294 -0.1088981 ]\n"
     ]
    },
    {
     "name": "stderr",
     "output_type": "stream",
     "text": [
      " 90%|█████████ | 225/250 [02:37<00:02,  8.68it/s]"
     ]
    },
    {
     "name": "stdout",
     "output_type": "stream",
     "text": [
      "[-0.18671356 -0.19471629 -0.26603594 -0.13231003  0.2330225  -0.03463887\n",
      "  0.1919491  -0.22946855 -0.2662888   0.1582823   0.26871318 -0.20941396]\n",
      "[-0.14448446  0.01036705 -0.45591205 -0.19198619  0.34363478  0.103501\n",
      "  0.0390964  -0.5107181  -0.5246485   0.31955785  0.38396338 -0.29565278]\n"
     ]
    },
    {
     "name": "stderr",
     "output_type": "stream",
     "text": [
      " 91%|█████████ | 227/250 [02:37<00:02,  8.49it/s]"
     ]
    },
    {
     "name": "stdout",
     "output_type": "stream",
     "text": [
      "[-0.04449574  0.7152673  -0.78917754  0.06380589 -0.41302276 -0.8195586\n",
      " -0.7127912  -0.91384786  0.29500735  0.07945748  0.67488164 -0.4516906 ]\n",
      "[ 0.22501627  0.91706663 -0.8157245   0.08705027 -0.95905375 -0.9693461\n",
      " -0.9794758  -0.9590588   0.79296064  0.43821213  0.90316135 -0.740082  ]\n"
     ]
    },
    {
     "name": "stderr",
     "output_type": "stream",
     "text": [
      " 92%|█████████▏| 229/250 [02:37<00:02,  8.29it/s]"
     ]
    },
    {
     "name": "stdout",
     "output_type": "stream",
     "text": [
      "[ 0.95747757  0.98996335 -0.46254325 -0.75020534 -0.9888161  -0.8383326\n",
      " -0.99918896 -0.7985      0.9664564   0.18927182  0.93728125 -0.23574065]\n",
      "[ 0.7487663   0.68121207  0.02858005 -0.10754064 -0.8362476  -0.55980426\n",
      " -0.9367805  -0.512979    0.82583046 -0.4905391   0.8514735   0.08420154]\n"
     ]
    },
    {
     "name": "stderr",
     "output_type": "stream",
     "text": [
      " 92%|█████████▏| 231/250 [02:37<00:02,  8.72it/s]"
     ]
    },
    {
     "name": "stdout",
     "output_type": "stream",
     "text": [
      "[ 0.89756966  0.47742727  0.5349813  -0.11256383 -0.01171907  0.37220916\n",
      " -0.42897192  0.42545488  0.83479905 -0.21414685  0.63703865  0.19701271]\n",
      "[-0.38890424 -0.30949256  0.175873   -0.2823762   0.32223472  0.16934964\n",
      "  0.18289545  0.1787802   0.1525789  -0.02748437  0.02202187  0.08851454]\n"
     ]
    },
    {
     "name": "stderr",
     "output_type": "stream",
     "text": [
      " 93%|█████████▎| 233/250 [02:38<00:01,  8.68it/s]"
     ]
    },
    {
     "name": "stdout",
     "output_type": "stream",
     "text": [
      "[-0.52497727 -0.25930098  0.07229358 -0.4996295   0.621342   -0.13460045\n",
      "  0.43602335 -0.17422056 -0.26040545  0.26438564  0.18906501 -0.3458334 ]\n",
      "[-0.49951822 -0.1349487  -0.17141986 -0.47192097  0.5859686  -0.07721841\n",
      "  0.33074066 -0.44465467 -0.47467643  0.22665001  0.25040317 -0.25596935]\n"
     ]
    },
    {
     "name": "stderr",
     "output_type": "stream",
     "text": [
      " 94%|█████████▍| 235/250 [02:38<00:01,  8.72it/s]"
     ]
    },
    {
     "name": "stdout",
     "output_type": "stream",
     "text": [
      "[-0.38673082 -0.25011268 -0.19423825 -0.40315497  0.47337297 -0.16717952\n",
      " -0.00594602 -0.5529178  -0.5652529   0.27778307  0.603415   -0.4298957 ]\n",
      "[-0.27111486  0.3195957  -0.5835775   0.25515407 -0.40315232 -0.79630184\n",
      " -0.51858175 -0.8287336   0.37178028 -0.02490588  0.6949661  -0.46818918]\n"
     ]
    },
    {
     "name": "stderr",
     "output_type": "stream",
     "text": [
      " 95%|█████████▍| 237/250 [02:38<00:01,  8.57it/s]"
     ]
    },
    {
     "name": "stdout",
     "output_type": "stream",
     "text": [
      "[ 0.60359377  0.74666166 -0.44162408 -0.23782773 -0.85796034 -0.7377665\n",
      " -0.9629326  -0.8451103   0.8310908  -0.243408    0.76044965 -0.35612437]\n",
      "[ 0.99552745  0.97689086  0.36207387 -0.16255549 -0.5091312   0.14991434\n",
      " -0.9700568  -0.23856217  0.990487   -0.7785826   0.7100608   0.285912  ]\n"
     ]
    },
    {
     "name": "stderr",
     "output_type": "stream",
     "text": [
      " 96%|█████████▌| 239/250 [02:38<00:01,  9.13it/s]"
     ]
    },
    {
     "name": "stdout",
     "output_type": "stream",
     "text": [
      "[ 0.9719691   0.79921275  0.510466   -0.00292114 -0.12688388  0.41282904\n",
      " -0.6729521   0.46198645  0.956415   -0.46251124  0.6766567   0.13543463]\n",
      "[ 0.40749463  0.08130362  0.3956506  -0.23817967 -0.16337062  0.02331835\n",
      " -0.2555192   0.2487328   0.5525264  -0.37561065  0.6198213   0.13085702]\n"
     ]
    },
    {
     "name": "stderr",
     "output_type": "stream",
     "text": [
      " 96%|█████████▋| 241/250 [02:38<00:01,  8.85it/s]"
     ]
    },
    {
     "name": "stdout",
     "output_type": "stream",
     "text": [
      "[-0.000994   -0.13633123  0.34647885 -0.30513686 -0.09387883 -0.08368762\n",
      "  0.00621981  0.10675649  0.3183308  -0.18243325  0.56723255 -0.03379804]\n",
      "[-0.166925   -0.25911722  0.11275229 -0.15028307  0.08003165 -0.02394515\n",
      "  0.10698521  0.04565099  0.02135708 -0.02367889  0.36329466 -0.10904201]\n"
     ]
    },
    {
     "name": "stderr",
     "output_type": "stream",
     "text": [
      " 97%|█████████▋| 243/250 [02:39<00:00,  8.61it/s]"
     ]
    },
    {
     "name": "stdout",
     "output_type": "stream",
     "text": [
      "[-0.17637296 -0.1537367  -0.30086488 -0.11130233  0.19621773 -0.02590697\n",
      "  0.18600085 -0.22469877 -0.30531737  0.18656757  0.23383027 -0.20909826]\n",
      "[-0.14394824  0.02551043 -0.48671603 -0.1557597   0.40945837  0.1682669\n",
      "  0.08222074 -0.52685434 -0.5496573   0.2913928   0.3380949  -0.30268303]\n"
     ]
    },
    {
     "name": "stderr",
     "output_type": "stream",
     "text": [
      " 98%|█████████▊| 245/250 [02:39<00:00,  8.58it/s]"
     ]
    },
    {
     "name": "stdout",
     "output_type": "stream",
     "text": [
      "[-0.1040623   0.72052735 -0.7847874  -0.19209756 -0.1693421  -0.74326503\n",
      " -0.6371079  -0.8957798   0.04586209  0.06627614  0.60477275 -0.44015983]\n",
      "[-0.22901277  0.834087   -0.76084006  0.4638824  -0.90495586 -0.9620085\n",
      " -0.92906386 -0.9552725   0.8095147   0.02288286  0.8351749  -0.7895547 ]\n"
     ]
    },
    {
     "name": "stderr",
     "output_type": "stream",
     "text": [
      " 99%|█████████▉| 247/250 [02:39<00:00,  8.39it/s]"
     ]
    },
    {
     "name": "stdout",
     "output_type": "stream",
     "text": [
      "[ 0.9842653   0.99122864 -0.27537552 -0.8148661  -0.9820028  -0.67753595\n",
      " -0.9993369  -0.74805963  0.9873626   0.1076842   0.8574977  -0.18207113]\n",
      "[ 0.9708802   0.8400163   0.47163495 -0.33388045 -0.65551347  0.05234361\n",
      " -0.9214596  -0.12971961  0.92430925 -0.51453197  0.67565435  0.3734113 ]\n"
     ]
    },
    {
     "name": "stderr",
     "output_type": "stream",
     "text": [
      "100%|█████████▉| 249/250 [02:39<00:00,  8.50it/s]"
     ]
    },
    {
     "name": "stdout",
     "output_type": "stream",
     "text": [
      "[ 0.54034585  0.04789154  0.59039587 -0.08017347 -0.09424862  0.17527027\n",
      " -0.07014687  0.3739842   0.66857237 -0.29773375  0.6259842   0.17408535]\n",
      "[-0.25780192 -0.2941025   0.34329018 -0.27625692  0.13872913  0.09727278\n",
      "  0.11956962  0.18283124  0.18283394 -0.0490406   0.32712165  0.02390905]\n"
     ]
    },
    {
     "name": "stderr",
     "output_type": "stream",
     "text": [
      "100%|██████████| 250/250 [02:40<00:00,  1.56it/s]\n",
      "/opt/conda/lib/python3.10/site-packages/glfw/__init__.py:916: GLFWError: (65544) b'X11: The DISPLAY environment variable is missing'\n",
      "  warnings.warn(message, GLFWError)\n",
      "/opt/conda/lib/python3.10/site-packages/glfw/__init__.py:916: GLFWError: (65537) b'The GLFW library is not initialized'\n",
      "  warnings.warn(message, GLFWError)\n"
     ]
    },
    {
     "ename": "FatalError",
     "evalue": "an OpenGL platform library has not been loaded into this process, this most likely means that a valid OpenGL context has not been created before mjr_makeContext was called",
     "output_type": "error",
     "traceback": [
      "\u001b[0;31m---------------------------------------------------------------------------\u001b[0m",
      "\u001b[0;31mFatalError\u001b[0m                                Traceback (most recent call last)",
      "Cell \u001b[0;32mIn[13], line 28\u001b[0m\n\u001b[1;32m     25\u001b[0m     \u001b[38;5;28;01mif\u001b[39;00m state\u001b[38;5;241m.\u001b[39mdone:\n\u001b[1;32m     26\u001b[0m         \u001b[38;5;28;01mbreak\u001b[39;00m\n\u001b[0;32m---> 28\u001b[0m media\u001b[38;5;241m.\u001b[39mshow_video(\u001b[43menv\u001b[49m\u001b[38;5;241;43m.\u001b[39;49m\u001b[43mrender\u001b[49m\u001b[43m(\u001b[49m\u001b[43mrollout\u001b[49m\u001b[43m[\u001b[49m\u001b[43m:\u001b[49m\u001b[43m:\u001b[49m\u001b[43mrender_every\u001b[49m\u001b[43m]\u001b[49m\u001b[43m,\u001b[49m\u001b[43m \u001b[49m\u001b[43mcamera\u001b[49m\u001b[38;5;241;43m=\u001b[39;49m\u001b[38;5;124;43m'\u001b[39;49m\u001b[38;5;124;43mside\u001b[39;49m\u001b[38;5;124;43m'\u001b[39;49m\u001b[43m)\u001b[49m, fps\u001b[38;5;241m=\u001b[39m\u001b[38;5;241m1.0\u001b[39m \u001b[38;5;241m/\u001b[39m env\u001b[38;5;241m.\u001b[39mdt \u001b[38;5;241m/\u001b[39m render_every)\n",
      "File \u001b[0;32m/opt/conda/lib/python3.10/site-packages/brax/envs/base.py:208\u001b[0m, in \u001b[0;36mMjxEnv.render\u001b[0;34m(self, trajectory, camera)\u001b[0m\n\u001b[1;32m    204\u001b[0m \u001b[38;5;28;01mdef\u001b[39;00m \u001b[38;5;21mrender\u001b[39m(\n\u001b[1;32m    205\u001b[0m     \u001b[38;5;28mself\u001b[39m, trajectory: List[base\u001b[38;5;241m.\u001b[39mState], camera: Union[\u001b[38;5;28mstr\u001b[39m, \u001b[38;5;28;01mNone\u001b[39;00m] \u001b[38;5;241m=\u001b[39m \u001b[38;5;28;01mNone\u001b[39;00m\n\u001b[1;32m    206\u001b[0m ) \u001b[38;5;241m-\u001b[39m\u001b[38;5;241m>\u001b[39m Sequence[np\u001b[38;5;241m.\u001b[39mndarray]:\n\u001b[1;32m    207\u001b[0m \u001b[38;5;250m  \u001b[39m\u001b[38;5;124;03m\"\"\"Renders a trajectory using the MuJoCo renderer.\"\"\"\u001b[39;00m\n\u001b[0;32m--> 208\u001b[0m   renderer \u001b[38;5;241m=\u001b[39m \u001b[43mmujoco\u001b[49m\u001b[38;5;241;43m.\u001b[39;49m\u001b[43mRenderer\u001b[49m\u001b[43m(\u001b[49m\u001b[38;5;28;43mself\u001b[39;49m\u001b[38;5;241;43m.\u001b[39;49m\u001b[43m_model\u001b[49m\u001b[43m)\u001b[49m\n\u001b[1;32m    209\u001b[0m   camera \u001b[38;5;241m=\u001b[39m camera \u001b[38;5;129;01mor\u001b[39;00m \u001b[38;5;241m-\u001b[39m\u001b[38;5;241m1\u001b[39m\n\u001b[1;32m    211\u001b[0m   \u001b[38;5;28;01mdef\u001b[39;00m \u001b[38;5;21mget_image\u001b[39m(state: mjx\u001b[38;5;241m.\u001b[39mData):\n",
      "File \u001b[0;32m/opt/conda/lib/python3.10/site-packages/mujoco/renderer.py:83\u001b[0m, in \u001b[0;36mRenderer.__init__\u001b[0;34m(self, model, height, width, max_geom)\u001b[0m\n\u001b[1;32m     81\u001b[0m \u001b[38;5;28mself\u001b[39m\u001b[38;5;241m.\u001b[39m_gl_context \u001b[38;5;241m=\u001b[39m gl_context\u001b[38;5;241m.\u001b[39mGLContext(width, height)  \u001b[38;5;66;03m# type: ignore\u001b[39;00m\n\u001b[1;32m     82\u001b[0m \u001b[38;5;28mself\u001b[39m\u001b[38;5;241m.\u001b[39m_gl_context\u001b[38;5;241m.\u001b[39mmake_current()\n\u001b[0;32m---> 83\u001b[0m \u001b[38;5;28mself\u001b[39m\u001b[38;5;241m.\u001b[39m_mjr_context \u001b[38;5;241m=\u001b[39m \u001b[43m_render\u001b[49m\u001b[38;5;241;43m.\u001b[39;49m\u001b[43mMjrContext\u001b[49m\u001b[43m(\u001b[49m\n\u001b[1;32m     84\u001b[0m \u001b[43m    \u001b[49m\u001b[43mmodel\u001b[49m\u001b[43m,\u001b[49m\u001b[43m \u001b[49m\u001b[43m_enums\u001b[49m\u001b[38;5;241;43m.\u001b[39;49m\u001b[43mmjtFontScale\u001b[49m\u001b[38;5;241;43m.\u001b[39;49m\u001b[43mmjFONTSCALE_150\u001b[49m\u001b[38;5;241;43m.\u001b[39;49m\u001b[43mvalue\u001b[49m\n\u001b[1;32m     85\u001b[0m \u001b[43m\u001b[49m\u001b[43m)\u001b[49m\n\u001b[1;32m     86\u001b[0m _render\u001b[38;5;241m.\u001b[39mmjr_setBuffer(\n\u001b[1;32m     87\u001b[0m     _enums\u001b[38;5;241m.\u001b[39mmjtFramebuffer\u001b[38;5;241m.\u001b[39mmjFB_OFFSCREEN\u001b[38;5;241m.\u001b[39mvalue, \u001b[38;5;28mself\u001b[39m\u001b[38;5;241m.\u001b[39m_mjr_context\n\u001b[1;32m     88\u001b[0m )\n\u001b[1;32m     89\u001b[0m \u001b[38;5;28mself\u001b[39m\u001b[38;5;241m.\u001b[39m_mjr_context\u001b[38;5;241m.\u001b[39mreadDepthMap \u001b[38;5;241m=\u001b[39m _enums\u001b[38;5;241m.\u001b[39mmjtDepthMap\u001b[38;5;241m.\u001b[39mmjDEPTH_ZEROFAR\n",
      "\u001b[0;31mFatalError\u001b[0m: an OpenGL platform library has not been loaded into this process, this most likely means that a valid OpenGL context has not been created before mjr_makeContext was called"
     ]
    }
   ],
   "source": [
    "from tqdm import tqdm\n",
    "\n",
    "# define the jit reset/step functions\n",
    "jit_reset = jax.jit(env.reset)\n",
    "jit_step = jax.jit(env.step)\n",
    "jit_inference_fn = jax.jit(make_policy(params, deterministic=True))\n",
    "\n",
    "# initialize the state\n",
    "rng = jax.random.PRNGKey(0)\n",
    "state = jit_reset(rng)\n",
    "rollout = [state.pipeline_state]\n",
    "\n",
    "# grab a trajectory\n",
    "n_steps = 250\n",
    "render_every = 1\n",
    "\n",
    "# might becasue brax does not clip the action to the xml limit in the model\n",
    "for i in tqdm(range(n_steps)):\n",
    "    act_rng, rng = jax.random.split(rng)\n",
    "    ctrl, _ = jit_inference_fn(state.obs, act_rng)\n",
    "    print(ctrl)\n",
    "    state = jit_step(state, ctrl)\n",
    "    rollout.append(state.pipeline_state)\n",
    "\n",
    "    if state.done:\n",
    "        break\n",
    "\n",
    "media.show_video(env.render(rollout[::render_every], camera='side'), fps=1.0 / env.dt / render_every)"
   ]
  },
  {
   "cell_type": "code",
   "execution_count": 17,
   "id": "01accb56-d39b-45ac-b84b-7a43b6c86591",
   "metadata": {
    "tags": []
   },
   "outputs": [],
   "source": [
    "import pickle\n",
    "with open(\"rollout\", \"bw+\") as f:\n",
    "    pickle.dump(rollout, f)"
   ]
  },
  {
   "cell_type": "code",
   "execution_count": null,
   "id": "b65a7d48-087a-468f-91ce-c8a7865ec632",
   "metadata": {},
   "outputs": [],
   "source": []
  }
 ],
 "metadata": {
  "kernelspec": {
   "display_name": "Python 3 (ipykernel)",
   "language": "python",
   "name": "python3"
  },
  "language_info": {
   "codemirror_mode": {
    "name": "ipython",
    "version": 3
   },
   "file_extension": ".py",
   "mimetype": "text/x-python",
   "name": "python",
   "nbconvert_exporter": "python",
   "pygments_lexer": "ipython3",
   "version": "3.10.9"
  }
 },
 "nbformat": 4,
 "nbformat_minor": 5
}
