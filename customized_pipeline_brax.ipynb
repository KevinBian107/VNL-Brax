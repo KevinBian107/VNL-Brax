{
 "cells": [
  {
   "cell_type": "markdown",
   "metadata": {},
   "source": [
    "# `Brax` pipeline adapted from `dm_control`\n",
    "<img src=\"https://github.com/google/brax/raw/main/docs/img/a1.gif\" width=\"200\" height=\"200\"> \n",
    "<img src=\"https://github.com/google/brax/raw/main/docs/img/humanoid_v2.gif\" width=\"200\" height=\"200\"> \n",
    "<img src=\"https://github.com/google/brax/raw/main/docs/img/ant_v2.gif\" width=\"200\" height=\"200\"> \n",
    "<img src=\"https://github.com/google/brax/raw/main/docs/img/ur5e.gif\" width=\"200\" height=\"200\"> \n",
    "\n",
    "dm_control provides a very high level abstraction of Mujoco, which are both implemented by Google Deepmind. **This repository takes a lot of time to parse through it, understand it, and see how each things fit together, but this is very needed as this is the fundamental skills that is needed in research and developing new things:**\n",
    "1. It is the first step towards understanding what you need to do to create.\n",
    "2. It is also generally a good skill to have when learning a very powerful highly abstarcted new tool, parsing through many repository classes, seeing how classes' hierchy is connected and how to find the `right level of abstraction`, seeing inherietence relationships between classes and chasing back all the way to the begining."
   ]
  },
  {
   "cell_type": "markdown",
   "metadata": {},
   "source": [
    "# Linux GPU Rendoring\n",
    "##### These are imports, installation, and switch backends needed for `Linux GPU Rendoring`\n",
    "- osmesa is working, all dependencies are installed, but Mujoco rendoring does not support osmesa, only the other ones, which does have installation issues\n",
    "- specifically the `mujoco.viwer` packages"
   ]
  },
  {
   "cell_type": "code",
   "execution_count": 36,
   "metadata": {},
   "outputs": [],
   "source": [
    "# #@title Colab Only\n",
    "# !pip install brax\n",
    "# !pip install wandb\n",
    "# !pip install mujoco\n",
    "# !pip install dm_control\n",
    "# !command -v ffmpeg >/dev/null || (apt update && apt install -y ffmpeg)\n",
    "# !pip install -q mediapy\n",
    "# !pip install tqdm"
   ]
  },
  {
   "cell_type": "code",
   "execution_count": 71,
   "metadata": {},
   "outputs": [],
   "source": [
    "# import distutils.util\n",
    "# import os\n",
    "# import subprocess\n",
    "\n",
    "# if subprocess.run('nvidia-smi').returncode:\n",
    "#   raise RuntimeError(\n",
    "#       'Cannot communicate with GPU. '\n",
    "#       'Make sure you are using a GPU Colab runtime. '\n",
    "#       'Go to the Runtime menu and select Choose runtime type.')\n",
    "\n",
    "# # Add an ICD config so that glvnd can pick up the Nvidia EGL driver.\n",
    "# # This is usually installed as part of an Nvidia driver package, but the Colab\n",
    "# # kernel doesn't install its driver via APT, and as a result the ICD is missing.\n",
    "# # (https://github.com/NVIDIA/libglvnd/blob/master/src/EGL/icd_enumeration.md)\n",
    "# NVIDIA_ICD_CONFIG_PATH = '/usr/bin/nvidia-smi'\n",
    "# if not os.path.exists(NVIDIA_ICD_CONFIG_PATH):\n",
    "#   with open(NVIDIA_ICD_CONFIG_PATH, 'w') as f:\n",
    "#     f.write(\"\"\"{\n",
    "#     \"file_format_version\" : \"1.0.0\",\n",
    "#     \"ICD\" : {\n",
    "#         \"library_path\" : \"libEGL_nvidia.so.0\"\n",
    "#     }\n",
    "# }\n",
    "# \"\"\")\n",
    "\n",
    "# # Configure MuJoCo to use the EGL rendering backend (requires GPU)\n",
    "# print('Setting environment variable to use GPU rendering:')\n",
    "\n",
    "# !PYOPENGL_PLATFORM=osmesa\n",
    "# %env MUJOCO_GL=osmesa\n",
    "# os.environ['PYOPENGL_PLATFORM'] = 'osmesa'\n",
    "# !pip install --upgrade PyOpenGL PyOpenGL_accelerate"
   ]
  },
  {
   "cell_type": "markdown",
   "metadata": {},
   "source": [
    "# Environment Building\n",
    "References to dm_control implementation of customized environment. These are the super high level libs, locomotion lib should have everything to get a rl agent running in dm control and the mjcf lib should have everything about building a connection class.\n",
    "- [dm_control locomotion lib](https://github.com/google-deepmind/dm_control/tree/main/dm_control/locomotion)\n",
    "- [dm_control mjcf lib](https://github.com/google-deepmind/dm_control/tree/main/dm_control/mjcf)\n",
    "- [dm_control lib](https://github.com/google-deepmind/dm_control/tree/main)\n",
    "- [mujoco](https://mujoco.readthedocs.io/en/3.1.1/overview.html)\n",
    "- [brax](https://github.com/google/brax)"
   ]
  },
  {
   "cell_type": "markdown",
   "metadata": {},
   "source": [
    "# Organization\n",
    "- `locomotion class`\n",
    "  - `arena subclass`\n",
    "    - i.e. corridors -> gap corridors\n",
    "  - `walkers subclass`\n",
    "    - assets (xml)\n",
    "    - i.e. rodent -> rat\n",
    "  - `tasks subclass`\n",
    "    - i.e. jump gaps\n",
    "- `mjcf class`\n",
    "  - class we want to build using idea from corridors\n",
    "- `composer class`\n",
    "  - arena.py/arena.xml provides foundation for `locomotion class`\n",
    "\n",
    "  This really took a quite long time to figure out:\n",
    "  1. We can use `tasks_subclass` by converting it to mjcf model, then MjModel\n",
    "  2. Inherentence can be used to build pur own functions needed in `task`, `arena`, and `walker` (work smart)"
   ]
  },
  {
   "cell_type": "markdown",
   "metadata": {},
   "source": [
    "## Collective Efforts\n",
    "This is a lower level abstraction compare to the previous one, but it is still really high level, calling functions and environental setup that dm_control have already implemented.\n",
    "\n",
    "The skill now is to parse through these very convoluted layers to see the `real idea` behind all the implementation and the `pipeline` of how each things are called. In this way, you can know all the way to the implementation level and then decide on which `level of abstraction` you want to stay on to achieve the purpose you need while fixing minimum things and utilize functions that others have already written to complete your goals so\n",
    ">### You can spend the time on building on top of it and actually doing more useful things to create new innovations instea of doing redendent work. Then later your work may become a function, a abstraction level, that other people call to build more works in the field. This is a collaboration project that takes a collective effort towards a common goal, this is the powerfullness of python libs, to not reinvent the wheels but use the wheels to build the car, to not recreate data structure for storing data but use the data for more things.\n",
    "\n",
    "Therefore, staying on the right level of abstraction and using implemented functions is very important (just like we used brax implementation of ppo, we can use dm_control's implementation of customized env)\n",
    "\n",
    "- Brax mjx -> Mujoco env -> modify using dm_control implemented packages -> dm_control mjcf\n",
    " - On mjx level? on dm_control implemented env sample level? on mjcf level? on xml level?\n",
    "\n",
    " ***Do notice that these things are already at the task level, which is already an execution of (model + environment), the correct level of `abstraction` should be just the background environment level, not the task level, this is the same with brax***"
   ]
  },
  {
   "cell_type": "code",
   "execution_count": 72,
   "metadata": {},
   "outputs": [],
   "source": [
    "from datetime import datetime\n",
    "import functools\n",
    "from IPython.display import HTML\n",
    "import PIL.Image\n",
    "import yaml\n",
    "from typing import List, Dict, Text, Callable, NamedTuple, Optional, Union, Any, Sequence, Tuple\n",
    "from matplotlib import pyplot as plt\n",
    "import mediapy as media\n",
    "import wandb\n",
    "import os\n",
    "\n",
    "import numpy as np\n",
    "\n",
    "from etils import epath\n",
    "from flax import struct\n",
    "from ml_collections import config_dict\n",
    "\n",
    "import mujoco\n",
    "from mujoco import mjx\n",
    "\n",
    "from dm_control import mjcf as mjcf_dm\n",
    "from dm_control import composer\n",
    "from dm_control.locomotion.examples import basic_rodent_2020\n",
    "from dm_control.composer.variation import distributions\n",
    "from dm_control.locomotion.arenas import corridors as corr_arenas\n",
    "from dm_control.locomotion.tasks import corridors as corr_tasks\n",
    "from dm_control.locomotion.walkers import rodent, ant\n",
    "from dm_control import viewer\n",
    "from dm_control import mujoco as mujoco_dm\n",
    "\n",
    "import jax\n",
    "from jax import numpy as jp\n",
    "from brax import base\n",
    "from brax import envs\n",
    "from brax import math\n",
    "from brax.base import Base, Motion, Transform\n",
    "from brax.envs.base import Env, MjxEnv, State\n",
    "from brax.mjx.base import State as MjxState\n",
    "from brax.training.agents.ppo import train as ppo\n",
    "from brax.training.agents.ppo import networks as ppo_networks\n",
    "from brax.io import html, model\n",
    "from brax.io import mjcf as mjcf_brax\n",
    "\n",
    "# !command -v ffmpeg >/dev/null || (apt update && apt install -y ffmpeg)\n",
    "# np.set_printoptions(precision=3, suppress=True, linewidth=100)"
   ]
  },
  {
   "cell_type": "markdown",
   "metadata": {},
   "source": [
    "## `dm_conrol` - Task Level Running\n",
    "This code is directly implementation in the Mujoco framework:\n",
    "\n",
    "There are existing examples of the framework that calls from more basic components of the dm control lib. These examples are already super high level abstractions already"
   ]
  },
  {
   "cell_type": "code",
   "execution_count": 73,
   "metadata": {},
   "outputs": [],
   "source": [
    "_CONTROL_TIMESTEP = .02\n",
    "_PHYSICS_TIMESTEP = 0.001\n",
    "random_state=None\n",
    "\n",
    "walker = rodent.Rat(observable_options={'egocentric_camera': dict(enabled=True)})\n",
    "\n",
    "  # Build a corridor-shaped arena with gaps, where the sizes of the gaps and\n",
    "  # platforms are uniformly randomized.\n",
    "arena = corr_arenas.GapsCorridor(\n",
    "      platform_length=distributions.Uniform(.4, .8),\n",
    "      gap_length=distributions.Uniform(.05, .2),\n",
    "      corridor_width=2,\n",
    "      corridor_length=40,\n",
    "      aesthetic='outdoor_natural')\n",
    "\n",
    "  # Build a task that rewards the agent for running down the corridor at a\n",
    "  # specific velocity.\n",
    "task = corr_tasks.RunThroughCorridor(\n",
    "      walker=walker,\n",
    "      arena=arena,\n",
    "      walker_spawn_position=(5, 0, 0),\n",
    "      walker_spawn_rotation=0,\n",
    "      target_velocity=1.0,\n",
    "      contact_termination=False,\n",
    "      terminate_at_height=-0.3,\n",
    "      physics_timestep=_PHYSICS_TIMESTEP,\n",
    "      control_timestep=_CONTROL_TIMESTEP)\n",
    "\n",
    "env_composed = composer.Environment(time_limit=30,\n",
    "                              task=task,\n",
    "                              random_state=random_state,\n",
    "                              strip_singleton_obs_buffer_dim=True)"
   ]
  },
  {
   "cell_type": "code",
   "execution_count": 74,
   "metadata": {},
   "outputs": [],
   "source": [
    "#viewer.launch(environment_loader=env_composed)"
   ]
  },
  {
   "cell_type": "markdown",
   "metadata": {},
   "source": [
    "# `dm_control` Arena Backbone Level\n",
    "These are just the the backbone skeleton in the [Arena_folder](https://github.com/google-deepmind/dm_control/tree/main/dm_control/locomotion/arenas)\n",
    "- Gap Corridor -> Empty Corridor -> Corridor -> composer.arena -> xml\n",
    "- Rodent -> xml\n",
    "## First Idea:\n",
    "Making the intermediate class that connects the corridor defined environment (corridor environment is in the arena folder, not the task folder)\n",
    "* [Tasks_folder](https://github.com/google-deepmind/dm_control/tree/main/dm_control/locomotion/tasks) is directly running the algorithm already\n",
    "* [Arena_folder](https://github.com/google-deepmind/dm_control/tree/main/dm_control/locomotion/arenas) provides the actual skeleton, this is the correct level of `abstraction` that we are looking for\n",
    "* > ##### Tasks = Walker + Arena\n",
    "\n",
    "> ##### problem: we can not directly use the arena implemented by dm_control nor can we use the walker implemented by dm_control, they are too specifically designed by dm_control\n",
    "\n",
    "## Second Idea:\n",
    "1. Directly build an arena through intuitions from the corriodr class\n",
    "2. Link the rodent or humanoid xml to such environment\n",
    "3. because it is created by the mjcf class in dm_control, we can directly export it as a fix file and it cna be utilized in brax\n",
    "    - essentially we skip some of the really convoluted implementation of dm_control from `tasks -> arena + walker -> composer class -> xml`\n",
    "    - we are directly building it from scratch using `mjcf.RootElement()`\n",
    "4. mjcf model here direcly uses Mujoco, there is no need to initiate another mujoco in brax training loop, we directly pass an model into brax\n",
    "\n",
    "> ##### problem: this is way too inefficient and there should be a much smarter way working with it\n",
    "\n",
    "## Third Idea:\n",
    "1. Seems like that the Corridor class can be directly transfered into a mjcf model by `.to_mjcf_model()`\n",
    "2. Also self implemented a Corridor class that is directly based on `mjcf.RootElement()` and return the model using `.out()` functions\n",
    "3. Try to inherent directly from the Corridor class and assing some more things\n",
    "\n",
    "> ##### problem: so far Inherent class idea is implemented quite well, but binding not assigned\n",
    "\n",
    "## Forth Idea:\n",
    "1. Directly wrap evrything once `binding` is down with the agent and also the environment at the `tasks` level\n",
    "2. task level can also be exported as an mjcf_model file and the same storing as in MjModel once ptr, same with the brax humanoid that was previously implemented in the training loop.\n",
    "3. Created inherietence from task module and the directly bind it to an existing waler construct file (fix ours later)\n",
    "\n",
    "> ##### problem: this `task wrapper binded model` has friction setup that Mujoco does not support"
   ]
  },
  {
   "cell_type": "markdown",
   "metadata": {},
   "source": [
    "# Directly Inherent Class for Brax\n",
    "### Primary Goal:\n",
    "1. Create direct inheritence that from dm_control (`walker, arena, tasks -> wrapper to physics`)\n",
    "2. Build a pipeline for using customization functions from dm_control for brax training by implementing particular classes that we can change to fit our our needs for the `arena`, `walker`, and `tasks binding` (binds walker and arena)."
   ]
  },
  {
   "cell_type": "code",
   "execution_count": 75,
   "metadata": {},
   "outputs": [],
   "source": [
    "class Gap_Vnl(corr_arenas.GapsCorridor):\n",
    "    def _build(self, corridor_width, corridor_length, visible_side_planes, aesthetic, platform_length, gap_length):\n",
    "        super()._build(corridor_width=corridor_width,\n",
    "                       corridor_length=corridor_length,\n",
    "                       visible_side_planes=visible_side_planes,\n",
    "                       aesthetic = aesthetic,\n",
    "                       platform_length = platform_length,\n",
    "                       gap_length = gap_length)\n",
    "\n",
    "        # self.walker = mjcf.from_path(\"./models/rodent_dm_control.xml\")\n",
    "        # # Initiate walker\n",
    "        # self.spawn_pos = (0, 0, 0)\n",
    "        # self.spawn_site =  self._mjcf_root.worldbody.add('site', pos=self.spawn_pos)\n",
    "        # self.spawn_site.attach(self.walker).add('freejoint')\n",
    "    \n",
    "    def regenerate(self, random_state):\n",
    "        super().regenerate(random_state)\n",
    "\n",
    "# Task now just serve as a wrapper\n",
    "class Task_Vnl(corr_tasks.RunThroughCorridor):\n",
    "    def __init__(self,\n",
    "               walker,\n",
    "               arena,\n",
    "               walker_spawn_position):\n",
    "        \n",
    "        # we don't really need the rest of the reward setup in dm_control, just how the walker is attached to the arena\n",
    "        spawn_site =  arena._mjcf_root.worldbody.add('site', pos = walker_spawn_position)\n",
    "        self._arena = arena\n",
    "        self._walker = walker\n",
    "        self._walker.create_root_joints(self._arena.attach(self._walker, attach_site=spawn_site)) # customize starting environment\n",
    "        # Instead of relying on env to instantiate task and bind artificial agent to arena, the task class itself now can bind artificial agent to arena\n",
    "        \n",
    "# class Walker_Vnl(ant):\n",
    "#     def _build(self, name='walker', marker_rgba=None, initializer=None):\n",
    "#         super()._build(initializer=initializer)\n",
    "#         self._appendages_sensors = []\n",
    "#         self._bodies_pos_sensors = []\n",
    "#         self._bodies_quats_sensors = []\n",
    "\n",
    "#         _XML_DIRNAME = os.path.join(os.path.dirname(__file__), '../../third_party/ant')\n",
    "#         _XML_FILENAME = 'ant.xml'\n",
    "\n",
    "#         self._mjcf_root = mjcf_dm.from_path(os.path.join(_XML_DIRNAME, _XML_FILENAME))\n",
    "        \n",
    "#         if name:\n",
    "#             self._mjcf_root.model = name\n",
    "\n",
    "#         # Set corresponding marker color if specified.\n",
    "#         if marker_rgba is not None:\n",
    "#             for geom in self.marker_geoms:\n",
    "#                 geom.set_attributes(rgba=marker_rgba)\n",
    "\n",
    "#         # Initialize previous action.\n",
    "#         self._prev_action = np.zeros(shape=self.action_spec.shape,\n",
    "#                                     dtype=self.action_spec.dtype)\n"
   ]
  },
  {
   "cell_type": "code",
   "execution_count": 76,
   "metadata": {},
   "outputs": [],
   "source": [
    "arena = Gap_Vnl(platform_length=distributions.Uniform(1.5, 2.0),\n",
    "      gap_length=distributions.Uniform(.05, .2),\n",
    "      corridor_width=5, # walker width follows corridor width\n",
    "      corridor_length=40,\n",
    "      aesthetic='outdoor_natural',\n",
    "      visible_side_planes=False)\n",
    "\n",
    "# arena.regenerate(random_state=None)\n",
    "# physics = mjcf_dm.Physics.from_mjcf_model(arena.mjcf_model)\n",
    "# PIL.Image.fromarray(physics.render())\n",
    "\n",
    "walker = ant.Ant(observable_options={'egocentric_camera': dict(enabled=True)})\n",
    "\n",
    "task = Task_Vnl(\n",
    "    walker=walker,\n",
    "    arena=arena,\n",
    "    walker_spawn_position=(5, 0, 0))\n",
    "\n",
    "# we need to bind everything to self.arena because that is the only thing we are putting into the MjModel\n",
    "random_state = np.random.RandomState(123456)\n",
    "task.initialize_episode_mjcf(random_state)\n",
    "\n",
    "physics = mjcf_dm.Physics.from_mjcf_model(task.root_entity.mjcf_model) #.root_entity only returns the arena model, no reward, nothing"
   ]
  },
  {
   "cell_type": "markdown",
   "metadata": {},
   "source": [
    "There is no need to step the environment in dm_control then take the model again like this:\n",
    "- walker_joints = walker.mjcf_model.find_all('joint')\n",
    "- physics.bind(walker_joints).qpos = random_state.uniform(size=len(walker_joints))\n",
    "- task.initialize_episode(physics, random_state) # self.walker position changes\n",
    "- physics2 = mjcf_dm.Physics.from_mjcf_model(task.root_entity.mjcf_model)\n",
    "\n",
    "[This](https://github.com/google-deepmind/dm_control/blob/9e360bf8a069868107e52960a97dcafe2292113f/dm_control/composer/entity.py#L299) is how we fixed this issue, we directly change the attach model calling by giving in a predefined existing location in the mjcf file."
   ]
  },
  {
   "cell_type": "markdown",
   "metadata": {},
   "source": [
    "# Rendering checking states in `dm_control.viewer`"
   ]
  },
  {
   "cell_type": "code",
   "execution_count": 77,
   "metadata": {},
   "outputs": [],
   "source": [
    "# env_composed = composer.Environment(time_limit=50,\n",
    "#                               task=task,\n",
    "#                               random_state=random_state,\n",
    "#                               strip_singleton_obs_buffer_dim=True)\n",
    "# viewer.launch(environment_loader=env_composed)"
   ]
  },
  {
   "cell_type": "markdown",
   "metadata": {},
   "source": [
    "# Rendoring with Mujoco\n",
    "We want to check if the rendoringproblem after entering brax env is caused by the MjModel itself, so we rendor it here directly fitrst to see if it actually works!\n",
    "\n",
    "- From playing around with the rendering in mujoco, we figured out a key idea: ***camera options in the dm_control MjModel is indicated by numerical number***\n",
    "1. -1 is far side view\n",
    "2. 0 is closer side view\n",
    "3. 1 is back view\n",
    "4. 2 is closer back view\n",
    "5. 3 is egocentric view"
   ]
  },
  {
   "cell_type": "code",
   "execution_count": 78,
   "metadata": {},
   "outputs": [
    {
     "data": {
      "text/html": [
       "<table class=\"show_videos\" style=\"border-spacing:0px;\"><tr><td style=\"padding:1px;\"><video controls width=\"320\" height=\"240\" style=\"object-fit:cover;\" loop autoplay muted>\n",
       "      <source src=\"data:video/mp4;base64,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\" type=\"video/mp4\"/>\n",
       "      This browser does not support the video tag.\n",
       "      </video></td></tr></table>"
      ],
      "text/plain": [
       "<IPython.core.display.HTML object>"
      ]
     },
     "metadata": {},
     "output_type": "display_data"
    }
   ],
   "source": [
    "mj_model = physics.model.ptr\n",
    "mj_model.opt.cone = mujoco.mjtCone.mjCONE_PYRAMIDAL\n",
    "\n",
    "mjx_model = mjx.put_model(mj_model)\n",
    "mj_data = mujoco.MjData(mj_model)\n",
    "mjx_data = mjx.put_data(mj_model, mj_data)\n",
    "renderer = mujoco.Renderer(mj_model)\n",
    "\n",
    "# enable joint visualization option:\n",
    "scene_option = mujoco.MjvOption()\n",
    "scene_option.flags[mujoco.mjtVisFlag.mjVIS_JOINT] = True\n",
    "\n",
    "duration = 5  # (seconds)\n",
    "framerate = 60  # (Hz)\n",
    "\n",
    "frames = []\n",
    "mujoco.mj_resetData(mj_model, mj_data)\n",
    "while mj_data.time < duration:\n",
    "  mujoco.mj_step(mj_model, mj_data)\n",
    "  if len(frames) < mj_data.time * framerate:\n",
    "    renderer.update_scene(mj_data, scene_option=scene_option,camera=0)\n",
    "    pixels = renderer.render()\n",
    "    frames.append(pixels)\n",
    "\n",
    "# Simulate and display video.\n",
    "media.show_video(frames, fps=framerate)"
   ]
  },
  {
   "cell_type": "markdown",
   "metadata": {},
   "source": [
    "# Jax stepping version\n",
    "Checksing with Jax stepping"
   ]
  },
  {
   "cell_type": "code",
   "execution_count": 79,
   "metadata": {},
   "outputs": [
    {
     "data": {
      "text/html": [
       "<table class=\"show_videos\" style=\"border-spacing:0px;\"><tr><td style=\"padding:1px;\"><video controls width=\"320\" height=\"240\" style=\"object-fit:cover;\" loop autoplay muted>\n",
       "      <source src=\"data:video/mp4;base64,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\" type=\"video/mp4\"/>\n",
       "      This browser does not support the video tag.\n",
       "      </video></td></tr></table>"
      ],
      "text/plain": [
       "<IPython.core.display.HTML object>"
      ]
     },
     "metadata": {},
     "output_type": "display_data"
    }
   ],
   "source": [
    "jit_step = jax.jit(mjx.step)\n",
    "\n",
    "frames = []\n",
    "mujoco.mj_resetData(mj_model, mj_data)\n",
    "mjx_data = mjx.put_data(mj_model, mj_data)\n",
    "while mjx_data.time < duration:\n",
    "  mjx_data = jit_step(mjx_model, mjx_data)\n",
    "  if len(frames) < mjx_data.time * framerate:\n",
    "    mj_data = mjx.get_data(mj_model, mjx_data)\n",
    "    renderer.update_scene(mj_data, scene_option=scene_option)\n",
    "    pixels = renderer.render()\n",
    "    frames.append(pixels)\n",
    "\n",
    "media.show_video(frames, fps=framerate)"
   ]
  },
  {
   "cell_type": "markdown",
   "metadata": {},
   "source": [
    "# Walker Class Adapted\n",
    "Instead of directly getting the `Mujoco xml` or `mjcf` file, we get it directly by instantiating an customized `dm_control pymjcf` class and then extract it from there directly."
   ]
  },
  {
   "cell_type": "markdown",
   "metadata": {},
   "source": [
    "## State Object in Brax\n",
    "[State Object](https://github.com/google/brax/blob/532a88a030a0761f9c83279cd7c5f028bd5aa320/brax/envs/base.py#L35C1-L43C60) contaisn all information about the environment at a given state, it is in the [environment folder](https://github.com/google/brax/blob/532a88a030a0761f9c83279cd7c5f028bd5aa320/brax/envs/base.py). State object inherent the [Base class](https://github.com/google/brax/blob/532a88a030a0761f9c83279cd7c5f028bd5aa320/brax/base.py#L38).\n",
    "- The State object is not refering to the [MjxState Object](https://github.com/google/brax/blob/532a88a030a0761f9c83279cd7c5f028bd5aa320/brax/mjx/base.py#L22), this is just an intermediate step for data passing\n",
    "- The State object is refering to the [Base.State Object](https://github.com/google/brax/blob/532a88a030a0761f9c83279cd7c5f028bd5aa320/brax/base.py#L397)"
   ]
  },
  {
   "cell_type": "code",
   "execution_count": 80,
   "metadata": {},
   "outputs": [],
   "source": [
    "class State(base.Base):\n",
    "  \"\"\"Environment state for training and inference.\"\"\"\n",
    "  pipeline_state: Optional[base.State]\n",
    "  obs: jax.Array\n",
    "  reward: jax.Array\n",
    "  done: jax.Array\n",
    "  metrics: Dict[str, jax.Array] = struct.field(default_factory=dict)\n",
    "  info: Dict[str, Any] = struct.field(default_factory=dict)"
   ]
  },
  {
   "cell_type": "markdown",
   "metadata": {},
   "source": [
    "## Subtree Object in Mjx\n",
    "Let's look at this line:\n",
    "- `com_before = data0.data.subtree_com[1]`\n",
    "\n",
    "### data0\n",
    "- data0 in the implementation is a [`pipeline_state`](https://github.com/google/brax/blob/532a88a030a0761f9c83279cd7c5f028bd5aa320/brax/envs/base.py#L38) object -> which is a [`mjx.base.State`](https://github.com/google/brax/blob/532a88a030a0761f9c83279cd7c5f028bd5aa320/brax/mjx/base.py#L22) object (transition class)->  data of it is `Mjx.data` format\n",
    "\n",
    "\n",
    "### subtree_com[1]\n",
    "- **Center of Mass (COM)**: This is the point in an object or system of objects where the entire mass can be considered to be concentrated. For physical simulations, especially those involving dynamics and kinematics, calculating the COM is essential for accurately determining how forces and movements will affect the object.\n",
    "\n",
    "- **Subtree**: A subtree refers to a part of the overall tree structure. For a physical body, this might mean a limb or a combination of a limb and its subsequent parts. For example, an entire arm, from shoulder to fingertips, can be considered a subtree of the body."
   ]
  },
  {
   "cell_type": "markdown",
   "metadata": {},
   "source": [
    "## Observe Data Feedback\n",
    "This is all the data feed back from the environment for deternmining any rewards:\n",
    "1. data.qpos - **Position**\n",
    "2. data.qvel - **Velocity**\n",
    "3. data.cinert[1:].ravel() - **Inertia Matrix**\n",
    "4. data.cvel[1:].ravel() - **Velocity of Inertia**\n",
    "5. data.qfrc_actuator **Acutator Forces**\n",
    "\n",
    "\n",
    "\n",
    "### Detailed Observation Components:\n",
    "1. **Position**: Extracts the positions (qpos) of the humanoid body. (If self._exclude_current_positions_from_observation is True, it excludes the first two elements of the position vector. This could be useful if you want to exclude certain position information from the observation.)\n",
    "\n",
    "2. **Velocities**: Appends the velocities (qvel) of the humanoid body.\n",
    "\n",
    "3. **Inertia Matrix**: Appends the inertia matrix (cinert) excluding the first row. (This matrix represents the inertia of the body segments.) Inertia helps to examine the distribution of mass in the humanoid and then calculates the relatyionship it would have with the forces that may be generated to accelerate or deaccelerate\n",
    "\n",
    "4. **Velocity of Inertia**: Appends the velocity of the inertia matrix (cvel) excluding the first row.\n",
    "\n",
    "5. **Actuator Forces**: Appends the actuator forces (qfrc_actuator). Actuators are typically modeled as components that generate forces or torques to drive the movement of joints in a simulated robotic system. These forces or torques are applied to the joints of the simulated body, affecting its motion."
   ]
  },
  {
   "cell_type": "markdown",
   "metadata": {},
   "source": [
    "## Rewards\n",
    "\n",
    "### 3 Main Rewards\n",
    "The reward consists of three parts:\n",
    "- **reward_alive**: Every timestep that the humanoid is alive, it gets a reward of 5.\n",
    "\n",
    "- **forward_reward**: A reward of walking forward which is measured as *1.25 * (average center of mass before action - average center of mass after action) / dt*. *dt* is the time between actions - the default *dt = 0.015*. This reward would be positive if the humanoid walks forward (right) desired. The calculation for the center of mass is defined in the `.py` file for the Humanoid.\n",
    "\n",
    "- **reward_quadctrl**: A negative reward for penalising the humanoid if it has too large of a control force. If there are *nu* actuators/controls, then the control has shape  `nu x 1`. It is measured as *0.1 **x** sum(control<sup>2</sup>)*. ***Essentially control force penalty makes the movement much more realistic***\n",
    "    - Control forces are often the output of a control system or a learned policy (in the case of reinforcement learning), dictating how the entity should move to achieve certain objectives, like walking, jumping, or picking up objects.\n",
    "    - High control forces can lead to aggressive, unstable, or unsafe movements, which might damage the simulated entity or the environment.\n",
    "    - High control forces often result in abrupt, jerky movements that are not only inefficient but can also be unrealistic, especially in simulations aiming to mimic biological movements.\n",
    "\n",
    "### Starting State\n",
    "All observations start in state (0.0, 0.0,  1.4, 1.0, 0.0  ... 0.0) with a uniform noise in the range of [-0.01, 0.01] added to the positional and velocity values (values in the table) for stochasticity. Note that the initial z coordinate is intentionally selected to be high, thereby indicating a standing up humanoid. The initial orientation is designed to make it face forward as well.\n",
    "\n",
    "### Episode Termination\n",
    "The episode terminates when any of the following happens:\n",
    "\n",
    "1. The episode duration reaches a 1000 timesteps\n",
    "2. The z-coordinate of the torso (index 0 in state space OR index 2 in the table) is **not** in the range `[0.8, 2.1]` (the humanoid has fallen or is about to fall beyond recovery)."
   ]
  },
  {
   "cell_type": "code",
   "execution_count": 84,
   "metadata": {},
   "outputs": [],
   "source": [
    "# MjxEnv is directly an API to the Mujoco mjx\n",
    "class Walker(MjxEnv):\n",
    "  '''\n",
    "  This is greatly coustomizable of what reward you want to give: reward engineering\n",
    "  '''\n",
    "  def __init__(\n",
    "      self,\n",
    "      forward_reward_weight=1.25,\n",
    "      ctrl_cost_weight=0.1,\n",
    "      healthy_reward=5.0,\n",
    "      terminate_when_unhealthy=True,\n",
    "      healthy_z_range=(0.0, 1.0), # healthy reward takes care of not falling, this is the contact_termination in dm_control\n",
    "      distance_reward=5.0,\n",
    "      reset_noise_scale=1e-2,\n",
    "      exclude_current_positions_from_observation=True,\n",
    "      **kwargs,):\n",
    "    '''\n",
    "    Defining initilization of the agent\n",
    "    '''\n",
    "\n",
    "    mj_model = physics.model.ptr\n",
    "    # this is directly a mj_model already of type mujoco_py.MjModel (This is already a MJModel, same as previously in brax)\n",
    "    # the original xml load is directly creaing an new MjModel instance, which carries the configuration of everything, including mjtCone\n",
    "    # but this pass in one doesn't, it uses the default mjCONE_PYRAMIDAL, but MjModel now uses the eliptic model, so reset is needed\n",
    "\n",
    "    # solver is an optimization system\n",
    "    mj_model.opt.solver = mujoco.mjtSolver.mjSOL_CG\n",
    "    mj_model.opt.cone = mujoco.mjtCone.mjCONE_PYRAMIDAL # Read documentation\n",
    "\n",
    "    #Iterations for solver\n",
    "    mj_model.opt.iterations = 6\n",
    "    mj_model.opt.ls_iterations = 6\n",
    "\n",
    "    # Defult framne to be 5, but can self define in kwargs\n",
    "    physics_steps_per_control_step = 5\n",
    "    \n",
    "    kwargs['n_frames'] = kwargs.get(\n",
    "        'n_frames', physics_steps_per_control_step)\n",
    "\n",
    "    # Parents inheritence from MjxEnv class\n",
    "    super().__init__(model=mj_model, **kwargs)\n",
    "\n",
    "    # Global vraiable for later calling them\n",
    "    self._forward_reward_weight = forward_reward_weight\n",
    "    self._ctrl_cost_weight = ctrl_cost_weight\n",
    "    self._healthy_reward = healthy_reward\n",
    "    self._terminate_when_unhealthy = terminate_when_unhealthy\n",
    "    self._healthy_z_range = healthy_z_range\n",
    "    self._distance_rewaed = distance_reward\n",
    "    self._reset_noise_scale = reset_noise_scale\n",
    "    self._exclude_current_positions_from_observation = (exclude_current_positions_from_observation)\n",
    "\n",
    "  def reset(self, rng: jp.ndarray) -> State:\n",
    "    \"\"\"Resets the environment to an initial state.\"\"\"\n",
    "\n",
    "    #Creating randome keys\n",
    "    #rng = random number generator key for starting random initiation\n",
    "    rng, rng1, rng2 = jax.random.split(rng, 3)\n",
    "\n",
    "    low, hi = -self._reset_noise_scale, self._reset_noise_scale\n",
    "\n",
    "    #Vectors of generalized joint position in the configuration space\n",
    "    qpos = self.sys.qpos0 + jax.random.uniform(\n",
    "        rng1, (self.sys.nq,), minval=low, maxval=hi\n",
    "    )\n",
    "\n",
    "    #Vectors of generalized joint velocities in the configuration space\n",
    "    qvel = jax.random.uniform(\n",
    "        rng2, (self.sys.nv,), minval=low, maxval=hi\n",
    "    )\n",
    "\n",
    "    data = self.pipeline_init(qpos, qvel)\n",
    "\n",
    "    #Reset everything\n",
    "    obs = self._get_obs(data.data, jp.zeros(self.sys.nu))\n",
    "    reward, done, zero = jp.zeros(3)\n",
    "    metrics = {\n",
    "        'forward_reward': zero,\n",
    "        'reward_linvel': zero,\n",
    "        'reward_quadctrl': zero,\n",
    "        'reward_alive': zero,\n",
    "        'x_position': zero,\n",
    "        'y_position': zero,\n",
    "        'distance_reward': zero,\n",
    "        'distance_from_origin': zero,\n",
    "        'x_velocity': zero,\n",
    "        'y_velocity': zero,\n",
    "    }\n",
    "    return State.replace(data, obs, reward, done, metrics) # State is a big wrapper that contains all information about the environment\n",
    "\n",
    "  def step(self, state: State, action: jp.ndarray) -> State: # push towards another State\n",
    "    \"\"\"Runs one timestep of the environment's dynamics.\"\"\"\n",
    "    #Previous Pipeline\n",
    "    data0 = state.pipeline_state\n",
    "\n",
    "    #Current pipeline state, step 1\n",
    "    #Looking at the documenttaion of pipeline_step, \"->\" means return a modified State\n",
    "    data = self.pipeline_step(data0, action)\n",
    "\n",
    "    #Running forward (Velocity) tracking base on center of mass movement\n",
    "    com_before = data0.data.subtree_com[1]\n",
    "    com_after = data.data.subtree_com[1]\n",
    "    velocity = (com_after - com_before) / self.dt\n",
    "    forward_reward = self._forward_reward_weight * velocity[0]\n",
    "\n",
    "    #Reaching the target location distance\n",
    "    #distance = state.metrics['distance_from_origin']\n",
    "    #distance_reward = [self._distance_rewaed * distance if isinstance(distance, int) else 0]\n",
    "    distance_reward = self._distance_rewaed * velocity[0] * self.dt\n",
    "\n",
    "    #Height being healthy\n",
    "    min_z, max_z = self._healthy_z_range\n",
    "    is_healthy = jp.where(data.q[2] < min_z, 0.0, 1.0)\n",
    "    is_healthy = jp.where(data.q[2] > max_z, 0.0, is_healthy)\n",
    "\n",
    "    #Termination condition\n",
    "    if self._terminate_when_unhealthy:\n",
    "      healthy_reward = self._healthy_reward\n",
    "    else:\n",
    "      healthy_reward = self._healthy_reward * is_healthy\n",
    "\n",
    "    #Control force cost\n",
    "    ctrl_cost = self._ctrl_cost_weight * jp.sum(jp.square(action))\n",
    "\n",
    "    #Feedback from env\n",
    "    obs = self._get_obs(data.data, action)\n",
    "    reward = forward_reward + distance_reward + healthy_reward - ctrl_cost\n",
    "\n",
    "    #Termination State\n",
    "    done = 1.0 - is_healthy if self._terminate_when_unhealthy else 0.0\n",
    "\n",
    "    state.metrics.update(\n",
    "        forward_reward=forward_reward,\n",
    "        reward_linvel=forward_reward,\n",
    "        reward_quadctrl=-ctrl_cost,\n",
    "        reward_alive=healthy_reward,\n",
    "        x_position=com_after[0],\n",
    "        y_position=com_after[1],\n",
    "        distance_reward=distance_reward,\n",
    "        distance_from_origin=jp.linalg.norm(com_after),\n",
    "        x_velocity=velocity[0],\n",
    "        y_velocity=velocity[1],\n",
    "    )\n",
    "    return state.replace(pipeline_state=data, obs=obs, reward=reward, done=done)\n",
    "\n",
    "  def _get_obs(self, data: mjx.Data, action: jp.ndarray) -> jp.ndarray:\n",
    "    \"\"\"Observes humanoid body position, velocities, and angles.\"\"\"\n",
    "    position = data.qpos\n",
    "\n",
    "    if self._exclude_current_positions_from_observation:\n",
    "      position = position[2:]\n",
    "\n",
    "    # external_contact_forces are excluded\n",
    "    # environment observation described later\n",
    "    return jp.concatenate([\n",
    "        position,\n",
    "        data.qvel,\n",
    "        data.cinert[1:].ravel(),\n",
    "        data.cvel[1:].ravel(),\n",
    "        data.qfrc_actuator,\n",
    "    ])"
   ]
  },
  {
   "cell_type": "code",
   "execution_count": 85,
   "metadata": {},
   "outputs": [],
   "source": [
    "# Registering the environment setup in env as humanoid_mjx\n",
    "envs.register_environment('walker', Walker)"
   ]
  },
  {
   "cell_type": "markdown",
   "metadata": {},
   "source": [
    "# Training Configuration\n",
    "This is a direct easy view of some of the most important hyperparametyer tuning that we need todo. Also visit PPO Documentation for more details (https://github.com/google/brax/blob/main/brax/training/agents/ppo/train.py).\n",
    "1. `num_env`:\n",
    "    - Number of environment is refering to the number of parrallel environment that the agent is traine on. In another word, it is how many instances of the registered environment that have being activated and trained in the same time.\n",
    "    - It creates more robust and diverse policy\n",
    "    - Agent learns quicker because it gathers experiences from all of them and just choose the best policy\n",
    "2. `num_timesteps`:\n",
    "    - Total number of interactions that will happen between the agent and environment\n",
    "3. `eval_every`:\n",
    "    - eval_every is the learning time, it is how often do we update the policy parameter. This is the same with the horizon idea N in the pytorch simple version PPO we implemented\n",
    "4. `episode_length`:\n",
    "    - episode length is the number of timesteps that constitute one episode. In here it would be 1000 * 10_000 episodes.\n",
    "5. `num_evals`:\n",
    "    - In total how many evals there are, should be num_timesteps/eval_every\n",
    "6. `batch_size`:\n",
    "    - Batch size is the number of samples extracted from the \"replay buffer\" for calling as previous experiences everytime during bellman equation optimization for 1 batch.\n",
    "    - This 1 batch is used for 1 SGD only, we SGD multiple times with multiple subsamples or \"mini batches\"\n",
    "    - In brax implementation of ppo, it doesn't have an replay buffer, but the idea is the same.\n",
    "7. `num_minibatches`:\n",
    "    - This is how many batches there are by splitting all data in the replay buffer to little chunks\n",
    "    - This is also how many times the SGD is run\n",
    "    - num_batch * batch_size = all_data\n",
    "    - as replay buffer increase, num_minibatches is the same, each batch_size increases\n",
    "8. `unroll_length`:\n",
    "    - The number of timesteps to unroll in each environment. Instead of looking at one time step on the trajectory, unroll_length helps to look at n-steps on the trajectory and collect all the data at once for computational efficiency"
   ]
  },
  {
   "cell_type": "markdown",
   "metadata": {},
   "source": [
    "## Rendoring a Rollout\n",
    "You need `ffmpeg` to render a rollout, mac rendering can avoid the GL error on Linux serevr,  now rendoring on mac works just fine!\n",
    "The environment actually works -> establishes and step successfuly. \n",
    "- For Linux Server rendering, you need to run this pipeline in a Gpu based and having neccessary colab import and installation with handling GL error.\n",
    "\n",
    "dm_control model did implement `camera`, but the name is different from brax's model, so we need to find the specific name for the specific model (camera is usually implemeneted in the walker's xml file, it is not something that is normally directly ccaried by MjModle, but it can be set as well):\n",
    "\n",
    "camera default argument is actually None in brax documentation here in this [line](https://github.com/google/brax/blob/a89322496dcb07ac5a7e002c2e1d287c8c64b7dd/brax/envs/base.py#L205)"
   ]
  },
  {
   "cell_type": "code",
   "execution_count": 88,
   "metadata": {},
   "outputs": [
    {
     "ename": "TypeError",
     "evalue": "dataclass.<locals>.replace() takes 1 positional argument but 5 were given",
     "output_type": "error",
     "traceback": [
      "\u001b[0;31m---------------------------------------------------------------------------\u001b[0m",
      "\u001b[0;31mTypeError\u001b[0m                                 Traceback (most recent call last)",
      "Cell \u001b[0;32mIn[88], line 8\u001b[0m\n\u001b[1;32m      5\u001b[0m jit_step \u001b[38;5;241m=\u001b[39m jax\u001b[38;5;241m.\u001b[39mjit(env\u001b[38;5;241m.\u001b[39mstep)\n\u001b[1;32m      7\u001b[0m \u001b[38;5;66;03m# initialize the state\u001b[39;00m\n\u001b[0;32m----> 8\u001b[0m state \u001b[38;5;241m=\u001b[39m \u001b[43mjit_reset\u001b[49m\u001b[43m(\u001b[49m\u001b[43mjax\u001b[49m\u001b[38;5;241;43m.\u001b[39;49m\u001b[43mrandom\u001b[49m\u001b[38;5;241;43m.\u001b[39;49m\u001b[43mPRNGKey\u001b[49m\u001b[43m(\u001b[49m\u001b[38;5;241;43m0\u001b[39;49m\u001b[43m)\u001b[49m\u001b[43m)\u001b[49m\n\u001b[1;32m     10\u001b[0m \u001b[38;5;66;03m#Creating an container for rollout states\u001b[39;00m\n\u001b[1;32m     11\u001b[0m rollout \u001b[38;5;241m=\u001b[39m [state\u001b[38;5;241m.\u001b[39mpipeline_state]\n",
      "    \u001b[0;31m[... skipping hidden 12 frame]\u001b[0m\n",
      "Cell \u001b[0;32mIn[84], line 89\u001b[0m, in \u001b[0;36mWalker.reset\u001b[0;34m(self, rng)\u001b[0m\n\u001b[1;32m     76\u001b[0m reward, done, zero \u001b[38;5;241m=\u001b[39m jp\u001b[38;5;241m.\u001b[39mzeros(\u001b[38;5;241m3\u001b[39m)\n\u001b[1;32m     77\u001b[0m metrics \u001b[38;5;241m=\u001b[39m {\n\u001b[1;32m     78\u001b[0m     \u001b[38;5;124m'\u001b[39m\u001b[38;5;124mforward_reward\u001b[39m\u001b[38;5;124m'\u001b[39m: zero,\n\u001b[1;32m     79\u001b[0m     \u001b[38;5;124m'\u001b[39m\u001b[38;5;124mreward_linvel\u001b[39m\u001b[38;5;124m'\u001b[39m: zero,\n\u001b[0;32m   (...)\u001b[0m\n\u001b[1;32m     87\u001b[0m     \u001b[38;5;124m'\u001b[39m\u001b[38;5;124my_velocity\u001b[39m\u001b[38;5;124m'\u001b[39m: zero,\n\u001b[1;32m     88\u001b[0m }\n\u001b[0;32m---> 89\u001b[0m \u001b[38;5;28;01mreturn\u001b[39;00m \u001b[43mState\u001b[49m\u001b[38;5;241;43m.\u001b[39;49m\u001b[43mreplace\u001b[49m\u001b[43m(\u001b[49m\u001b[43mdata\u001b[49m\u001b[43m,\u001b[49m\u001b[43m \u001b[49m\u001b[43mobs\u001b[49m\u001b[43m,\u001b[49m\u001b[43m \u001b[49m\u001b[43mreward\u001b[49m\u001b[43m,\u001b[49m\u001b[43m \u001b[49m\u001b[43mdone\u001b[49m\u001b[43m,\u001b[49m\u001b[43m \u001b[49m\u001b[43mmetrics\u001b[49m\u001b[43m)\u001b[49m\n",
      "\u001b[0;31mTypeError\u001b[0m: dataclass.<locals>.replace() takes 1 positional argument but 5 were given"
     ]
    }
   ],
   "source": [
    "env = envs.get_environment(env_name='walker')\n",
    "\n",
    "# define the jit reset/step functions\n",
    "jit_reset = jax.jit(env.reset)\n",
    "jit_step = jax.jit(env.step)\n",
    "\n",
    "# initialize the state\n",
    "state = jit_reset(jax.random.PRNGKey(0))\n",
    "\n",
    "#Creating an container for rollout states\n",
    "rollout = [state.pipeline_state]\n",
    "\n",
    "# grab a trajectory\n",
    "for i in (range(1000)):\n",
    "    ctrl = -0.1 * jp.ones(env.sys.nu)\n",
    "    state = jit_step(state, ctrl)\n",
    "    rollout.append(state.pipeline_state)\n",
    "\n",
    "# media.show_video(env.render(rollout,camera=None), fps=1.0 / env.dt)"
   ]
  },
  {
   "cell_type": "code",
   "execution_count": 87,
   "metadata": {},
   "outputs": [
    {
     "ename": "NameError",
     "evalue": "name 'rollout' is not defined",
     "output_type": "error",
     "traceback": [
      "\u001b[0;31m---------------------------------------------------------------------------\u001b[0m",
      "\u001b[0;31mNameError\u001b[0m                                 Traceback (most recent call last)",
      "Cell \u001b[0;32mIn[87], line 1\u001b[0m\n\u001b[0;32m----> 1\u001b[0m media\u001b[38;5;241m.\u001b[39mshow_video(env\u001b[38;5;241m.\u001b[39mrender(\u001b[43mrollout\u001b[49m,camera\u001b[38;5;241m=\u001b[39m\u001b[38;5;241m1\u001b[39m), fps\u001b[38;5;241m=\u001b[39m\u001b[38;5;241m1.0\u001b[39m \u001b[38;5;241m/\u001b[39m env\u001b[38;5;241m.\u001b[39mdt)\n",
      "\u001b[0;31mNameError\u001b[0m: name 'rollout' is not defined"
     ]
    }
   ],
   "source": [
    "media.show_video(env.render(rollout,camera=1), fps=1.0 / env.dt)"
   ]
  },
  {
   "cell_type": "markdown",
   "metadata": {},
   "source": [
    "## Debugging Logs & Ideas:\n",
    "1. Follow error message and function descriptions, check all the way to `mujoco` render level, then to `brax`\n",
    "2. Ran mujoco rnder separately, `MjModel` is able to render\n",
    "3. brax render uses mujoco render, mujoco render works fine, the `MjModel` should be correct, may be problem with `states` in rollout `trajectory`\n",
    "4. problem probably occur on this [line](https://github.com/google/brax/blob/a89322496dcb07ac5a7e002c2e1d287c8c64b7dd/brax/envs/base.py#L214) where `d` has shape of 8 but renderer only takes in shape of 7\n",
    "5. We may need to define our own rendoring function by shrinking some of the inputting array in `d`\n",
    "6. It may be the env setup for brax here is for humanoid, not for ant (humanoid model in dm_control has mj_mopdel.geo_condim issue (mjx only support geo_condium of 3) and rodent has tendon issue)\n",
    "7. Reimplemented ant using a simpler implementation instead of the complex one, seems like still encounter the issue\n",
    "8. May have to reimplement the walker class first for this to work\n",
    "    - check geom_condim\n",
    "    - check tendon\n",
    "9. The mismatch issue may come from mismatch training loop\n",
    "10. previous wrong understanding, training loop for brax env is correct, wrong looking previously because we direcly load in state, not loading in `.Data`\n",
    "11. indeed it is still this [line](https://github.com/google/brax/blob/a89322496dcb07ac5a7e002c2e1d287c8c64b7dd/brax/envs/base.py#L214) that have error occuring, I implemented the rendoring function step by step and it is at this step the error message `ValueError: could not broadcast input array from shape (8,) into shape (7,)` occurs\n",
    "12. Now actually everything works! Practiced debugging going to really small detailed level and trying out bit by bit."
   ]
  },
  {
   "cell_type": "markdown",
   "metadata": {},
   "source": [
    "### Really getting in-depth understanding\n",
    "What `mjx.get_data` is getting really is the date of one aspect of the rollout, or one state of it `rollout[i]`. so `state.data`"
   ]
  },
  {
   "cell_type": "code",
   "execution_count": null,
   "metadata": {},
   "outputs": [],
   "source": [
    "def render(\n",
    "      self, trajectory: List[base.State], camera: Union[str, None] = None\n",
    "  ) -> Sequence[np.ndarray]:\n",
    "    \"\"\"Renders a trajectory using the MuJoCo renderer.\"\"\"\n",
    "    renderer = mujoco.Renderer(self._model)\n",
    "    camera = camera or -1\n",
    "\n",
    "    def get_image(state: mjx.Data):\n",
    "      d = mjx.get_data(self._model, state) # This line have error occuring, shows same error message\n",
    "      mujoco.mj_forward(self._model, d)\n",
    "      renderer.update_scene(d, camera=camera)\n",
    "      return renderer.render()\n",
    "\n",
    "    return [get_image(s.data) for s in trajectory]  # pytype: disable=attribute-error"
   ]
  },
  {
   "cell_type": "code",
   "execution_count": null,
   "metadata": {},
   "outputs": [],
   "source": [
    "from mujoco.mjx._src import constraint\n",
    "from mujoco.mjx._src import types"
   ]
  },
  {
   "cell_type": "markdown",
   "metadata": {},
   "source": [
    "##### Idea 1: Know which component is which when calling, take important part that is relevant to debugging and then run separately"
   ]
  },
  {
   "cell_type": "code",
   "execution_count": null,
   "metadata": {},
   "outputs": [],
   "source": [
    "# brax renderer level\n",
    "d = rollout[0].data\n",
    "m = mj_model\n",
    "\n",
    "# mjx.get_data level\n",
    "result = mujoco.MjData(mj_model)\n",
    "\n",
    "# mjx.get_data_into level\n",
    "d = jax.device_get(d)\n",
    "batched = isinstance(result, list)\n",
    "batch_size = d.qpos.shape[0] if batched else 1\n",
    "\n",
    "# for i in range(batch_size):\n",
    "#     d_i = jax.tree_map(lambda x, i=i: x[i], d) if batched else d\n",
    "#     result_i = result[i] if batched else result\n",
    "#     efc_active = (d_i.efc_J != 0).any(axis=1)\n",
    "#     nefc = efc_active.sum()\n",
    "#     result_i.efc_J_rownnz[:] = np.repeat(m.nv, nefc)\n",
    "#     result_i.efc_J_rowadr[:] = np.arange(0, nefc * m.nv, m.nv)"
   ]
  },
  {
   "cell_type": "markdown",
   "metadata": {},
   "source": [
    "##### Idea 2: Take out big chunk of the code and try to remove different things to see what is causing the shape error"
   ]
  },
  {
   "cell_type": "code",
   "execution_count": null,
   "metadata": {},
   "outputs": [],
   "source": [
    "ne, nf, nl, nc = constraint.count_constraints(m)\n",
    "efc_type = np.array([\n",
    "    mujoco.mjtConstraint.mjCNSTR_EQUALITY,\n",
    "    mujoco.mjtConstraint.mjCNSTR_FRICTION_DOF,\n",
    "    mujoco.mjtConstraint.mjCNSTR_LIMIT_JOINT,\n",
    "    mujoco.mjtConstraint.mjCNSTR_CONTACT_PYRAMIDAL,\n",
    "]).repeat([ne, nf, nl, nc])\n",
    "\n",
    "dof_i, dof_j = [], []\n",
    "for i in range(m.nv):\n",
    "    j = i\n",
    "while j > -1:\n",
    "    dof_i.append(i)\n",
    "    dof_j.append(j)\n",
    "    j = m.dof_parentid[j]\n",
    "\n",
    "for i in range(batch_size):\n",
    "    d_i = jax.tree_map(lambda x, i=i: x[i], d) if batched else d\n",
    "    result_i = result[i] if batched else result\n",
    "    ncon = (d_i.contact.dist <= 0).sum()\n",
    "    efc_active = (d_i.efc_J != 0).any(axis=1)\n",
    "    efc_con = efc_type == mujoco.mjtConstraint.mjCNSTR_CONTACT_PYRAMIDAL\n",
    "    nefc, nc = efc_active.sum(), (efc_active & efc_con).sum()\n",
    "    result_i.nnzJ = nefc * m.nv\n",
    "    mujoco._functions._realloc_con_efc(result_i, ncon=ncon, nefc=nefc)  # pylint: disable=protected-access\n",
    "    result_i.efc_J_rownnz[:] = np.repeat(m.nv, nefc)\n",
    "    result_i.efc_J_rowadr[:] = np.arange(0, nefc * m.nv, m.nv)\n",
    "    result_i.efc_J_colind[:] = np.tile(np.arange(m.nv), nefc)"
   ]
  },
  {
   "cell_type": "markdown",
   "metadata": {},
   "source": [
    "ValueError: could not broadcast input array from is `np.arange(0, nefc * m.nv, m.nv)` into is `result_i.efc_J_rowadr[:]`\n",
    "\n",
    "***When running the whole structure, the shape seems to match up -> call rendor try -> call mediapy try***"
   ]
  },
  {
   "cell_type": "markdown",
   "metadata": {},
   "source": [
    "##### Idea 3: Separate fundamental functions to examine them separately"
   ]
  },
  {
   "cell_type": "markdown",
   "metadata": {},
   "source": [
    "Seems like the problem lays in this `mjx.get_data` function, which is [here](https://github.com/google-deepmind/mujoco/blob/8be966cdf9073813ec8b494062f4d97848432057/mjx/mujoco/mjx/_src/io.py#L235) and related to the `get_data_into` function, particularly this [line](https://github.com/google-deepmind/mujoco/blob/8be966cdf9073813ec8b494062f4d97848432057/mjx/mujoco/mjx/_src/io.py#L293). I think this is related to [this line's shape problem](https://github.com/google-deepmind/mujoco/blob/8be966cdf9073813ec8b494062f4d97848432057/mjx/mujoco/mjx/_src/io.py#L284C4-L284C47)"
   ]
  },
  {
   "cell_type": "code",
   "execution_count": null,
   "metadata": {},
   "outputs": [],
   "source": [
    "def get_data(\n",
    "    m: mujoco.MjModel, d: types.Data\n",
    ") -> Union[mujoco.MjData, List[mujoco.MjData]]:\n",
    "  \"\"\"Gets mjx.Data from a device, resulting in mujoco.MjData or List[MjData].\"\"\"\n",
    "  batched = len(d.qpos.shape) > 1\n",
    "  batch_size = d.qpos.shape[0] if batched else 1\n",
    "\n",
    "  if batched:\n",
    "    result = [mujoco.MjData(m) for _ in range(batch_size)]\n",
    "  else:\n",
    "    result = mujoco.MjData(m)\n",
    "\n",
    "  get_data_into(result, m, d)\n",
    "\n",
    "  return result"
   ]
  },
  {
   "cell_type": "code",
   "execution_count": null,
   "metadata": {},
   "outputs": [],
   "source": [
    "def get_data_into(\n",
    "    result: Union[mujoco.MjData, List[mujoco.MjData]],\n",
    "    m: mujoco.MjModel,\n",
    "    d: types.Data,\n",
    "):\n",
    "  \"\"\"Gets mjx.Data from a device into an existing mujoco.MjData or list.\"\"\"\n",
    "  batched = isinstance(result, list)\n",
    "  if batched and len(d.qpos.shape) < 2:\n",
    "    raise ValueError('dst is a list, but d is not batched.')\n",
    "  if not batched and len(d.qpos.shape) >= 2:\n",
    "    raise ValueError('dst is a an MjData, but d is batched.')\n",
    "\n",
    "  d = jax.device_get(d)\n",
    "\n",
    "  batch_size = d.qpos.shape[0] if batched else 1\n",
    "  \n",
    "  ne, nf, nl, nc = constraint.count_constraints(m)\n",
    "  efc_type = np.array([\n",
    "      mujoco.mjtConstraint.mjCNSTR_EQUALITY,\n",
    "      mujoco.mjtConstraint.mjCNSTR_FRICTION_DOF,\n",
    "      mujoco.mjtConstraint.mjCNSTR_LIMIT_JOINT,\n",
    "      mujoco.mjtConstraint.mjCNSTR_CONTACT_PYRAMIDAL,\n",
    "  ]).repeat([ne, nf, nl, nc])\n",
    "\n",
    "  dof_i, dof_j = [], []\n",
    "  for i in range(m.nv):\n",
    "    j = i\n",
    "    while j > -1:\n",
    "      dof_i.append(i)\n",
    "      dof_j.append(j)\n",
    "      j = m.dof_parentid[j]\n",
    "\n",
    "  for i in range(batch_size):\n",
    "    d_i = jax.tree_map(lambda x, i=i: x[i], d) if batched else d\n",
    "    result_i = result[i] if batched else result\n",
    "    ncon = (d_i.contact.dist <= 0).sum()\n",
    "    efc_active = (d_i.efc_J != 0).any(axis=1)\n",
    "    efc_con = efc_type == mujoco.mjtConstraint.mjCNSTR_CONTACT_PYRAMIDAL\n",
    "    nefc, nc = efc_active.sum(), (efc_active & efc_con).sum()\n",
    "    result_i.nnzJ = nefc * m.nv\n",
    "    mujoco._functions._realloc_con_efc(result_i, ncon=ncon, nefc=nefc)  # pylint: disable=protected-access\n",
    "    result_i.efc_J_rownnz[:] = np.repeat(m.nv, nefc)\n",
    "    result_i.efc_J_rowadr[:] = np.arange(0, nefc * m.nv, m.nv)\n",
    "    result_i.efc_J_colind[:] = np.tile(np.arange(m.nv), nefc)"
   ]
  },
  {
   "cell_type": "markdown",
   "metadata": {},
   "source": [
    "# Rebdor a Trajectory\n",
    "Rendering now works!"
   ]
  },
  {
   "cell_type": "code",
   "execution_count": null,
   "metadata": {},
   "outputs": [],
   "source": [
    "#@title Load Model and Define Inference Function\n",
    "model_path = './model_checkpoints/brax_ppo_task_finished'\n",
    "params = model.load_params(model_path)"
   ]
  },
  {
   "cell_type": "code",
   "execution_count": null,
   "metadata": {},
   "outputs": [
    {
     "ename": "TypeError",
     "evalue": "Base.__init__() takes 1 positional argument but 6 were given",
     "output_type": "error",
     "traceback": [
      "\u001b[0;31m---------------------------------------------------------------------------\u001b[0m",
      "\u001b[0;31mTypeError\u001b[0m                                 Traceback (most recent call last)",
      "Cell \u001b[0;32mIn[23], line 21\u001b[0m\n\u001b[1;32m     17\u001b[0m     make_policy \u001b[38;5;241m=\u001b[39m brax_networks\u001b[38;5;241m.\u001b[39mmake_inference_fn(ppo_network)\n\u001b[1;32m     19\u001b[0m     \u001b[38;5;28;01mreturn\u001b[39;00m make_policy\n\u001b[0;32m---> 21\u001b[0m make_policy \u001b[38;5;241m=\u001b[39m make_inference_fn(observation_size\u001b[38;5;241m=\u001b[39m\u001b[43menv\u001b[49m\u001b[38;5;241;43m.\u001b[39;49m\u001b[43mobservation_size\u001b[49m, action_size\u001b[38;5;241m=\u001b[39menv\u001b[38;5;241m.\u001b[39maction_size)\n",
      "File \u001b[0;32m~/Desktop/salk/rodent/Brax-Rodent-Run/.venv/lib/python3.10/site-packages/brax/envs/base.py:193\u001b[0m, in \u001b[0;36mMjxEnv.observation_size\u001b[0;34m(self)\u001b[0m\n\u001b[1;32m    190\u001b[0m \u001b[38;5;129m@property\u001b[39m\n\u001b[1;32m    191\u001b[0m \u001b[38;5;28;01mdef\u001b[39;00m \u001b[38;5;21mobservation_size\u001b[39m(\u001b[38;5;28mself\u001b[39m) \u001b[38;5;241m-\u001b[39m\u001b[38;5;241m>\u001b[39m \u001b[38;5;28mint\u001b[39m:\n\u001b[1;32m    192\u001b[0m   rng \u001b[38;5;241m=\u001b[39m jax\u001b[38;5;241m.\u001b[39mrandom\u001b[38;5;241m.\u001b[39mPRNGKey(\u001b[38;5;241m0\u001b[39m)\n\u001b[0;32m--> 193\u001b[0m   reset_state \u001b[38;5;241m=\u001b[39m \u001b[38;5;28;43mself\u001b[39;49m\u001b[38;5;241;43m.\u001b[39;49m\u001b[43munwrapped\u001b[49m\u001b[38;5;241;43m.\u001b[39;49m\u001b[43mreset\u001b[49m\u001b[43m(\u001b[49m\u001b[43mrng\u001b[49m\u001b[43m)\u001b[49m\n\u001b[1;32m    194\u001b[0m   \u001b[38;5;28;01mreturn\u001b[39;00m reset_state\u001b[38;5;241m.\u001b[39mobs\u001b[38;5;241m.\u001b[39mshape[\u001b[38;5;241m-\u001b[39m\u001b[38;5;241m1\u001b[39m]\n",
      "Cell \u001b[0;32mIn[18], line 89\u001b[0m, in \u001b[0;36mWalker.reset\u001b[0;34m(self, rng)\u001b[0m\n\u001b[1;32m     76\u001b[0m reward, done, zero \u001b[38;5;241m=\u001b[39m jp\u001b[38;5;241m.\u001b[39mzeros(\u001b[38;5;241m3\u001b[39m)\n\u001b[1;32m     77\u001b[0m metrics \u001b[38;5;241m=\u001b[39m {\n\u001b[1;32m     78\u001b[0m     \u001b[38;5;124m'\u001b[39m\u001b[38;5;124mforward_reward\u001b[39m\u001b[38;5;124m'\u001b[39m: zero,\n\u001b[1;32m     79\u001b[0m     \u001b[38;5;124m'\u001b[39m\u001b[38;5;124mreward_linvel\u001b[39m\u001b[38;5;124m'\u001b[39m: zero,\n\u001b[0;32m   (...)\u001b[0m\n\u001b[1;32m     87\u001b[0m     \u001b[38;5;124m'\u001b[39m\u001b[38;5;124my_velocity\u001b[39m\u001b[38;5;124m'\u001b[39m: zero,\n\u001b[1;32m     88\u001b[0m }\n\u001b[0;32m---> 89\u001b[0m \u001b[38;5;28;01mreturn\u001b[39;00m \u001b[43mState\u001b[49m\u001b[43m(\u001b[49m\u001b[43mdata\u001b[49m\u001b[43m,\u001b[49m\u001b[43m \u001b[49m\u001b[43mobs\u001b[49m\u001b[43m,\u001b[49m\u001b[43m \u001b[49m\u001b[43mreward\u001b[49m\u001b[43m,\u001b[49m\u001b[43m \u001b[49m\u001b[43mdone\u001b[49m\u001b[43m,\u001b[49m\u001b[43m \u001b[49m\u001b[43mmetrics\u001b[49m\u001b[43m)\u001b[49m\n",
      "\u001b[0;31mTypeError\u001b[0m: Base.__init__() takes 1 positional argument but 6 were given"
     ]
    }
   ],
   "source": [
    "from brax.training.agents.ppo import networks as brax_networks\n",
    "\n",
    "def make_inference_fn(observation_size: int, \n",
    "                      action_size: int, \n",
    "                      normalize_observations: bool = False, \n",
    "                      network_factory_kwargs: Optional[Dict[str, Any]] = None):\n",
    "    \n",
    "    normalize = lambda x, y: x\n",
    "    \n",
    "    ppo_network = brax_networks.make_ppo_networks(\n",
    "        observation_size,\n",
    "        action_size,\n",
    "        preprocess_observations_fn=normalize,\n",
    "        **(network_factory_kwargs or {})\n",
    "        )\n",
    "    \n",
    "    make_policy = brax_networks.make_inference_fn(ppo_network)\n",
    "    \n",
    "    return make_policy\n",
    "\n",
    "make_policy = make_inference_fn(observation_size=env.observation_size, action_size=env.action_size)"
   ]
  },
  {
   "cell_type": "code",
   "execution_count": null,
   "metadata": {},
   "outputs": [],
   "source": [
    "env_name = 'walker'\n",
    "env = envs.create(env_name=env_name)\n",
    "\n",
    "# define the jit reset/step functions\n",
    "jit_reset = jax.jit(env.reset)\n",
    "jit_step = jax.jit(env.step)\n",
    "jit_inference_fn = jax.jit(make_policy(params, deterministic=False))\n",
    "\n",
    "# initialize the state\n",
    "rng = jax.random.PRNGKey(0)\n",
    "state = jit_reset(rng)\n",
    "rollout = [state.pipeline_state]\n",
    "\n",
    "# grab a trajectory\n",
    "n_steps = 1000\n",
    "render_every = 1\n",
    "\n",
    "# might becasue brax does not clip the action to the xml limit in the model\n",
    "for i in (range(n_steps)):\n",
    "    act_rng, rng = jax.random.split(rng)\n",
    "    ctrl, _ = jit_inference_fn(state.obs, act_rng)\n",
    "\n",
    "    state = jit_step(state, ctrl)\n",
    "    rollout.append(state.pipeline_state)\n",
    "\n",
    "    if state.done:\n",
    "        break"
   ]
  },
  {
   "cell_type": "code",
   "execution_count": null,
   "metadata": {},
   "outputs": [
    {
     "data": {
      "text/html": [
       "<table class=\"show_videos\" style=\"border-spacing:0px;\"><tr><td style=\"padding:1px;\"><video controls width=\"320\" height=\"240\" style=\"object-fit:cover;\" loop autoplay muted>\n",
       "      <source src=\"data:video/mp4;base64,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\" type=\"video/mp4\"/>\n",
       "      This browser does not support the video tag.\n",
       "      </video></td></tr></table>"
      ],
      "text/plain": [
       "<IPython.core.display.HTML object>"
      ]
     },
     "metadata": {},
     "output_type": "display_data"
    }
   ],
   "source": [
    "media.show_video(env.render(rollout[::render_every], camera=1), fps=1.0 / env.dt / render_every)"
   ]
  },
  {
   "cell_type": "code",
   "execution_count": null,
   "metadata": {},
   "outputs": [],
   "source": []
  }
 ],
 "metadata": {
  "kernelspec": {
   "display_name": ".venv",
   "language": "python",
   "name": "python3"
  },
  "language_info": {
   "codemirror_mode": {
    "name": "ipython",
    "version": 3
   },
   "file_extension": ".py",
   "mimetype": "text/x-python",
   "name": "python",
   "nbconvert_exporter": "python",
   "pygments_lexer": "ipython3",
   "version": "3.10.9"
  }
 },
 "nbformat": 4,
 "nbformat_minor": 2
}
